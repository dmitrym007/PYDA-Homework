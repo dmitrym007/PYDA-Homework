{
 "cells": [
  {
   "cell_type": "markdown",
   "metadata": {},
   "source": [
    "# Домашнее задание\n",
    "\n",
    "- Скачайте текст войны и мир (ссылка на [github](https://github.com/netology-code/ds3-spring-2018/tree/master/7.%20Time_series/7.4/war_and_peace) и [гугл диск](https://drive.google.com/drive/u/2/folders/1aM7cNI6Qs7AyeYpQ8lNg7vLsHzIl0JbU)). Очистите его, оставив только русские буквы и символы пробела. Постройте матрицу переходных вероятностей. Посчитайте вероятность встретить строку из 4-х символов, которая начинается п, а кончается на р; Используя матрицу переходных вероятностей сгенерируйте слово, начинающееся с буквы \"Б\" и имеющее длину 8-мь символов\n",
    "- Выберите ряд и оцените его через HMM. Попробуйте \"построить\" (через среднее каждой компоненты) наивный прогноз ряда."
   ]
  },
  {
   "cell_type": "code",
   "execution_count": 1,
   "metadata": {},
   "outputs": [],
   "source": [
    "import numpy as np\n",
    "import pandas as pd\n",
    "import re\n",
    "import matplotlib.pyplot as plt\n",
    "import seaborn as sns\n",
    "from hmmlearn import hmm\n",
    "%matplotlib inline"
   ]
  },
  {
   "cell_type": "code",
   "execution_count": 2,
   "metadata": {},
   "outputs": [],
   "source": [
    "def WandP_letters_and_spaces(text):\n",
    "    \"\"\"\n",
    "    Remove all except letters and single spaces\n",
    "    \"\"\"\n",
    "    return re.sub('\\s\\s+|[\\\\n]+',' ', re.sub('[^а-я\\s]','', text))"
   ]
  },
  {
   "cell_type": "code",
   "execution_count": 3,
   "metadata": {},
   "outputs": [],
   "source": [
    "# Объеденим 4 тома\n",
    "text = ''\n",
    "for i in range(1, 5):\n",
    "    with open(f'tom_{i}.txt', 'r', encoding='utf-8') as f:\n",
    "        text += f.read().lower()"
   ]
  },
  {
   "cell_type": "code",
   "execution_count": 4,
   "metadata": {},
   "outputs": [],
   "source": [
    "text = WandP_letters_and_spaces(text)"
   ]
  },
  {
   "cell_type": "code",
   "execution_count": 5,
   "metadata": {},
   "outputs": [],
   "source": [
    "# Кириллица + пробел\n",
    "E = 'абвгдежзийклмнопрстуфхцчшщьыъэюя '\n",
    "POS = {l: i for i, l in enumerate(E)}"
   ]
  },
  {
   "cell_type": "code",
   "execution_count": 6,
   "metadata": {},
   "outputs": [],
   "source": [
    "probabilities = np.zeros((len(E), len(E)))"
   ]
  },
  {
   "cell_type": "code",
   "execution_count": 7,
   "metadata": {},
   "outputs": [
    {
     "data": {
      "text/plain": [
       "2744245"
      ]
     },
     "execution_count": 7,
     "metadata": {},
     "output_type": "execute_result"
    }
   ],
   "source": [
    "len(text)"
   ]
  },
  {
   "cell_type": "code",
   "execution_count": 8,
   "metadata": {},
   "outputs": [],
   "source": [
    "for cp, cn in zip(text[:-1], text[1:]):\n",
    "    probabilities[POS[cp], POS[cn]] += 1"
   ]
  },
  {
   "cell_type": "code",
   "execution_count": 9,
   "metadata": {},
   "outputs": [],
   "source": [
    "# Матрица вероятностей для романа \"Война и мир\"\n",
    "probabilities = (probabilities / probabilities.sum(axis=1)[:, None])"
   ]
  },
  {
   "cell_type": "code",
   "execution_count": 10,
   "metadata": {},
   "outputs": [],
   "source": [
    "df = pd.DataFrame(probabilities, index=(c for c in E), columns=(c for c in E))"
   ]
  },
  {
   "cell_type": "code",
   "execution_count": 11,
   "metadata": {},
   "outputs": [
    {
     "data": {
      "image/png": "[encoded data removed]",
      "text/plain": [
       "<Figure size 1008x576 with 2 Axes>"
      ]
     },
     "metadata": {
      "needs_background": "light"
     },
     "output_type": "display_data"
    }
   ],
   "source": [
    "plt.figure(figsize=(14,8))\n",
    "sns.heatmap(df)\n",
    "plt.show()"
   ]
  },
  {
   "cell_type": "markdown",
   "metadata": {},
   "source": [
    "Чаще всего в романе встречаются буквы: 'е', 'о', 'а', 'и', а также пробел. Также из графика видно, что часто встречается сочетание букв 'эт'."
   ]
  },
  {
   "cell_type": "markdown",
   "metadata": {},
   "source": [
    "Формулы для вычисления вероятности перехода из одного состояния в другое в однородных марковских цепях.  \n",
    "Также формула для вычисления вероятности слова из романа, состоящего из 4-х букв, начинающегося на 'п' и заканчивающегося буквой 'р'. Т.к. определяется вероятность слова, то по краям должны находиться пробелы."
   ]
  },
  {
   "cell_type": "markdown",
   "metadata": {},
   "source": [
    "$$P(X_n=j|X_0=i)=\\dfrac{P(X_n=j,X_0=i)}{P(X_0=i)}=\\sum \\limits_{i_0,…,i_{n−1} \\in E} \\dfrac{P(X_0=i, X_1=i_1,...,X_{n-1}=i_{n-1}, X_n = j)}{P(X_0=i)}=\\sum \\limits_{i_0,…,i_{n−1} \\in E} p_{ii_1}...p_{i_{n-1}j}$$  \n",
    "  \n",
    "\n",
    "  \n",
    "  \n",
    "  \n",
    "  \n",
    "$$P(X_5=`space`, X_4=`р`|X_1=`п`, X_0=`space`)=$$  \n",
    "$$=\\dfrac{P(X_0=i_0=i=`space`, X_1=i_1=`п`, X_2=i_2, X_3=i_3, X_4=i_4=`р`, X_5=i_5=j=`space`)}{P(X_0=`space`)}=$$  \n",
    "$$=P(X_1=`п`|X_0=`space`)P(X_5=`space`|X_4=`р`)P(X_1=i_1=`п`, X_2=i_2, X_3=i_3, X_4=i_4=`р`)=$$  \n",
    "$$=p_{ii_1}p_{i_4j}\\cdot\\sum \\limits_{i_1,…,i_4 \\in E} p_{i_1i_2}p_{i_2i_3}p_{i_3i_4},$$  \n",
    "где события $i=j=`space`, i_1=`п`, i_4=`р`$"
   ]
  },
  {
   "cell_type": "code",
   "execution_count": 12,
   "metadata": {},
   "outputs": [],
   "source": [
    "first = last = ' '\n",
    "second = 'п'\n",
    "penult = 'р'\n",
    "prob = 0\n",
    "p_i_i1 = probabilities[POS[first], POS[second]]\n",
    "p_i4_j = probabilities[POS[penult], POS[last]]\n",
    "for i_1 in E:\n",
    "    p_i1_i2 = probabilities[POS[second], POS[i_1]]\n",
    "    for i_2 in E:\n",
    "        p_i2_i3 = probabilities[POS[i_1], POS[i_2]]\n",
    "        for i_3 in E:\n",
    "            p_i3_i4 = probabilities[POS[i_3], POS[penult]]\n",
    "            prob += p_i_i1 * p_i1_i2 * p_i2_i3* p_i3_i4 * p_i4_j"
   ]
  },
  {
   "cell_type": "code",
   "execution_count": 13,
   "metadata": {},
   "outputs": [
    {
     "data": {
      "text/plain": [
       "0.004039969554123586"
      ]
     },
     "execution_count": 13,
     "metadata": {},
     "output_type": "execute_result"
    }
   ],
   "source": [
    "prob"
   ]
  },
  {
   "cell_type": "markdown",
   "metadata": {},
   "source": [
    "Вероятность для слова 'п--р' 0.004%. "
   ]
  },
  {
   "cell_type": "markdown",
   "metadata": {},
   "source": [
    "---"
   ]
  },
  {
   "cell_type": "markdown",
   "metadata": {},
   "source": [
    "Сгенерируем 8 символов, включая пробелы, начинающиеся на букву 'б'."
   ]
  },
  {
   "cell_type": "code",
   "execution_count": 14,
   "metadata": {},
   "outputs": [
    {
     "name": "stdout",
     "output_type": "stream",
     "text": [
      "бнорудаг\n"
     ]
    }
   ],
   "source": [
    "length = 7\n",
    "first = 'б'\n",
    "word = first\n",
    "for i in range(length):\n",
    "    cp_ind = POS[word[-1]]\n",
    "    c_next = np.random.choice(list(E), p=probabilities[cp_ind])\n",
    "    word += c_next\n",
    "\n",
    "print(word)"
   ]
  },
  {
   "cell_type": "markdown",
   "metadata": {},
   "source": [
    "Сгенерируем слово из 8 букв (без пробелов), начинающееся на букву 'б'."
   ]
  },
  {
   "cell_type": "code",
   "execution_count": 15,
   "metadata": {},
   "outputs": [],
   "source": [
    "A = probabilities[0:32, 0:32]\n",
    "B = probabilities[:-1, -1]/32\n",
    "C = np.array([B for i in range(32)]).transpose()\n",
    "probabilities_new = A + C"
   ]
  },
  {
   "cell_type": "code",
   "execution_count": 16,
   "metadata": {},
   "outputs": [
    {
     "name": "stdout",
     "output_type": "stream",
     "text": [
      "бшиэтобы\n"
     ]
    }
   ],
   "source": [
    "length = 7\n",
    "first = 'б'\n",
    "word = first\n",
    "for i in range(length):\n",
    "    cp_ind = POS[word[-1]]\n",
    "    c_next = np.random.choice(list(E[:-1]), p=probabilities_new[cp_ind])\n",
    "    word += c_next\n",
    "\n",
    "print(word)"
   ]
  },
  {
   "cell_type": "markdown",
   "metadata": {},
   "source": [
    "---"
   ]
  },
  {
   "cell_type": "markdown",
   "metadata": {},
   "source": [
    "Для оценки марковской модели с переключениями возьмём ряд закрытия индексов Доу-Джонса. Оценим ряд и сделаем наивный прогноз. "
   ]
  },
  {
   "cell_type": "code",
   "execution_count": 17,
   "metadata": {},
   "outputs": [],
   "source": [
    "series = pd.read_csv('C:/Users/User/Desktop/Data Scientist/AML/Time_Series/Series/weekly-closings-of-the-dowjones-.csv')['Close']"
   ]
  },
  {
   "cell_type": "code",
   "execution_count": 18,
   "metadata": {},
   "outputs": [],
   "source": [
    "values = series.values.reshape(-1,1)"
   ]
  },
  {
   "cell_type": "code",
   "execution_count": 19,
   "metadata": {},
   "outputs": [
    {
     "name": "stdout",
     "output_type": "stream",
     "text": [
      "1 -894.2620483582102\n",
      "2 -820.6341453620573\n",
      "3 -786.8374189914167\n",
      "4 -752.0201472668964\n",
      "5 -737.118111193092\n",
      "6 -729.5671112589449\n",
      "7 -713.7233991717006\n",
      "8 -702.1073061994873\n",
      "9 -690.9838068209652\n",
      "10 -691.3313489290508\n"
     ]
    },
    {
     "name": "stderr",
     "output_type": "stream",
     "text": [
      "Fitting a model with 167 free scalar parameters with only 162 data points will result in a degenerate solution.\n"
     ]
    },
    {
     "name": "stdout",
     "output_type": "stream",
     "text": [
      "11 -679.0462088267415\n"
     ]
    },
    {
     "name": "stderr",
     "output_type": "stream",
     "text": [
      "Fitting a model with 194 free scalar parameters with only 162 data points will result in a degenerate solution.\n"
     ]
    },
    {
     "name": "stdout",
     "output_type": "stream",
     "text": [
      "12 -675.3629978088527\n"
     ]
    },
    {
     "name": "stderr",
     "output_type": "stream",
     "text": [
      "Fitting a model with 223 free scalar parameters with only 162 data points will result in a degenerate solution.\n"
     ]
    },
    {
     "name": "stdout",
     "output_type": "stream",
     "text": [
      "13 -659.7217307627243\n",
      "14 -650.5368661368848\n"
     ]
    }
   ],
   "source": [
    "for n in range(1, 15):\n",
    "    model = hmm.GaussianHMM(n_components=n,\n",
    "                        covariance_type=\"diag\",\n",
    "                        n_iter=1000)\n",
    "    model.fit(values)\n",
    "    print (n, model.score(values))"
   ]
  },
  {
   "cell_type": "code",
   "execution_count": 20,
   "metadata": {},
   "outputs": [
    {
     "name": "stderr",
     "output_type": "stream",
     "text": [
      "Fitting a model with 223 free scalar parameters with only 162 data points will result in a degenerate solution.\n"
     ]
    },
    {
     "data": {
      "image/png": "[encoded data removed]",
      "text/plain": [
       "<Figure size 864x432 with 1 Axes>"
      ]
     },
     "metadata": {
      "needs_background": "light"
     },
     "output_type": "display_data"
    }
   ],
   "source": [
    "model = hmm.GaussianHMM(n_components=14,\n",
    "                        covariance_type='diag',\n",
    "                        n_iter=1000)\n",
    "model.fit(values)\n",
    "labels = model.predict(values)\n",
    "means = np.zeros_like(values)\n",
    "for i in range(model.n_components):\n",
    "    means[labels == i] = model.means_[i]\n",
    "\n",
    "X, Z = model.sample(50)\n",
    "forecast = np.empty_like(series)\n",
    "forecast[:] = np.nan\n",
    "forecast = np.append(forecast, X)\n",
    "\n",
    "plt.figure(figsize=(12, 6))\n",
    "plt.plot(values, 'r', label='actual')\n",
    "plt.plot(means, 'b', label='HMM_learning')\n",
    "plt.plot(forecast, 'g', label='HMM_forecasting')\n",
    "plt.legend(loc='best')\n",
    "plt.title(\"HMM model forecast\")\n",
    "plt.grid(True);"
   ]
  }
 ],
 "metadata": {
  "kernelspec": {
   "display_name": "Python 3",
   "language": "python",
   "name": "python3"
  },
  "language_info": {
   "codemirror_mode": {
    "name": "ipython",
    "version": 3
   },
   "file_extension": ".py",
   "mimetype": "text/x-python",
   "name": "python",
   "nbconvert_exporter": "python",
   "pygments_lexer": "ipython3",
   "version": "3.7.6"
  }
 },
 "nbformat": 4,
 "nbformat_minor": 4
}
