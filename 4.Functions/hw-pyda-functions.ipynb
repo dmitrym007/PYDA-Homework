{
 "cells": [
  {
   "cell_type": "markdown",
   "metadata": {},
   "source": [
    "Вы работаете секретарем и вам постоянно приходят различные документы. Вы должны быть очень внимательны, чтобы не потерять ни один документ. Каталог документов хранится в следующем виде:"
   ]
  },
  {
   "cell_type": "code",
   "execution_count": 1,
   "metadata": {},
   "outputs": [],
   "source": [
    "documents = [\n",
    "    {'type': 'passport', 'number': '2207 876234', 'name': 'Василий Гупкин'},\n",
    "    {'type': 'invoice', 'number': '11-2', 'name': 'Геннадий Покемонов'},\n",
    "    {'type': 'insurance', 'number': '10006', 'name': 'Аристарх Павлов'}\n",
    "]"
   ]
  },
  {
   "cell_type": "markdown",
   "metadata": {},
   "source": [
    "Перечень полок, на которых находятся документы хранится в следующем виде:"
   ]
  },
  {
   "cell_type": "code",
   "execution_count": 2,
   "metadata": {},
   "outputs": [],
   "source": [
    "directories = {\n",
    "    '1': ['2207 876234', '11-2'],\n",
    "    '2': ['10006'],\n",
    "    '3': []\n",
    "}"
   ]
  },
  {
   "cell_type": "markdown",
   "metadata": {},
   "source": [
    "\n",
    "\n",
    "Необходимо реализовать пользовательские команды (внимание! это не название функций, которые должны быть выразительными, а команды, которые вводит пользователь, чтобы получить необходимый результат):\n",
    "\n",
    "    p – people – команда, которая спросит номер документа и выведет имя человека, которому он принадлежит;\n",
    "    s – shelf – команда, которая спросит номер документа и выведет номер полки, на которой он находится\n",
    "    Правильно обработайте ситуации, когда пользователь будет вводить несуществующий документ.\n",
    "    l – list – команда, которая выведет список всех документов в формате\n",
    "    passport \"2207 876234\" \"Василий Гупкин\"\n",
    "    as – add shelf – команда, которая спросит номер новой полки и добавит ее в перечень. Предусмотрите случай, когда пользователь добавляет полку, которая уже существует.\n",
    "    d – delete – команда, которая спросит номер документа и удалит его из каталога и из перечня полок. Предусмотрите сценарий, когда пользователь вводит несуществующий документ;\n",
    "    m – move – команда, которая спросит номер документа и целевую полку и переместит его с текущей полки на целевую. Корректно обработайте кейсы, когда пользователь пытается переместить несуществующий документ или переместить документ на несуществующую полку;\n",
    "    a – add – команда, которая добавит новый документ в каталог и в перечень полок, спросив его номер, тип, имя владельца и номер полки, на котором он будет храниться. Корректно обработайте ситуацию, когда пользователь будет пытаться добавить документ на несуществующую полку.\n"
   ]
  },
  {
   "cell_type": "code",
   "execution_count": 3,
   "metadata": {},
   "outputs": [],
   "source": [
    "def doc_presence(number, name=0):\n",
    "    \"\"\"\n",
    "    The function returns 'True' if the document number is in the list\n",
    "    If the second argument is 1: the function prints the name according to the document number\n",
    "    If the second argument is 2: the function remove the document from the list and shelf\n",
    "    If the second argument is 3: the function prints in which shelf the document is\n",
    "    The function prints 'There is no document with this number' if the number is not in the list\n",
    "    \"\"\"\n",
    "    f = True\n",
    "    if name == 0 or name == 1 or name ==2:\n",
    "        for doc in documents:\n",
    "            if doc['number'] == number:\n",
    "                if name == 0:                \n",
    "                    return True\n",
    "                elif name == 1:\n",
    "                    f = False\n",
    "                    print(doc['name'])\n",
    "                elif name == 2:\n",
    "                    f = False\n",
    "                    documents.remove(doc)\n",
    "        if f:\n",
    "            print('There is no document with this number')\n",
    "    elif name == 3:\n",
    "        for shelf, doc in directories.items():\n",
    "            if number in doc:\n",
    "                f = False\n",
    "                print(f'The document with number {number} is in the shelf #{shelf}')\n",
    "        if f:\n",
    "            print('There is no document with this number')"
   ]
  },
  {
   "cell_type": "code",
   "execution_count": 4,
   "metadata": {},
   "outputs": [],
   "source": [
    "def people():\n",
    "    doc_number = input('Enter the document number:')\n",
    "    doc_presence(doc_number,1)"
   ]
  },
  {
   "cell_type": "code",
   "execution_count": 5,
   "metadata": {},
   "outputs": [],
   "source": [
    "def shelf():\n",
    "    doc_number = input('Enter the document number:')\n",
    "    doc_presence(doc_number,3)"
   ]
  },
  {
   "cell_type": "code",
   "execution_count": 6,
   "metadata": {},
   "outputs": [],
   "source": [
    "def doc_list():\n",
    "    for doc in documents:\n",
    "        print(doc['type'], doc['number'], doc['name'])"
   ]
  },
  {
   "cell_type": "code",
   "execution_count": 7,
   "metadata": {},
   "outputs": [],
   "source": [
    "def add_shelf():\n",
    "    new_shelf = input('Enter a new shelf number:')\n",
    "    if new_shelf in directories:\n",
    "        print('This shelf number already exists')\n",
    "    else:\n",
    "        directories[new_shelf] = []"
   ]
  },
  {
   "cell_type": "code",
   "execution_count": 8,
   "metadata": {},
   "outputs": [],
   "source": [
    "def del_shelf_doc(doc_number):\n",
    "    for shelf_docs in directories.values():\n",
    "        if doc_number in shelf_docs:\n",
    "            shelf_docs.remove(doc_number)"
   ]
  },
  {
   "cell_type": "code",
   "execution_count": 9,
   "metadata": {},
   "outputs": [],
   "source": [
    "def del_doc():\n",
    "    doc_number = input('Enter the document number:')\n",
    "    doc_presence(doc_number,2)\n",
    "    del_shelf_doc(doc_number)"
   ]
  },
  {
   "cell_type": "code",
   "execution_count": 10,
   "metadata": {},
   "outputs": [],
   "source": [
    "def move():\n",
    "    doc_number = input('Enter the document number you want to move:')\n",
    "    if not doc_presence(doc_number):\n",
    "        return\n",
    "    else:\n",
    "        new_shelf = input('Enter the shelf number you want to move the document:')\n",
    "        if new_shelf in directories:\n",
    "            del_shelf_doc(doc_number)\n",
    "            directories[new_shelf] += [doc_number]\n",
    "        else:\n",
    "            print('There is no shelf with this number')"
   ]
  },
  {
   "cell_type": "code",
   "execution_count": 11,
   "metadata": {},
   "outputs": [],
   "source": [
    "def add():\n",
    "    doc_type = input('Enter the type of the document:')\n",
    "    doc_number = input('Enter the document number:')\n",
    "    doc_name = input('Enter the name:')\n",
    "    doc_shelf = input('Enter the shelf number you want to place the document:')\n",
    "    if doc_shelf not in directories:\n",
    "        print(f'There is no shelf with number {doc_shelf}')\n",
    "    else:\n",
    "        documents.append({'type': doc_type, 'number': doc_number, 'name': doc_name})\n",
    "        directories[doc_shelf] += [doc_number]"
   ]
  },
  {
   "cell_type": "code",
   "execution_count": 13,
   "metadata": {},
   "outputs": [],
   "source": [
    "def main(data):\n",
    "    if data == 'p':\n",
    "        people()\n",
    "    elif data == 's':\n",
    "        shelf()\n",
    "    elif data == 'l':\n",
    "        doc_list()\n",
    "    elif data == 'as':\n",
    "        add_shelf()\n",
    "    elif data == 'd':\n",
    "        del_doc()\n",
    "    elif data == 'm':\n",
    "        move()\n",
    "    elif data == 'a':\n",
    "        add()\n",
    "    else:\n",
    "        print('Bye')"
   ]
  },
  {
   "cell_type": "code",
   "execution_count": 14,
   "metadata": {},
   "outputs": [
    {
     "name": "stdout",
     "output_type": "stream",
     "text": [
      "Choose the command by entering the letter:\n",
      "\n",
      "p - to output name according to document number\n",
      "s - to output shelf number according to document number\n",
      "l - to output all names and documents\n",
      "as - to enter a new shelf by its number\n",
      "d - to delete document\n",
      "m - to move document on another shelf by its number\n",
      "a - to add document\n",
      "l\n",
      "\n",
      "passport 2207 876234 Василий Гупкин\n",
      "invoice 11-2 Геннадий Покемонов\n",
      "insurance 10006 Аристарх Павлов\n"
     ]
    }
   ],
   "source": [
    "print('Choose the command by entering the letter:', end='\\n\\n')\n",
    "print('p - to output name according to document number')\n",
    "print('s - to output shelf number according to document number')\n",
    "print('l - to output all names and documents')\n",
    "print('as - to enter a new shelf by its number')\n",
    "print('d - to delete document')\n",
    "print('m - to move document on another shelf by its number')\n",
    "print('a - to add document')\n",
    "data = input()\n",
    "print()\n",
    "main(data)"
   ]
  }
 ],
 "metadata": {
  "kernelspec": {
   "display_name": "Python 3",
   "language": "python",
   "name": "python3"
  },
  "language_info": {
   "codemirror_mode": {
    "name": "ipython",
    "version": 3
   },
   "file_extension": ".py",
   "mimetype": "text/x-python",
   "name": "python",
   "nbconvert_exporter": "python",
   "pygments_lexer": "ipython3",
   "version": "3.7.6"
  }
 },
 "nbformat": 4,
 "nbformat_minor": 4
}
