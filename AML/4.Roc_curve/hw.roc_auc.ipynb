{
 "cells": [
  {
   "cell_type": "code",
   "execution_count": 1,
   "metadata": {},
   "outputs": [],
   "source": [
    "import pandas as pd\n",
    "import numpy as np\n",
    "from matplotlib import pyplot as plt"
   ]
  },
  {
   "cell_type": "code",
   "execution_count": 2,
   "metadata": {},
   "outputs": [
    {
     "data": {
      "text/html": [
       "<div>\n",
       "<style scoped>\n",
       "    .dataframe tbody tr th:only-of-type {\n",
       "        vertical-align: middle;\n",
       "    }\n",
       "\n",
       "    .dataframe tbody tr th {\n",
       "        vertical-align: top;\n",
       "    }\n",
       "\n",
       "    .dataframe thead th {\n",
       "        text-align: right;\n",
       "    }\n",
       "</style>\n",
       "<table border=\"1\" class=\"dataframe\">\n",
       "  <thead>\n",
       "    <tr style=\"text-align: right;\">\n",
       "      <th></th>\n",
       "      <th>rate_marriage</th>\n",
       "      <th>age</th>\n",
       "      <th>yrs_married</th>\n",
       "      <th>children</th>\n",
       "      <th>religious</th>\n",
       "      <th>educ</th>\n",
       "      <th>occupation</th>\n",
       "      <th>occupation_husb</th>\n",
       "      <th>affair</th>\n",
       "    </tr>\n",
       "  </thead>\n",
       "  <tbody>\n",
       "    <tr>\n",
       "      <th>0</th>\n",
       "      <td>3.0</td>\n",
       "      <td>32.0</td>\n",
       "      <td>9.0</td>\n",
       "      <td>3.0</td>\n",
       "      <td>3.0</td>\n",
       "      <td>17.0</td>\n",
       "      <td>2.0</td>\n",
       "      <td>5.0</td>\n",
       "      <td>1</td>\n",
       "    </tr>\n",
       "    <tr>\n",
       "      <th>1</th>\n",
       "      <td>3.0</td>\n",
       "      <td>27.0</td>\n",
       "      <td>13.0</td>\n",
       "      <td>3.0</td>\n",
       "      <td>1.0</td>\n",
       "      <td>14.0</td>\n",
       "      <td>3.0</td>\n",
       "      <td>4.0</td>\n",
       "      <td>1</td>\n",
       "    </tr>\n",
       "    <tr>\n",
       "      <th>2</th>\n",
       "      <td>4.0</td>\n",
       "      <td>22.0</td>\n",
       "      <td>2.5</td>\n",
       "      <td>0.0</td>\n",
       "      <td>1.0</td>\n",
       "      <td>16.0</td>\n",
       "      <td>3.0</td>\n",
       "      <td>5.0</td>\n",
       "      <td>1</td>\n",
       "    </tr>\n",
       "    <tr>\n",
       "      <th>3</th>\n",
       "      <td>4.0</td>\n",
       "      <td>37.0</td>\n",
       "      <td>16.5</td>\n",
       "      <td>4.0</td>\n",
       "      <td>3.0</td>\n",
       "      <td>16.0</td>\n",
       "      <td>5.0</td>\n",
       "      <td>5.0</td>\n",
       "      <td>1</td>\n",
       "    </tr>\n",
       "    <tr>\n",
       "      <th>4</th>\n",
       "      <td>5.0</td>\n",
       "      <td>27.0</td>\n",
       "      <td>9.0</td>\n",
       "      <td>1.0</td>\n",
       "      <td>1.0</td>\n",
       "      <td>14.0</td>\n",
       "      <td>3.0</td>\n",
       "      <td>4.0</td>\n",
       "      <td>1</td>\n",
       "    </tr>\n",
       "  </tbody>\n",
       "</table>\n",
       "</div>"
      ],
      "text/plain": [
       "   rate_marriage   age  yrs_married  children  religious  educ  occupation  \\\n",
       "0            3.0  32.0          9.0       3.0        3.0  17.0         2.0   \n",
       "1            3.0  27.0         13.0       3.0        1.0  14.0         3.0   \n",
       "2            4.0  22.0          2.5       0.0        1.0  16.0         3.0   \n",
       "3            4.0  37.0         16.5       4.0        3.0  16.0         5.0   \n",
       "4            5.0  27.0          9.0       1.0        1.0  14.0         3.0   \n",
       "\n",
       "   occupation_husb  affair  \n",
       "0              5.0       1  \n",
       "1              4.0       1  \n",
       "2              5.0       1  \n",
       "3              5.0       1  \n",
       "4              4.0       1  "
      ]
     },
     "execution_count": 2,
     "metadata": {},
     "output_type": "execute_result"
    }
   ],
   "source": [
    "data = pd.read_csv('affair_data.csv')\n",
    "data.head()"
   ]
  },
  {
   "cell_type": "code",
   "execution_count": 3,
   "metadata": {},
   "outputs": [
    {
     "name": "stdout",
     "output_type": "stream",
     "text": [
      "<class 'pandas.core.frame.DataFrame'>\n",
      "RangeIndex: 6366 entries, 0 to 6365\n",
      "Data columns (total 9 columns):\n",
      " #   Column           Non-Null Count  Dtype  \n",
      "---  ------           --------------  -----  \n",
      " 0   rate_marriage    6366 non-null   float64\n",
      " 1   age              6366 non-null   float64\n",
      " 2   yrs_married      6366 non-null   float64\n",
      " 3   children         6366 non-null   float64\n",
      " 4   religious        6366 non-null   float64\n",
      " 5   educ             6366 non-null   float64\n",
      " 6   occupation       6366 non-null   float64\n",
      " 7   occupation_husb  6366 non-null   float64\n",
      " 8   affair           6366 non-null   int64  \n",
      "dtypes: float64(8), int64(1)\n",
      "memory usage: 447.7 KB\n"
     ]
    }
   ],
   "source": [
    "# Посмотрим на инфо датасета\n",
    "data.info()"
   ]
  },
  {
   "cell_type": "code",
   "execution_count": 4,
   "metadata": {},
   "outputs": [
    {
     "data": {
      "text/html": [
       "<div>\n",
       "<style scoped>\n",
       "    .dataframe tbody tr th:only-of-type {\n",
       "        vertical-align: middle;\n",
       "    }\n",
       "\n",
       "    .dataframe tbody tr th {\n",
       "        vertical-align: top;\n",
       "    }\n",
       "\n",
       "    .dataframe thead th {\n",
       "        text-align: right;\n",
       "    }\n",
       "</style>\n",
       "<table border=\"1\" class=\"dataframe\">\n",
       "  <thead>\n",
       "    <tr style=\"text-align: right;\">\n",
       "      <th></th>\n",
       "      <th>rate_marriage</th>\n",
       "      <th>age</th>\n",
       "      <th>yrs_married</th>\n",
       "      <th>children</th>\n",
       "      <th>religious</th>\n",
       "      <th>educ</th>\n",
       "      <th>occupation</th>\n",
       "      <th>occupation_husb</th>\n",
       "      <th>affair</th>\n",
       "    </tr>\n",
       "  </thead>\n",
       "  <tbody>\n",
       "    <tr>\n",
       "      <th>count</th>\n",
       "      <td>6366.000000</td>\n",
       "      <td>6366.000000</td>\n",
       "      <td>6366.000000</td>\n",
       "      <td>6366.000000</td>\n",
       "      <td>6366.000000</td>\n",
       "      <td>6366.000000</td>\n",
       "      <td>6366.000000</td>\n",
       "      <td>6366.000000</td>\n",
       "      <td>6366.000000</td>\n",
       "    </tr>\n",
       "    <tr>\n",
       "      <th>mean</th>\n",
       "      <td>4.109645</td>\n",
       "      <td>29.082862</td>\n",
       "      <td>9.009425</td>\n",
       "      <td>1.396874</td>\n",
       "      <td>2.426170</td>\n",
       "      <td>14.209865</td>\n",
       "      <td>3.424128</td>\n",
       "      <td>3.850141</td>\n",
       "      <td>0.322495</td>\n",
       "    </tr>\n",
       "    <tr>\n",
       "      <th>std</th>\n",
       "      <td>0.961430</td>\n",
       "      <td>6.847882</td>\n",
       "      <td>7.280120</td>\n",
       "      <td>1.433471</td>\n",
       "      <td>0.878369</td>\n",
       "      <td>2.178003</td>\n",
       "      <td>0.942399</td>\n",
       "      <td>1.346435</td>\n",
       "      <td>0.467468</td>\n",
       "    </tr>\n",
       "    <tr>\n",
       "      <th>min</th>\n",
       "      <td>1.000000</td>\n",
       "      <td>17.500000</td>\n",
       "      <td>0.500000</td>\n",
       "      <td>0.000000</td>\n",
       "      <td>1.000000</td>\n",
       "      <td>9.000000</td>\n",
       "      <td>1.000000</td>\n",
       "      <td>1.000000</td>\n",
       "      <td>0.000000</td>\n",
       "    </tr>\n",
       "    <tr>\n",
       "      <th>25%</th>\n",
       "      <td>4.000000</td>\n",
       "      <td>22.000000</td>\n",
       "      <td>2.500000</td>\n",
       "      <td>0.000000</td>\n",
       "      <td>2.000000</td>\n",
       "      <td>12.000000</td>\n",
       "      <td>3.000000</td>\n",
       "      <td>3.000000</td>\n",
       "      <td>0.000000</td>\n",
       "    </tr>\n",
       "    <tr>\n",
       "      <th>50%</th>\n",
       "      <td>4.000000</td>\n",
       "      <td>27.000000</td>\n",
       "      <td>6.000000</td>\n",
       "      <td>1.000000</td>\n",
       "      <td>2.000000</td>\n",
       "      <td>14.000000</td>\n",
       "      <td>3.000000</td>\n",
       "      <td>4.000000</td>\n",
       "      <td>0.000000</td>\n",
       "    </tr>\n",
       "    <tr>\n",
       "      <th>75%</th>\n",
       "      <td>5.000000</td>\n",
       "      <td>32.000000</td>\n",
       "      <td>16.500000</td>\n",
       "      <td>2.000000</td>\n",
       "      <td>3.000000</td>\n",
       "      <td>16.000000</td>\n",
       "      <td>4.000000</td>\n",
       "      <td>5.000000</td>\n",
       "      <td>1.000000</td>\n",
       "    </tr>\n",
       "    <tr>\n",
       "      <th>max</th>\n",
       "      <td>5.000000</td>\n",
       "      <td>42.000000</td>\n",
       "      <td>23.000000</td>\n",
       "      <td>5.500000</td>\n",
       "      <td>4.000000</td>\n",
       "      <td>20.000000</td>\n",
       "      <td>6.000000</td>\n",
       "      <td>6.000000</td>\n",
       "      <td>1.000000</td>\n",
       "    </tr>\n",
       "  </tbody>\n",
       "</table>\n",
       "</div>"
      ],
      "text/plain": [
       "       rate_marriage          age  yrs_married     children    religious  \\\n",
       "count    6366.000000  6366.000000  6366.000000  6366.000000  6366.000000   \n",
       "mean        4.109645    29.082862     9.009425     1.396874     2.426170   \n",
       "std         0.961430     6.847882     7.280120     1.433471     0.878369   \n",
       "min         1.000000    17.500000     0.500000     0.000000     1.000000   \n",
       "25%         4.000000    22.000000     2.500000     0.000000     2.000000   \n",
       "50%         4.000000    27.000000     6.000000     1.000000     2.000000   \n",
       "75%         5.000000    32.000000    16.500000     2.000000     3.000000   \n",
       "max         5.000000    42.000000    23.000000     5.500000     4.000000   \n",
       "\n",
       "              educ   occupation  occupation_husb       affair  \n",
       "count  6366.000000  6366.000000      6366.000000  6366.000000  \n",
       "mean     14.209865     3.424128         3.850141     0.322495  \n",
       "std       2.178003     0.942399         1.346435     0.467468  \n",
       "min       9.000000     1.000000         1.000000     0.000000  \n",
       "25%      12.000000     3.000000         3.000000     0.000000  \n",
       "50%      14.000000     3.000000         4.000000     0.000000  \n",
       "75%      16.000000     4.000000         5.000000     1.000000  \n",
       "max      20.000000     6.000000         6.000000     1.000000  "
      ]
     },
     "execution_count": 4,
     "metadata": {},
     "output_type": "execute_result"
    }
   ],
   "source": [
    "# Посмотрим на описание признаков\n",
    "data.describe()"
   ]
  },
  {
   "cell_type": "markdown",
   "metadata": {},
   "source": [
    "Все данные подготовлены. Нормализуем их перед обучением алгоритма логистической регрессии."
   ]
  },
  {
   "cell_type": "code",
   "execution_count": 5,
   "metadata": {},
   "outputs": [],
   "source": [
    "X = data.drop(['affair'], axis=1)\n",
    "y = data.affair\n",
    "X_columns = X.columns"
   ]
  },
  {
   "cell_type": "code",
   "execution_count": 6,
   "metadata": {},
   "outputs": [
    {
     "data": {
      "text/html": [
       "<div>\n",
       "<style scoped>\n",
       "    .dataframe tbody tr th:only-of-type {\n",
       "        vertical-align: middle;\n",
       "    }\n",
       "\n",
       "    .dataframe tbody tr th {\n",
       "        vertical-align: top;\n",
       "    }\n",
       "\n",
       "    .dataframe thead th {\n",
       "        text-align: right;\n",
       "    }\n",
       "</style>\n",
       "<table border=\"1\" class=\"dataframe\">\n",
       "  <thead>\n",
       "    <tr style=\"text-align: right;\">\n",
       "      <th></th>\n",
       "      <th>rate_marriage</th>\n",
       "      <th>age</th>\n",
       "      <th>yrs_married</th>\n",
       "      <th>children</th>\n",
       "      <th>religious</th>\n",
       "      <th>educ</th>\n",
       "      <th>occupation</th>\n",
       "      <th>occupation_husb</th>\n",
       "    </tr>\n",
       "  </thead>\n",
       "  <tbody>\n",
       "    <tr>\n",
       "      <th>0</th>\n",
       "      <td>0.50</td>\n",
       "      <td>0.591837</td>\n",
       "      <td>0.377778</td>\n",
       "      <td>0.545455</td>\n",
       "      <td>0.666667</td>\n",
       "      <td>0.727273</td>\n",
       "      <td>0.2</td>\n",
       "      <td>0.8</td>\n",
       "    </tr>\n",
       "    <tr>\n",
       "      <th>1</th>\n",
       "      <td>0.50</td>\n",
       "      <td>0.387755</td>\n",
       "      <td>0.555556</td>\n",
       "      <td>0.545455</td>\n",
       "      <td>0.000000</td>\n",
       "      <td>0.454545</td>\n",
       "      <td>0.4</td>\n",
       "      <td>0.6</td>\n",
       "    </tr>\n",
       "    <tr>\n",
       "      <th>2</th>\n",
       "      <td>0.75</td>\n",
       "      <td>0.183673</td>\n",
       "      <td>0.088889</td>\n",
       "      <td>0.000000</td>\n",
       "      <td>0.000000</td>\n",
       "      <td>0.636364</td>\n",
       "      <td>0.4</td>\n",
       "      <td>0.8</td>\n",
       "    </tr>\n",
       "    <tr>\n",
       "      <th>3</th>\n",
       "      <td>0.75</td>\n",
       "      <td>0.795918</td>\n",
       "      <td>0.711111</td>\n",
       "      <td>0.727273</td>\n",
       "      <td>0.666667</td>\n",
       "      <td>0.636364</td>\n",
       "      <td>0.8</td>\n",
       "      <td>0.8</td>\n",
       "    </tr>\n",
       "    <tr>\n",
       "      <th>4</th>\n",
       "      <td>1.00</td>\n",
       "      <td>0.387755</td>\n",
       "      <td>0.377778</td>\n",
       "      <td>0.181818</td>\n",
       "      <td>0.000000</td>\n",
       "      <td>0.454545</td>\n",
       "      <td>0.4</td>\n",
       "      <td>0.6</td>\n",
       "    </tr>\n",
       "  </tbody>\n",
       "</table>\n",
       "</div>"
      ],
      "text/plain": [
       "   rate_marriage       age  yrs_married  children  religious      educ  \\\n",
       "0           0.50  0.591837     0.377778  0.545455   0.666667  0.727273   \n",
       "1           0.50  0.387755     0.555556  0.545455   0.000000  0.454545   \n",
       "2           0.75  0.183673     0.088889  0.000000   0.000000  0.636364   \n",
       "3           0.75  0.795918     0.711111  0.727273   0.666667  0.636364   \n",
       "4           1.00  0.387755     0.377778  0.181818   0.000000  0.454545   \n",
       "\n",
       "   occupation  occupation_husb  \n",
       "0         0.2              0.8  \n",
       "1         0.4              0.6  \n",
       "2         0.4              0.8  \n",
       "3         0.8              0.8  \n",
       "4         0.4              0.6  "
      ]
     },
     "execution_count": 6,
     "metadata": {},
     "output_type": "execute_result"
    }
   ],
   "source": [
    "from sklearn.preprocessing import MinMaxScaler\n",
    "\n",
    "min_max = MinMaxScaler()\n",
    "norm_array = min_max.fit_transform(X)\n",
    "X = pd.DataFrame(norm_array, columns=X_columns)\n",
    "X.head()"
   ]
  },
  {
   "cell_type": "code",
   "execution_count": 7,
   "metadata": {},
   "outputs": [],
   "source": [
    "from sklearn.linear_model import LogisticRegression\n",
    "from sklearn.model_selection import train_test_split"
   ]
  },
  {
   "cell_type": "markdown",
   "metadata": {},
   "source": [
    "Обучим три модели:  \n",
    "1) без признака **rate_marriage**  \n",
    "2) без признака **yrs_married**  \n",
    "3) со всеми признаками\n",
    "\n",
    "По предсказаниям этих моделей построим графики *ROC-кривой* на посчитанных *FPR* и *TPR* вручную и встроенной метрикой *roc_curve*."
   ]
  },
  {
   "cell_type": "code",
   "execution_count": 8,
   "metadata": {},
   "outputs": [],
   "source": [
    "model1 = LogisticRegression()\n",
    "model2 = LogisticRegression()\n",
    "model3 = LogisticRegression()"
   ]
  },
  {
   "cell_type": "code",
   "execution_count": 9,
   "metadata": {},
   "outputs": [
    {
     "name": "stdout",
     "output_type": "stream",
     "text": [
      "0 0.7417582417582418\n",
      "1 0.7315541601255887\n",
      "2 0.716640502354788\n",
      "3 0.7150706436420722\n",
      "4 0.7048665620094191\n",
      "5 0.7229199372056515\n",
      "6 0.7205651491365777\n",
      "7 0.7315541601255887\n",
      "8 0.7040816326530612\n",
      "9 0.7142857142857143\n"
     ]
    }
   ],
   "source": [
    "# Посмотрим на accuracy в зависимости от random_state\n",
    "for i in range(10):\n",
    "    X3_train, X3_test, y3_train, y3_test = train_test_split(X, y, test_size = 0.2, random_state = i)\n",
    "    model1.fit(X3_train, y3_train)\n",
    "    print(i, model1.score(X3_test, y3_test))"
   ]
  },
  {
   "cell_type": "code",
   "execution_count": 10,
   "metadata": {},
   "outputs": [],
   "source": [
    "X1 = X.drop(['rate_marriage'], axis=1)\n",
    "X2 = X.drop(['yrs_married'], axis=1)"
   ]
  },
  {
   "cell_type": "code",
   "execution_count": 11,
   "metadata": {},
   "outputs": [],
   "source": [
    "X1_train, X1_test, y1_train, y1_test = train_test_split(X1, y, test_size=0.2, random_state=0)\n",
    "X2_train, X2_test, y2_train, y2_test = train_test_split(X2, y, test_size=0.2, random_state=0)\n",
    "X3_train, X3_test, y3_train, y3_test = train_test_split(X, y, test_size=0.2, random_state=0)"
   ]
  },
  {
   "cell_type": "code",
   "execution_count": 12,
   "metadata": {},
   "outputs": [
    {
     "data": {
      "text/plain": [
       "LogisticRegression()"
      ]
     },
     "execution_count": 12,
     "metadata": {},
     "output_type": "execute_result"
    }
   ],
   "source": [
    "model1.fit(X1_train, y1_train)\n",
    "model2.fit(X2_train, y2_train)\n",
    "model3.fit(X3_train, y3_train)"
   ]
  },
  {
   "cell_type": "code",
   "execution_count": 13,
   "metadata": {},
   "outputs": [],
   "source": [
    "from sklearn.metrics import accuracy_score, precision_score, recall_score"
   ]
  },
  {
   "cell_type": "code",
   "execution_count": 14,
   "metadata": {},
   "outputs": [
    {
     "name": "stdout",
     "output_type": "stream",
     "text": [
      "For model1:\n",
      "accuracy: 0.700\n",
      "precision: 0.526\n",
      "recall: 0.183\n",
      "-----------------\n",
      "For model2:\n",
      "accuracy: 0.738\n",
      "precision: 0.638\n",
      "recall: 0.326\n",
      "-----------------\n",
      "For model3:\n",
      "accuracy: 0.742\n",
      "precision: 0.635\n",
      "recall: 0.362\n"
     ]
    }
   ],
   "source": [
    "print('For model1:')\n",
    "print('accuracy: %.3f' % accuracy_score(y1_test, model1.predict(X1_test)))\n",
    "print('precision: %.3f' % precision_score(y1_test, model1.predict(X1_test)))\n",
    "print('recall: %.3f' % recall_score(y1_test, model1.predict(X1_test)))\n",
    "print('-----------------')\n",
    "print('For model2:')\n",
    "print('accuracy: %.3f' % accuracy_score(y2_test, model2.predict(X2_test)))\n",
    "print('precision: %.3f' % precision_score(y2_test, model2.predict(X2_test)))\n",
    "print('recall: %.3f' % recall_score(y2_test, model2.predict(X2_test)))\n",
    "print('-----------------')\n",
    "print('For model3:')\n",
    "print('accuracy: %.3f' % accuracy_score(y3_test, model3.predict(X3_test)))\n",
    "print('precision: %.3f' % precision_score(y3_test, model3.predict(X3_test)))\n",
    "print('recall: %.3f' % recall_score(y3_test, model3.predict(X3_test)))\n"
   ]
  },
  {
   "cell_type": "code",
   "execution_count": 15,
   "metadata": {},
   "outputs": [],
   "source": [
    "prediction1 = model1.predict_proba(X1_test)\n",
    "prediction2 = model2.predict_proba(X2_test)\n",
    "prediction3 = model3.predict_proba(X3_test)"
   ]
  },
  {
   "cell_type": "markdown",
   "metadata": {},
   "source": [
    "Построим кривую *ROC AUC* с помощью следующего метода. \n",
    "Данные для примера взяты с сайта [dyakonov.org](https://dyakonov.org/2017/07/28/auc-roc-%D0%BF%D0%BB%D0%BE%D1%89%D0%B0%D0%B4%D1%8C-%D0%BF%D0%BE%D0%B4-%D0%BA%D1%80%D0%B8%D0%B2%D0%BE%D0%B9-%D0%BE%D1%88%D0%B8%D0%B1%D0%BE%D0%BA/).  \n",
    "\n",
    "Упорядочим предсказанные вероятности исходов по убыванию вместе с соответствующими предсказанными метками классов как на **табл.1** и **табл.2**. В отличии от **табл.3**, где порог равен 0.25, в нашем случае порог равен 0.5. Далее разобъём квадрат  на m (по вертикали) × n (по горизонтали) блоков, где m – число 1 среди правильных меток (в примере m=3), n – число нулей (n=4). Для того, чтобы нарисовать точку кривой, будем соотносить упорядоченным вероятностям (начиная с большей) истинные метки класса (в **табл.2** и **табл.3** колонка *класс*) и, стартуя из точки (0, 0), будем ставить точку на оси абсцисс с шагом $\\frac{1}{m}$, если значение метки класса в просматриваемой строке 1, или на оси ординат с шагом $\\frac{1}{n}$, если значение 0. Если значения вероятностей совпадают, то будем ставить точку на расстоянии по оси абсцисс: $\\frac{1}{m}\\times$$\\big($количество меток равных 1 с совпадающими вероятностями$\\big)$ и по оси ординат: $\\frac{1}{n}\\times$$\\big($количество меток равных 0 с совпадающими вероятностями$\\big)$ (в примере на рисунке id3 и id5).\n",
    "![](http://alexanderdyakonov.files.wordpress.com/2017/07/table.png)  \n",
    "![](http://alexanderdyakonov.files.wordpress.com/2017/07/pic3.png)"
   ]
  },
  {
   "cell_type": "code",
   "execution_count": 19,
   "metadata": {},
   "outputs": [],
   "source": [
    "def Roc_Curve(proba_prediction, observation):\n",
    "    \n",
    "    \"\"\"В качесте параметров два массива:\n",
    "       1) предсказанные вероятности  исхода положительного события\n",
    "       2) метки положительного или отрицательного класса\n",
    "       Возвращает два массива координат точек кривой ROC AUC: абсцисс и ординат\"\"\"\n",
    "    \n",
    "    \n",
    "    roc_df = pd.DataFrame({'pred_proba': proba_prediction, 'observation': observation})\\\n",
    "                     .sort_values(by='pred_proba', ascending=False).reset_index()\n",
    "    a = roc_df.pred_proba.values\n",
    "    b = roc_df.observation.values    \n",
    "    tpr_arr = np.array([])\n",
    "    fpr_arr = np.array([])\n",
    "    m = sum(b)\n",
    "    n = len(b) - m\n",
    "    d1 = 1 / n\n",
    "    d2 = 1 / m\n",
    "    tpr0 = 0\n",
    "    fpr0 = 0\n",
    "    k = 0\n",
    "    l = 0\n",
    "    \n",
    "    for i in range(len(a) - 1):\n",
    "        if a[i] != a[i+1]:\n",
    "            if b[i] == 1:\n",
    "                k += 1\n",
    "            else:\n",
    "                l += 1\n",
    "            fpr_arr = np.append(fpr_arr, l)\n",
    "            tpr_arr = np.append(tpr_arr, k)\n",
    "        else:\n",
    "            if b[i] == 1:\n",
    "                k += 1\n",
    "            else:\n",
    "                l += 1\n",
    "\n",
    "    if a[-1] != a[-2]:\n",
    "        if b[i] == 1:\n",
    "            k += 1\n",
    "        else:\n",
    "            l += 1    \n",
    "\n",
    "    fpr_arr = np.append(fpr_arr, l)\n",
    "    tpr_arr = np.append(tpr_arr, k)\n",
    "    \n",
    "    return fpr_arr, tpr_arr"
   ]
  },
  {
   "cell_type": "markdown",
   "metadata": {},
   "source": [
    "Построим кривую *ROC AUC* встроенной метрикой в библиотеке *sklearn*."
   ]
  },
  {
   "cell_type": "code",
   "execution_count": 18,
   "metadata": {},
   "outputs": [
    {
     "data": {
      "image/png": "[encoded data removed]",
      "text/plain": [
       "<Figure size 432x288 with 1 Axes>"
      ]
     },
     "metadata": {
      "needs_background": "light"
     },
     "output_type": "display_data"
    }
   ],
   "source": [
    "from sklearn.metrics import roc_curve\n",
    "\n",
    "fpr_metric1, tpr_metric1, thres1 = roc_curve( y1_test, prediction1[:, 1] )\n",
    "fpr_metric2, tpr_metric2, thres2 = roc_curve( y2_test, prediction2[:, 1] )\n",
    "fpr_metric3, tpr_metric3, thres3 = roc_curve( y3_test, prediction3[:, 1] )\n",
    "\n",
    "plt.plot( fpr_metric1, tpr_metric1, label = \"Except 'rate_marriage'\" )\n",
    "plt.plot( fpr_metric2, tpr_metric2, label = \"Except 'yrs_married'\" )\n",
    "plt.plot( fpr_metric3, tpr_metric3, label = \"All columns\" )\n",
    "\n",
    "plt.xlabel('False Positive Rate')\n",
    "plt.ylabel('True Positive Rate')\n",
    "plt.title('ROC AUC Curve for metric in Python')\n",
    "plt.legend( loc = 0 )\n",
    "plt.show()"
   ]
  },
  {
   "cell_type": "markdown",
   "metadata": {},
   "source": [
    "Построим кривую *ROC AUC* с помощью созданной функции *Roc_Curve*."
   ]
  },
  {
   "cell_type": "code",
   "execution_count": 20,
   "metadata": {},
   "outputs": [
    {
     "data": {
      "image/png": "[encoded data removed]",
      "text/plain": [
       "<Figure size 432x288 with 1 Axes>"
      ]
     },
     "metadata": {
      "needs_background": "light"
     },
     "output_type": "display_data"
    }
   ],
   "source": [
    "fpr_arr1, tpr_arr1 = Roc_Curve(prediction1[:, 1], y1_test)\n",
    "fpr_arr2, tpr_arr2 = Roc_Curve(prediction2[:, 1], y2_test)\n",
    "fpr_arr3, tpr_arr3 = Roc_Curve(prediction3[:, 1], y3_test)\n",
    "\n",
    "plt.plot( fpr_arr1, tpr_arr1, label = \"Except 'rate_marriage'\" )\n",
    "plt.plot( fpr_arr2, tpr_arr2, label = \"Except 'yrs_married'\" )\n",
    "plt.plot( fpr_arr3, tpr_arr3, label = \"All columns\" )\n",
    "\n",
    "plt.xlabel('False Positive Rate')\n",
    "plt.ylabel('True Positive Rate')\n",
    "plt.title('ROC AUC Curve self-calculated')\n",
    "plt.legend( loc = 0 )\n",
    "plt.show()"
   ]
  }
 ],
 "metadata": {
  "kernelspec": {
   "display_name": "Python 3",
   "language": "python",
   "name": "python3"
  },
  "language_info": {
   "codemirror_mode": {
    "name": "ipython",
    "version": 3
   },
   "file_extension": ".py",
   "mimetype": "text/x-python",
   "name": "python",
   "nbconvert_exporter": "python",
   "pygments_lexer": "ipython3",
   "version": "3.7.6"
  }
 },
 "nbformat": 4,
 "nbformat_minor": 4
}
