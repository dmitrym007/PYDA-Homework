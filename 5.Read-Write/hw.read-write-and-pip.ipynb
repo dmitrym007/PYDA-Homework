{
 "cells": [
  {
   "cell_type": "markdown",
   "metadata": {},
   "source": [
    "# Домашнее задание\n",
    "1. Переведите содержимое файла purchase_log.txt в словарь purchases вида:\n",
    "```python\n",
    "{'1840e0b9d4': 'Продукты', ...}\n",
    "```\n",
    "\n",
    "2. Для каждого user_id в файле visit_log.csv определите третий столбец с категорией покупки (если покупка была, сам файл visit_log.csv изменять не надо). Запишите в файл funnel.csv визиты из файла visit_log.csv, в которых были покупки с указанием категории.\n",
    "\n",
    "Учтите условия на данные:\n",
    "- содержимое purchase_log.txt помещается в оперативную память компьютера\n",
    "- содержимое visit_log.csv - нет; используйте только построчную обработку этого файла"
   ]
  },
  {
   "cell_type": "code",
   "execution_count": 2,
   "metadata": {},
   "outputs": [],
   "source": [
    "import json"
   ]
  },
  {
   "cell_type": "code",
   "execution_count": 4,
   "metadata": {},
   "outputs": [],
   "source": [
    "purchases = {}\n",
    "i = 1\n",
    "with open('purchase_log.txt', encoding='utf-8') as p_log:\n",
    "    for line in p_log:\n",
    "        if i != 1:\n",
    "            line = line.strip()\n",
    "            purchases[json.loads(line)[\"user_id\"]] = json.loads(line)[\"category\"]\n",
    "        i += 1"
   ]
  },
  {
   "cell_type": "code",
   "execution_count": 5,
   "metadata": {},
   "outputs": [
    {
     "name": "stdout",
     "output_type": "stream",
     "text": [
      "1840e0b9d4 Продукты\n",
      "4e4f90fcfb Электроника\n",
      "afea8d72fc Электроника\n",
      "373a6055fe Бытовая техника\n",
      "9b2ab046f3 Электроника\n",
      "9f39d307c3 Электроника\n",
      "44edeffc91 Продукты\n",
      "704474fa2d Продукты\n",
      "1de31be403 Бытовая техника\n",
      "b71f36a5e4 Продукты\n"
     ]
    }
   ],
   "source": [
    "j = 0\n",
    "for key in purchases:\n",
    "    print(key, purchases[key])\n",
    "    j += 1\n",
    "    if j > 9:\n",
    "        break"
   ]
  },
  {
   "cell_type": "code",
   "execution_count": 6,
   "metadata": {},
   "outputs": [],
   "source": [
    "with open('visit_log.csv') as v_log:\n",
    "    with open('funnel.csv', 'w', encoding='utf-8') as id_p_log:\n",
    "        for line in v_log:\n",
    "            if line.strip().split(',')[0] in purchases:\n",
    "                id_p_log.write(line.strip() + ',' + purchases[line.strip().split(',')[0]] + '\\n')"
   ]
  }
 ],
 "metadata": {
  "kernelspec": {
   "display_name": "Python 3",
   "language": "python",
   "name": "python3"
  },
  "language_info": {
   "codemirror_mode": {
    "name": "ipython",
    "version": 3
   },
   "file_extension": ".py",
   "mimetype": "text/x-python",
   "name": "python",
   "nbconvert_exporter": "python",
   "pygments_lexer": "ipython3",
   "version": "3.7.6"
  }
 },
 "nbformat": 4,
 "nbformat_minor": 4
}
