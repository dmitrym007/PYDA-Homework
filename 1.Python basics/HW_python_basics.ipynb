{
 "cells": [
  {
   "cell_type": "markdown",
   "metadata": {},
   "source": [
    "## **Задание 1**. Даны 2 строки: *long_phrase* и *short_phrase*. \n",
    "Напишите код, который проверяет действительно ли длинная фраза *long_phrase* длиннее короткой *short_phrase*. И выводит *True* или *Fals2e* в зависимости от результата сравнения."
   ]
  },
  {
   "cell_type": "code",
   "execution_count": 1,
   "metadata": {},
   "outputs": [],
   "source": [
    "long_phrase = 'Насколько проще было бы писать программы, если бы не заказчики'\n",
    "short_phrase = '640Кб должно хватить для любых задач. Билл Гейтс (по легенде)'"
   ]
  },
  {
   "cell_type": "code",
   "execution_count": 2,
   "metadata": {},
   "outputs": [
    {
     "name": "stdout",
     "output_type": "stream",
     "text": [
      "long_phrase longer than short_phrase\n"
     ]
    }
   ],
   "source": [
    "if len(long_phrase)>len(short_phrase):\n",
    "    print('long_phrase longer than short_phrase')\n",
    "else:\n",
    "    print('long_phrase shorter than short_phrase')"
   ]
  },
  {
   "cell_type": "markdown",
   "metadata": {},
   "source": [
    "## **Задание 2**. Дано значение объема файла в байтах (*в мегабайте 2^20 байт*). Напишите перевод этого значения в мегабайты в формате: \"*Объем файла равен 213.68Mb*\"."
   ]
  },
  {
   "cell_type": "code",
   "execution_count": 3,
   "metadata": {},
   "outputs": [
    {
     "name": "stdout",
     "output_type": "stream",
     "text": [
      "Enter file size in bytes: 224059734\n",
      "File size in megabytes = 213.6800136566162\n"
     ]
    }
   ],
   "source": [
    "size_bytes = int(input('Enter file size in bytes: '))\n",
    "print('File size in megabytes =', size_bytes/2**20)"
   ]
  },
  {
   "cell_type": "markdown",
   "metadata": {},
   "source": [
    "**Задание 3**. Разработать приложение для определения знака зодиака по дате рождения. Пример:\n",
    "\n",
    "Введите месяц: март\n",
    "\n",
    "Введите число: 6\n",
    "\n",
    "Вывод:\n",
    "Рыбы"
   ]
  },
  {
   "cell_type": "code",
   "execution_count": 4,
   "metadata": {},
   "outputs": [
    {
     "name": "stdout",
     "output_type": "stream",
     "text": [
      "Enter month with small letters: june\n",
      "Enter date: 13\n",
      "Gemini\n"
     ]
    }
   ],
   "source": [
    "m = input('Enter month with small letters: ')\n",
    "d = int(input('Enter date: '))\n",
    "if m == 'january':\n",
    "    if 1 <= d <= 20:\n",
    "        print('Capricorn')\n",
    "    elif 21 <= d <= 31:\n",
    "        print('Aquarius')\n",
    "    else:\n",
    "        print('Enter correct date')\n",
    "elif m == 'february':\n",
    "    if 1 <= d <= 19:\n",
    "        print('Aquarius')\n",
    "    elif 20 <= d <= 29:\n",
    "        print('Pisces')\n",
    "    else:\n",
    "        print('Enter correct date')\n",
    "elif m == 'march':\n",
    "    if 1 <= d <= 20:\n",
    "        print('Pisces')\n",
    "    elif 21 <= d <= 31:\n",
    "        print('Aries')\n",
    "    else:\n",
    "        print('Enter correct date')\n",
    "elif m == 'april':\n",
    "    if 1 <= d <= 20:\n",
    "        print('Aries')\n",
    "    elif 21 <= d <= 30:\n",
    "        print('Taurus')\n",
    "    else:\n",
    "        print('Enter correct date')\n",
    "elif m == 'may':\n",
    "    if 1 <= d <= 21:\n",
    "        print('Taurus')\n",
    "    elif 22 <= d <= 31:\n",
    "        print('Gemini')\n",
    "    else:\n",
    "        print('Enter correct date')\n",
    "elif m == 'june':\n",
    "    if 1 <= d <= 21:\n",
    "        print('Gemini')\n",
    "    elif 22 <= d <= 30:\n",
    "        print('Cancer')\n",
    "    else:\n",
    "        print('Enter correct date')\n",
    "elif m == 'july':\n",
    "    if 1 <= d <= 23:\n",
    "        print('Cancer')\n",
    "    elif 24 <= d <= 31:\n",
    "        print('Leo')\n",
    "    else:\n",
    "        print('Enter correct date')\n",
    "elif m == 'august':\n",
    "    if 1 <= d <= 23:\n",
    "        print('Leo')\n",
    "    elif 24 <= d <= 31:\n",
    "        print('Virgo')\n",
    "    else:\n",
    "        print('Enter correct date')\n",
    "elif m == 'september':\n",
    "    if 1 <= d <= 23:\n",
    "        print('Virgo')\n",
    "    elif 24 <= d <= 30:\n",
    "        print('Libra')\n",
    "    else:\n",
    "        print('Enter correct date')\n",
    "elif m == 'october':\n",
    "    if 1 <= d <= 23:\n",
    "        print('Libra')\n",
    "    elif 24 <= d <= 31:\n",
    "        print('Scorpio')\n",
    "    else:\n",
    "        print('Enter correct date')\n",
    "elif m == 'november':\n",
    "    if 1 <= d <= 22:\n",
    "        print('Scorpio')\n",
    "    elif 23 <= d <= 30:\n",
    "        print('Sagittarius')\n",
    "    else:\n",
    "        print('Enter correct date')\n",
    "elif m == 'december':\n",
    "    if 1 <= d <= 21:\n",
    "        print('Sagittarius')\n",
    "    elif 22 <= d <= 31:\n",
    "        print('Capricorn')\n",
    "    else:\n",
    "        print('Enter correct date')\n",
    "else:\n",
    "    print('Enter correct month')"
   ]
  },
  {
   "cell_type": "markdown",
   "metadata": {},
   "source": [
    "**Задание 4**. Нужно разработать приложение для финансового планирования.\n",
    "Приложение учитывает сколько уходит на ипотеку, \"на жизнь\" и сколько нужно отложить на пенсию.\n",
    "Пользователь вводит:\n",
    "- заработанную плату в месяц.\n",
    "- сколько процентов от ЗП уходит на ипотеку.\n",
    "- сколько процентов от ЗП уходит \"на жизнь\".\n",
    "- сколько раз приходит премия в год.\n",
    "\n",
    "Остальная часть заработанной платы откладывается на пенсию.\n",
    "\n",
    "Также пользователю приходит премия в размере зарплаты, от которой половина уходит на отпуск, а вторая половина откладывается.\n",
    "\n",
    "Программа должна учитывать сколько премий было в год.\n",
    "\n",
    "Нужно вывести сколько денег тратит пользователь на ипотеку и сколько он накопит за год.\n",
    "\n",
    "Пример:\n",
    "\n",
    "Введите заработанную плату в месяц: 100000\n",
    "\n",
    "Введите сколько процентов уходит на ипотеку: 30\n",
    "\n",
    "Введите сколько процентов уходит на жизнь: 50\n",
    "\n",
    "Введите количество премий за год: 2\n",
    "\n",
    "Вывод:\n",
    "На ипотеку было потрачено: 360000 рублей\n",
    "Было накоплено: 340000 рублей"
   ]
  },
  {
   "cell_type": "code",
   "execution_count": 6,
   "metadata": {},
   "outputs": [
    {
     "name": "stdout",
     "output_type": "stream",
     "text": [
      "Enter your salary per month: 100000\n",
      "Enter mortgage rate of your salary in %: 30\n",
      "Enter living rate of your salary in %: 50\n",
      "Enter the number of salary bonuses in a year: 2\n",
      "Your annual mortgage expenses:  360000.0\n",
      "Your annual pension accumulation:  240000.0\n",
      "Your annual income accumulation:  100000.0\n",
      "Total annual accumulation:  340000.0\n"
     ]
    }
   ],
   "source": [
    "salary = int(input('Enter your salary per month: '))\n",
    "mortgage_percent = int(input('Enter mortgage rate of your salary in %: '))\n",
    "living_percent = int(input('Enter living rate of your salary in %: '))\n",
    "salary_bonus = int(input('Enter the number of salary bonuses in a year: '))\n",
    "overall_income = (12 + salary_bonus)*salary\n",
    "income_accumulation = salary_bonus*salary/2\n",
    "mortgage_expenses = 12*salary*mortgage_percent/100\n",
    "vacation_expenses = salary_bonus*salary/2\n",
    "living_expenses = 12*salary*living_percent/100 + vacation_expenses\n",
    "pension_accumulation = 12*salary*(100 - mortgage_percent - living_percent)/100\n",
    "print('Your annual mortgage expenses: ', mortgage_expenses)\n",
    "print('Your annual pension accumulation: ', pension_accumulation)\n",
    "print('Your annual income accumulation: ', income_accumulation)\n",
    "print('Total annual accumulation: ', pension_accumulation + income_accumulation)"
   ]
  },
  {
   "cell_type": "code",
   "execution_count": null,
   "metadata": {},
   "outputs": [],
   "source": []
  }
 ],
 "metadata": {
  "kernelspec": {
   "display_name": "Python 3",
   "language": "python",
   "name": "python3"
  },
  "language_info": {
   "codemirror_mode": {
    "name": "ipython",
    "version": 3
   },
   "file_extension": ".py",
   "mimetype": "text/x-python",
   "name": "python",
   "nbconvert_exporter": "python",
   "pygments_lexer": "ipython3",
   "version": "3.7.6"
  }
 },
 "nbformat": 4,
 "nbformat_minor": 2
}
