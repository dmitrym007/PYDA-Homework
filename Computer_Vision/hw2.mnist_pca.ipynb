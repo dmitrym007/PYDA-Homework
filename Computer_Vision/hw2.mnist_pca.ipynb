{
 "cells": [
  {
   "cell_type": "code",
   "execution_count": 10,
   "metadata": {},
   "outputs": [],
   "source": [
    "import numpy as np\n",
    "from sklearn.ensemble import RandomForestClassifier\n",
    "from sklearn.model_selection import train_test_split\n",
    "from sklearn.metrics import classification_report\n",
    "from matplotlib import pyplot as plt\n",
    "%matplotlib inline"
   ]
  },
  {
   "cell_type": "code",
   "execution_count": 2,
   "metadata": {},
   "outputs": [],
   "source": [
    "train = np.loadtxt('C:/Users/User/Desktop/Data Scientist/AML/Computer_Vision/Data/digit/train.csv', delimiter=',', skiprows=1)"
   ]
  },
  {
   "cell_type": "code",
   "execution_count": 3,
   "metadata": {},
   "outputs": [],
   "source": [
    "# сохраняем разметку в отдельную переменную\n",
    "train_label = train[:, 0]\n",
    "# приводим размерность к удобному для обаботки виду\n",
    "train_img = np.reshape(train[:, 1:], (len(train[:, 1:]), 28, 28))"
   ]
  },
  {
   "cell_type": "code",
   "execution_count": 4,
   "metadata": {},
   "outputs": [
    {
     "data": {
      "text/plain": [
       "(42000, 28, 28)"
      ]
     },
     "execution_count": 4,
     "metadata": {},
     "output_type": "execute_result"
    }
   ],
   "source": [
    "# посмотрим на размер\n",
    "train_img.shape"
   ]
  },
  {
   "cell_type": "code",
   "execution_count": 5,
   "metadata": {},
   "outputs": [],
   "source": [
    "# выбираем семпл данных для обработки\n",
    "choices = np.random.choice(train_img.shape[0], 10000)\n",
    "\n",
    "y = train_label[choices]\n",
    "X = train_img[choices].reshape(-1, 28 * 28).astype(np.float32)"
   ]
  },
  {
   "cell_type": "code",
   "execution_count": 6,
   "metadata": {},
   "outputs": [],
   "source": [
    "# центрируем данные\n",
    "X_mean = X.mean(axis=0)\n",
    "X -= X_mean"
   ]
  },
  {
   "cell_type": "code",
   "execution_count": 7,
   "metadata": {},
   "outputs": [],
   "source": [
    "# матрица ковариации признаков\n",
    "cov = np.dot(X.T, X) / X.shape[0]"
   ]
  },
  {
   "cell_type": "code",
   "execution_count": 8,
   "metadata": {},
   "outputs": [],
   "source": [
    "U, S, _ = np.linalg.svd(cov)\n",
    "# U - собсвенные вектора матрицы ковариации\n",
    "# S - собственные значения"
   ]
  },
  {
   "cell_type": "code",
   "execution_count": 11,
   "metadata": {},
   "outputs": [
    {
     "data": {
      "text/plain": [
       "[<matplotlib.lines.Line2D at 0x18583ef07f0>]"
      ]
     },
     "execution_count": 11,
     "metadata": {},
     "output_type": "execute_result"
    },
    {
     "data": {
      "image/png": "[encoded data removed]",
      "text/plain": [
       "<Figure size 432x288 with 1 Axes>"
      ]
     },
     "metadata": {
      "needs_background": "light"
     },
     "output_type": "display_data"
    }
   ],
   "source": [
    "# накопленная сумма собственных значений\n",
    "S_cumsum = np.cumsum(S) / np.sum(S)\n",
    "plt.plot(S_cumsum, 'o')"
   ]
  },
  {
   "cell_type": "code",
   "execution_count": 12,
   "metadata": {},
   "outputs": [
    {
     "name": "stdout",
     "output_type": "stream",
     "text": [
      "n_comp=32 S=0.753\n"
     ]
    }
   ],
   "source": [
    "S_thr = 0.75  # задаем порог для накопленной суммы собственных значений\n",
    "\n",
    "# определяем необходимое число компонент для заданного порога\n",
    "n_comp = np.argmax(np.where(S_cumsum > S_thr, 1, 0))\n",
    "\n",
    "print('n_comp=%d S=%.3f' % (n_comp, S_cumsum[n_comp]))"
   ]
  },
  {
   "cell_type": "code",
   "execution_count": 13,
   "metadata": {},
   "outputs": [],
   "source": [
    "# получаем сжатое представление объектов\n",
    "Xrot_reduced = np.dot(X, U[:, :n_comp])"
   ]
  },
  {
   "cell_type": "code",
   "execution_count": 14,
   "metadata": {},
   "outputs": [],
   "source": [
    "# отделяем данные для валидации\n",
    "X_val, y_val = Xrot_reduced[-1000:], y[-1000:]"
   ]
  },
  {
   "cell_type": "code",
   "execution_count": 15,
   "metadata": {},
   "outputs": [],
   "source": [
    "# разделяем данные на train/test\n",
    "X_train, X_test, y_train, y_test = train_test_split(Xrot_reduced[:-1000], y[:-1000], test_size=0.2, random_state=3)"
   ]
  },
  {
   "cell_type": "code",
   "execution_count": 16,
   "metadata": {},
   "outputs": [
    {
     "name": "stdout",
     "output_type": "stream",
     "text": [
      "Точность модели:  0.9377777777777778\n"
     ]
    }
   ],
   "source": [
    "# обучаем модель на тренировочных данных\n",
    "clf = RandomForestClassifier(random_state=3)\n",
    "clf.fit(X_train, y_train)\n",
    "print(f'Точность модели:  {clf.score(X_test, y_test)}')"
   ]
  },
  {
   "cell_type": "code",
   "execution_count": 17,
   "metadata": {},
   "outputs": [
    {
     "name": "stdout",
     "output_type": "stream",
     "text": [
      "              precision    recall  f1-score   support\n",
      "\n",
      "         0.0       0.94      0.98      0.96        92\n",
      "         1.0       0.99      0.98      0.99       101\n",
      "         2.0       0.93      0.92      0.93        90\n",
      "         3.0       0.95      0.92      0.94       106\n",
      "         4.0       0.93      0.92      0.93       105\n",
      "         5.0       0.93      0.95      0.94        91\n",
      "         6.0       0.94      0.96      0.95        98\n",
      "         7.0       0.92      0.94      0.93       109\n",
      "         8.0       0.92      0.94      0.93       103\n",
      "         9.0       0.91      0.86      0.88       105\n",
      "\n",
      "    accuracy                           0.94      1000\n",
      "   macro avg       0.94      0.94      0.94      1000\n",
      "weighted avg       0.94      0.94      0.94      1000\n",
      "\n"
     ]
    }
   ],
   "source": [
    "# точность модели на валидационных данных\n",
    "y_pred = clf.predict(X_val)\n",
    "print(classification_report(y_val, y_pred))"
   ]
  }
 ],
 "metadata": {
  "kernelspec": {
   "display_name": "Python 3",
   "language": "python",
   "name": "python3"
  },
  "language_info": {
   "codemirror_mode": {
    "name": "ipython",
    "version": 3
   },
   "file_extension": ".py",
   "mimetype": "text/x-python",
   "name": "python",
   "nbconvert_exporter": "python",
   "pygments_lexer": "ipython3",
   "version": "3.8.5"
  }
 },
 "nbformat": 4,
 "nbformat_minor": 4
}
