{
 "cells": [
  {
   "cell_type": "code",
   "execution_count": 1,
   "metadata": {},
   "outputs": [],
   "source": [
    "import numpy as np\n",
    "import pandas as pd\n",
    "import matplotlib.pyplot as plt\n",
    "\n",
    "from tqdm.notebook import tqdm\n",
    "\n",
    "from sklearn.feature_extraction.text import TfidfTransformer, CountVectorizer\n",
    "from sklearn.neighbors import NearestNeighbors\n",
    "\n",
    "from sklearn.model_selection import train_test_split\n",
    "from sklearn.linear_model import LogisticRegression, LinearRegression\n",
    "from sklearn.metrics import mean_squared_error\n",
    "from sklearn.preprocessing import MinMaxScaler"
   ]
  },
  {
   "cell_type": "code",
   "execution_count": 2,
   "metadata": {},
   "outputs": [],
   "source": [
    "links = pd.read_csv('C:/Users/User/Desktop/Data Scientist/AML/Recsys/data/links.csv')\n",
    "movies = pd.read_csv('C:/Users/User/Desktop/Data Scientist/AML/Recsys/data/movies.csv')\n",
    "ratings = pd.read_csv('C:/Users/User/Desktop/Data Scientist/AML/Recsys/data/ratings.csv')\n",
    "tags = pd.read_csv('C:/Users/User/Desktop/Data Scientist/AML/Recsys/data/tags.csv')"
   ]
  },
  {
   "cell_type": "code",
   "execution_count": 3,
   "metadata": {
    "scrolled": true
   },
   "outputs": [
    {
     "data": {
      "text/html": [
       "<div>\n",
       "<style scoped>\n",
       "    .dataframe tbody tr th:only-of-type {\n",
       "        vertical-align: middle;\n",
       "    }\n",
       "\n",
       "    .dataframe tbody tr th {\n",
       "        vertical-align: top;\n",
       "    }\n",
       "\n",
       "    .dataframe thead th {\n",
       "        text-align: right;\n",
       "    }\n",
       "</style>\n",
       "<table border=\"1\" class=\"dataframe\">\n",
       "  <thead>\n",
       "    <tr style=\"text-align: right;\">\n",
       "      <th></th>\n",
       "      <th>movieId</th>\n",
       "      <th>title</th>\n",
       "      <th>genres</th>\n",
       "    </tr>\n",
       "  </thead>\n",
       "  <tbody>\n",
       "    <tr>\n",
       "      <th>0</th>\n",
       "      <td>1</td>\n",
       "      <td>Toy Story (1995)</td>\n",
       "      <td>Adventure|Animation|Children|Comedy|Fantasy</td>\n",
       "    </tr>\n",
       "    <tr>\n",
       "      <th>1</th>\n",
       "      <td>2</td>\n",
       "      <td>Jumanji (1995)</td>\n",
       "      <td>Adventure|Children|Fantasy</td>\n",
       "    </tr>\n",
       "    <tr>\n",
       "      <th>2</th>\n",
       "      <td>3</td>\n",
       "      <td>Grumpier Old Men (1995)</td>\n",
       "      <td>Comedy|Romance</td>\n",
       "    </tr>\n",
       "    <tr>\n",
       "      <th>3</th>\n",
       "      <td>4</td>\n",
       "      <td>Waiting to Exhale (1995)</td>\n",
       "      <td>Comedy|Drama|Romance</td>\n",
       "    </tr>\n",
       "    <tr>\n",
       "      <th>4</th>\n",
       "      <td>5</td>\n",
       "      <td>Father of the Bride Part II (1995)</td>\n",
       "      <td>Comedy</td>\n",
       "    </tr>\n",
       "  </tbody>\n",
       "</table>\n",
       "</div>"
      ],
      "text/plain": [
       "   movieId                               title  \\\n",
       "0        1                    Toy Story (1995)   \n",
       "1        2                      Jumanji (1995)   \n",
       "2        3             Grumpier Old Men (1995)   \n",
       "3        4            Waiting to Exhale (1995)   \n",
       "4        5  Father of the Bride Part II (1995)   \n",
       "\n",
       "                                        genres  \n",
       "0  Adventure|Animation|Children|Comedy|Fantasy  \n",
       "1                   Adventure|Children|Fantasy  \n",
       "2                               Comedy|Romance  \n",
       "3                         Comedy|Drama|Romance  \n",
       "4                                       Comedy  "
      ]
     },
     "execution_count": 3,
     "metadata": {},
     "output_type": "execute_result"
    }
   ],
   "source": [
    "movies.head()"
   ]
  },
  {
   "cell_type": "code",
   "execution_count": 4,
   "metadata": {},
   "outputs": [
    {
     "data": {
      "text/plain": [
       "(9742, 3)"
      ]
     },
     "execution_count": 4,
     "metadata": {},
     "output_type": "execute_result"
    }
   ],
   "source": [
    "movies.shape"
   ]
  },
  {
   "cell_type": "code",
   "execution_count": 5,
   "metadata": {
    "scrolled": true
   },
   "outputs": [
    {
     "data": {
      "text/html": [
       "<div>\n",
       "<style scoped>\n",
       "    .dataframe tbody tr th:only-of-type {\n",
       "        vertical-align: middle;\n",
       "    }\n",
       "\n",
       "    .dataframe tbody tr th {\n",
       "        vertical-align: top;\n",
       "    }\n",
       "\n",
       "    .dataframe thead th {\n",
       "        text-align: right;\n",
       "    }\n",
       "</style>\n",
       "<table border=\"1\" class=\"dataframe\">\n",
       "  <thead>\n",
       "    <tr style=\"text-align: right;\">\n",
       "      <th></th>\n",
       "      <th>userId</th>\n",
       "      <th>movieId</th>\n",
       "      <th>rating</th>\n",
       "      <th>timestamp</th>\n",
       "    </tr>\n",
       "  </thead>\n",
       "  <tbody>\n",
       "    <tr>\n",
       "      <th>0</th>\n",
       "      <td>1</td>\n",
       "      <td>1</td>\n",
       "      <td>4.0</td>\n",
       "      <td>964982703</td>\n",
       "    </tr>\n",
       "    <tr>\n",
       "      <th>1</th>\n",
       "      <td>1</td>\n",
       "      <td>3</td>\n",
       "      <td>4.0</td>\n",
       "      <td>964981247</td>\n",
       "    </tr>\n",
       "    <tr>\n",
       "      <th>2</th>\n",
       "      <td>1</td>\n",
       "      <td>6</td>\n",
       "      <td>4.0</td>\n",
       "      <td>964982224</td>\n",
       "    </tr>\n",
       "    <tr>\n",
       "      <th>3</th>\n",
       "      <td>1</td>\n",
       "      <td>47</td>\n",
       "      <td>5.0</td>\n",
       "      <td>964983815</td>\n",
       "    </tr>\n",
       "    <tr>\n",
       "      <th>4</th>\n",
       "      <td>1</td>\n",
       "      <td>50</td>\n",
       "      <td>5.0</td>\n",
       "      <td>964982931</td>\n",
       "    </tr>\n",
       "  </tbody>\n",
       "</table>\n",
       "</div>"
      ],
      "text/plain": [
       "   userId  movieId  rating  timestamp\n",
       "0       1        1     4.0  964982703\n",
       "1       1        3     4.0  964981247\n",
       "2       1        6     4.0  964982224\n",
       "3       1       47     5.0  964983815\n",
       "4       1       50     5.0  964982931"
      ]
     },
     "execution_count": 5,
     "metadata": {},
     "output_type": "execute_result"
    }
   ],
   "source": [
    "ratings.head()"
   ]
  },
  {
   "cell_type": "code",
   "execution_count": 6,
   "metadata": {},
   "outputs": [
    {
     "data": {
      "text/plain": [
       "(100836, 4)"
      ]
     },
     "execution_count": 6,
     "metadata": {},
     "output_type": "execute_result"
    }
   ],
   "source": [
    "ratings.shape"
   ]
  },
  {
   "cell_type": "code",
   "execution_count": 7,
   "metadata": {
    "scrolled": true
   },
   "outputs": [
    {
     "data": {
      "text/html": [
       "<div>\n",
       "<style scoped>\n",
       "    .dataframe tbody tr th:only-of-type {\n",
       "        vertical-align: middle;\n",
       "    }\n",
       "\n",
       "    .dataframe tbody tr th {\n",
       "        vertical-align: top;\n",
       "    }\n",
       "\n",
       "    .dataframe thead th {\n",
       "        text-align: right;\n",
       "    }\n",
       "</style>\n",
       "<table border=\"1\" class=\"dataframe\">\n",
       "  <thead>\n",
       "    <tr style=\"text-align: right;\">\n",
       "      <th></th>\n",
       "      <th>userId</th>\n",
       "      <th>movieId</th>\n",
       "      <th>tag</th>\n",
       "      <th>timestamp</th>\n",
       "    </tr>\n",
       "  </thead>\n",
       "  <tbody>\n",
       "    <tr>\n",
       "      <th>0</th>\n",
       "      <td>2</td>\n",
       "      <td>60756</td>\n",
       "      <td>funny</td>\n",
       "      <td>1445714994</td>\n",
       "    </tr>\n",
       "    <tr>\n",
       "      <th>1</th>\n",
       "      <td>2</td>\n",
       "      <td>60756</td>\n",
       "      <td>Highly quotable</td>\n",
       "      <td>1445714996</td>\n",
       "    </tr>\n",
       "    <tr>\n",
       "      <th>2</th>\n",
       "      <td>2</td>\n",
       "      <td>60756</td>\n",
       "      <td>will ferrell</td>\n",
       "      <td>1445714992</td>\n",
       "    </tr>\n",
       "    <tr>\n",
       "      <th>3</th>\n",
       "      <td>2</td>\n",
       "      <td>89774</td>\n",
       "      <td>Boxing story</td>\n",
       "      <td>1445715207</td>\n",
       "    </tr>\n",
       "    <tr>\n",
       "      <th>4</th>\n",
       "      <td>2</td>\n",
       "      <td>89774</td>\n",
       "      <td>MMA</td>\n",
       "      <td>1445715200</td>\n",
       "    </tr>\n",
       "  </tbody>\n",
       "</table>\n",
       "</div>"
      ],
      "text/plain": [
       "   userId  movieId              tag   timestamp\n",
       "0       2    60756            funny  1445714994\n",
       "1       2    60756  Highly quotable  1445714996\n",
       "2       2    60756     will ferrell  1445714992\n",
       "3       2    89774     Boxing story  1445715207\n",
       "4       2    89774              MMA  1445715200"
      ]
     },
     "execution_count": 7,
     "metadata": {},
     "output_type": "execute_result"
    }
   ],
   "source": [
    "tags.head()"
   ]
  },
  {
   "cell_type": "code",
   "execution_count": 8,
   "metadata": {},
   "outputs": [
    {
     "data": {
      "text/plain": [
       "(3683, 4)"
      ]
     },
     "execution_count": 8,
     "metadata": {},
     "output_type": "execute_result"
    }
   ],
   "source": [
    "tags.shape"
   ]
  },
  {
   "cell_type": "code",
   "execution_count": 9,
   "metadata": {},
   "outputs": [
    {
     "data": {
      "text/html": [
       "<div>\n",
       "<style scoped>\n",
       "    .dataframe tbody tr th:only-of-type {\n",
       "        vertical-align: middle;\n",
       "    }\n",
       "\n",
       "    .dataframe tbody tr th {\n",
       "        vertical-align: top;\n",
       "    }\n",
       "\n",
       "    .dataframe thead th {\n",
       "        text-align: right;\n",
       "    }\n",
       "</style>\n",
       "<table border=\"1\" class=\"dataframe\">\n",
       "  <thead>\n",
       "    <tr style=\"text-align: right;\">\n",
       "      <th></th>\n",
       "      <th>userId</th>\n",
       "      <th>movieId</th>\n",
       "      <th>rating</th>\n",
       "      <th>timestamp_x</th>\n",
       "      <th>tag</th>\n",
       "      <th>timestamp_y</th>\n",
       "    </tr>\n",
       "  </thead>\n",
       "  <tbody>\n",
       "    <tr>\n",
       "      <th>0</th>\n",
       "      <td>1</td>\n",
       "      <td>1</td>\n",
       "      <td>4.0</td>\n",
       "      <td>964982703</td>\n",
       "      <td>NaN</td>\n",
       "      <td>NaN</td>\n",
       "    </tr>\n",
       "    <tr>\n",
       "      <th>1</th>\n",
       "      <td>1</td>\n",
       "      <td>3</td>\n",
       "      <td>4.0</td>\n",
       "      <td>964981247</td>\n",
       "      <td>NaN</td>\n",
       "      <td>NaN</td>\n",
       "    </tr>\n",
       "    <tr>\n",
       "      <th>2</th>\n",
       "      <td>1</td>\n",
       "      <td>6</td>\n",
       "      <td>4.0</td>\n",
       "      <td>964982224</td>\n",
       "      <td>NaN</td>\n",
       "      <td>NaN</td>\n",
       "    </tr>\n",
       "    <tr>\n",
       "      <th>3</th>\n",
       "      <td>1</td>\n",
       "      <td>47</td>\n",
       "      <td>5.0</td>\n",
       "      <td>964983815</td>\n",
       "      <td>NaN</td>\n",
       "      <td>NaN</td>\n",
       "    </tr>\n",
       "    <tr>\n",
       "      <th>4</th>\n",
       "      <td>1</td>\n",
       "      <td>50</td>\n",
       "      <td>5.0</td>\n",
       "      <td>964982931</td>\n",
       "      <td>NaN</td>\n",
       "      <td>NaN</td>\n",
       "    </tr>\n",
       "  </tbody>\n",
       "</table>\n",
       "</div>"
      ],
      "text/plain": [
       "   userId  movieId  rating  timestamp_x  tag  timestamp_y\n",
       "0       1        1     4.0    964982703  NaN          NaN\n",
       "1       1        3     4.0    964981247  NaN          NaN\n",
       "2       1        6     4.0    964982224  NaN          NaN\n",
       "3       1       47     5.0    964983815  NaN          NaN\n",
       "4       1       50     5.0    964982931  NaN          NaN"
      ]
     },
     "execution_count": 9,
     "metadata": {},
     "output_type": "execute_result"
    }
   ],
   "source": [
    "# Объеденим датасеты рейтингов и тегов\n",
    "ratings_tags = pd.merge(ratings, tags, how='left', left_on=['userId', 'movieId'], right_on=['userId', 'movieId'])\n",
    "ratings_tags.head()"
   ]
  },
  {
   "cell_type": "code",
   "execution_count": 10,
   "metadata": {},
   "outputs": [
    {
     "data": {
      "text/plain": [
       "(102677, 6)"
      ]
     },
     "execution_count": 10,
     "metadata": {},
     "output_type": "execute_result"
    }
   ],
   "source": [
    "ratings_tags.shape"
   ]
  },
  {
   "cell_type": "code",
   "execution_count": 11,
   "metadata": {},
   "outputs": [
    {
     "data": {
      "text/html": [
       "<div>\n",
       "<style scoped>\n",
       "    .dataframe tbody tr th:only-of-type {\n",
       "        vertical-align: middle;\n",
       "    }\n",
       "\n",
       "    .dataframe tbody tr th {\n",
       "        vertical-align: top;\n",
       "    }\n",
       "\n",
       "    .dataframe thead th {\n",
       "        text-align: right;\n",
       "    }\n",
       "</style>\n",
       "<table border=\"1\" class=\"dataframe\">\n",
       "  <thead>\n",
       "    <tr style=\"text-align: right;\">\n",
       "      <th></th>\n",
       "      <th>userId</th>\n",
       "      <th>movieId</th>\n",
       "      <th>rating</th>\n",
       "      <th>timestamp_x</th>\n",
       "      <th>tag</th>\n",
       "      <th>timestamp_y</th>\n",
       "      <th>title</th>\n",
       "      <th>genres</th>\n",
       "    </tr>\n",
       "  </thead>\n",
       "  <tbody>\n",
       "    <tr>\n",
       "      <th>0</th>\n",
       "      <td>1</td>\n",
       "      <td>1</td>\n",
       "      <td>4.0</td>\n",
       "      <td>964982703</td>\n",
       "      <td>NaN</td>\n",
       "      <td>NaN</td>\n",
       "      <td>Toy Story (1995)</td>\n",
       "      <td>Adventure|Animation|Children|Comedy|Fantasy</td>\n",
       "    </tr>\n",
       "    <tr>\n",
       "      <th>1</th>\n",
       "      <td>1</td>\n",
       "      <td>3</td>\n",
       "      <td>4.0</td>\n",
       "      <td>964981247</td>\n",
       "      <td>NaN</td>\n",
       "      <td>NaN</td>\n",
       "      <td>Grumpier Old Men (1995)</td>\n",
       "      <td>Comedy|Romance</td>\n",
       "    </tr>\n",
       "    <tr>\n",
       "      <th>2</th>\n",
       "      <td>1</td>\n",
       "      <td>6</td>\n",
       "      <td>4.0</td>\n",
       "      <td>964982224</td>\n",
       "      <td>NaN</td>\n",
       "      <td>NaN</td>\n",
       "      <td>Heat (1995)</td>\n",
       "      <td>Action|Crime|Thriller</td>\n",
       "    </tr>\n",
       "    <tr>\n",
       "      <th>3</th>\n",
       "      <td>1</td>\n",
       "      <td>47</td>\n",
       "      <td>5.0</td>\n",
       "      <td>964983815</td>\n",
       "      <td>NaN</td>\n",
       "      <td>NaN</td>\n",
       "      <td>Seven (a.k.a. Se7en) (1995)</td>\n",
       "      <td>Mystery|Thriller</td>\n",
       "    </tr>\n",
       "    <tr>\n",
       "      <th>4</th>\n",
       "      <td>1</td>\n",
       "      <td>50</td>\n",
       "      <td>5.0</td>\n",
       "      <td>964982931</td>\n",
       "      <td>NaN</td>\n",
       "      <td>NaN</td>\n",
       "      <td>Usual Suspects, The (1995)</td>\n",
       "      <td>Crime|Mystery|Thriller</td>\n",
       "    </tr>\n",
       "  </tbody>\n",
       "</table>\n",
       "</div>"
      ],
      "text/plain": [
       "   userId  movieId  rating  timestamp_x  tag  timestamp_y  \\\n",
       "0       1        1     4.0    964982703  NaN          NaN   \n",
       "1       1        3     4.0    964981247  NaN          NaN   \n",
       "2       1        6     4.0    964982224  NaN          NaN   \n",
       "3       1       47     5.0    964983815  NaN          NaN   \n",
       "4       1       50     5.0    964982931  NaN          NaN   \n",
       "\n",
       "                         title                                       genres  \n",
       "0             Toy Story (1995)  Adventure|Animation|Children|Comedy|Fantasy  \n",
       "1      Grumpier Old Men (1995)                               Comedy|Romance  \n",
       "2                  Heat (1995)                        Action|Crime|Thriller  \n",
       "3  Seven (a.k.a. Se7en) (1995)                             Mystery|Thriller  \n",
       "4   Usual Suspects, The (1995)                       Crime|Mystery|Thriller  "
      ]
     },
     "execution_count": 11,
     "metadata": {},
     "output_type": "execute_result"
    }
   ],
   "source": [
    "# Объеденим датасет с тегами и рейтингами с датасетом жанров\n",
    "ratings_tags_genres = pd.merge(ratings_tags, movies, how='left', on='movieId')\n",
    "ratings_tags_genres.head()"
   ]
  },
  {
   "cell_type": "code",
   "execution_count": 12,
   "metadata": {},
   "outputs": [
    {
     "data": {
      "text/plain": [
       "(102677, 8)"
      ]
     },
     "execution_count": 12,
     "metadata": {},
     "output_type": "execute_result"
    }
   ],
   "source": [
    "ratings_tags_genres.shape"
   ]
  },
  {
   "cell_type": "code",
   "execution_count": 13,
   "metadata": {},
   "outputs": [
    {
     "data": {
      "text/plain": [
       "49"
      ]
     },
     "execution_count": 13,
     "metadata": {},
     "output_type": "execute_result"
    }
   ],
   "source": [
    "# В жанрах есть неопределённые значения жанров\n",
    "ratings_tags_genres.loc[ratings_tags_genres.genres == '(no genres listed)'].shape[0]"
   ]
  },
  {
   "cell_type": "code",
   "execution_count": 14,
   "metadata": {},
   "outputs": [],
   "source": [
    "# Удалим данные с неопределёнными значениями жанров\n",
    "ratings_tags_genres = ratings_tags_genres.loc[ratings_tags_genres.genres != '(no genres listed)'].reset_index(drop=True)"
   ]
  },
  {
   "cell_type": "code",
   "execution_count": 15,
   "metadata": {
    "scrolled": false
   },
   "outputs": [
    {
     "data": {
      "text/plain": [
       "(102628, 8)"
      ]
     },
     "execution_count": 15,
     "metadata": {},
     "output_type": "execute_result"
    }
   ],
   "source": [
    "ratings_tags_genres.shape"
   ]
  },
  {
   "cell_type": "code",
   "execution_count": 16,
   "metadata": {},
   "outputs": [],
   "source": [
    "def change_genre(s):\n",
    "    return ' '.join(s.replace(' ', '').replace('-', '').split('|'))"
   ]
  },
  {
   "cell_type": "code",
   "execution_count": 17,
   "metadata": {},
   "outputs": [],
   "source": [
    "# Изменим фич genres для последующей обработки\n",
    "ratings_tags_genres.loc[:, 'genres'] = ratings_tags_genres.loc[:, 'genres'].apply(change_genre)"
   ]
  },
  {
   "cell_type": "code",
   "execution_count": 18,
   "metadata": {},
   "outputs": [
    {
     "data": {
      "application/vnd.jupyter.widget-view+json": {
       "model_id": "9ed7bd41c520455a9fd322f641d77bcc",
       "version_major": 2,
       "version_minor": 0
      },
      "text/plain": [
       "HBox(children=(FloatProgress(value=0.0, max=1572.0), HTML(value='')))"
      ]
     },
     "metadata": {},
     "output_type": "display_data"
    },
    {
     "name": "stdout",
     "output_type": "stream",
     "text": [
      "\n"
     ]
    }
   ],
   "source": [
    "# Объединим теги по фильмам\n",
    "movie_tags = {}\n",
    "for movie, group in tqdm(tags.groupby('movieId')):\n",
    "    movie_tags[movie] = ' '.join([str(s).title().replace(' ', '').replace('-', '').replace('.', '')\n",
    "                                  for s in group.tag.values])"
   ]
  },
  {
   "cell_type": "code",
   "execution_count": 19,
   "metadata": {},
   "outputs": [],
   "source": [
    "# Создадим новый фич all_tags - общие теги фильма\n",
    "ratings_tags_genres = pd.merge(ratings_tags_genres, pd.Series(movie_tags).rename('all_tags'),\n",
    "                               how='left', left_on='movieId', right_index=True)"
   ]
  },
  {
   "cell_type": "code",
   "execution_count": 20,
   "metadata": {},
   "outputs": [
    {
     "data": {
      "text/html": [
       "<div>\n",
       "<style scoped>\n",
       "    .dataframe tbody tr th:only-of-type {\n",
       "        vertical-align: middle;\n",
       "    }\n",
       "\n",
       "    .dataframe tbody tr th {\n",
       "        vertical-align: top;\n",
       "    }\n",
       "\n",
       "    .dataframe thead th {\n",
       "        text-align: right;\n",
       "    }\n",
       "</style>\n",
       "<table border=\"1\" class=\"dataframe\">\n",
       "  <thead>\n",
       "    <tr style=\"text-align: right;\">\n",
       "      <th></th>\n",
       "      <th>userId</th>\n",
       "      <th>movieId</th>\n",
       "      <th>rating</th>\n",
       "      <th>timestamp_x</th>\n",
       "      <th>tag</th>\n",
       "      <th>timestamp_y</th>\n",
       "      <th>title</th>\n",
       "      <th>genres</th>\n",
       "      <th>all_tags</th>\n",
       "    </tr>\n",
       "  </thead>\n",
       "  <tbody>\n",
       "    <tr>\n",
       "      <th>0</th>\n",
       "      <td>1</td>\n",
       "      <td>1</td>\n",
       "      <td>4.0</td>\n",
       "      <td>964982703</td>\n",
       "      <td>NaN</td>\n",
       "      <td>NaN</td>\n",
       "      <td>Toy Story (1995)</td>\n",
       "      <td>Adventure Animation Children Comedy Fantasy</td>\n",
       "      <td>Pixar Pixar Fun</td>\n",
       "    </tr>\n",
       "    <tr>\n",
       "      <th>1</th>\n",
       "      <td>1</td>\n",
       "      <td>3</td>\n",
       "      <td>4.0</td>\n",
       "      <td>964981247</td>\n",
       "      <td>NaN</td>\n",
       "      <td>NaN</td>\n",
       "      <td>Grumpier Old Men (1995)</td>\n",
       "      <td>Comedy Romance</td>\n",
       "      <td>Moldy Old</td>\n",
       "    </tr>\n",
       "    <tr>\n",
       "      <th>2</th>\n",
       "      <td>1</td>\n",
       "      <td>6</td>\n",
       "      <td>4.0</td>\n",
       "      <td>964982224</td>\n",
       "      <td>NaN</td>\n",
       "      <td>NaN</td>\n",
       "      <td>Heat (1995)</td>\n",
       "      <td>Action Crime Thriller</td>\n",
       "      <td>NaN</td>\n",
       "    </tr>\n",
       "    <tr>\n",
       "      <th>3</th>\n",
       "      <td>1</td>\n",
       "      <td>47</td>\n",
       "      <td>5.0</td>\n",
       "      <td>964983815</td>\n",
       "      <td>NaN</td>\n",
       "      <td>NaN</td>\n",
       "      <td>Seven (a.k.a. Se7en) (1995)</td>\n",
       "      <td>Mystery Thriller</td>\n",
       "      <td>Mystery TwistEnding SerialKiller</td>\n",
       "    </tr>\n",
       "    <tr>\n",
       "      <th>4</th>\n",
       "      <td>1</td>\n",
       "      <td>50</td>\n",
       "      <td>5.0</td>\n",
       "      <td>964982931</td>\n",
       "      <td>NaN</td>\n",
       "      <td>NaN</td>\n",
       "      <td>Usual Suspects, The (1995)</td>\n",
       "      <td>Crime Mystery Thriller</td>\n",
       "      <td>Mindfuck Suspense Thriller Tricky TwistEnding ...</td>\n",
       "    </tr>\n",
       "  </tbody>\n",
       "</table>\n",
       "</div>"
      ],
      "text/plain": [
       "   userId  movieId  rating  timestamp_x  tag  timestamp_y  \\\n",
       "0       1        1     4.0    964982703  NaN          NaN   \n",
       "1       1        3     4.0    964981247  NaN          NaN   \n",
       "2       1        6     4.0    964982224  NaN          NaN   \n",
       "3       1       47     5.0    964983815  NaN          NaN   \n",
       "4       1       50     5.0    964982931  NaN          NaN   \n",
       "\n",
       "                         title                                       genres  \\\n",
       "0             Toy Story (1995)  Adventure Animation Children Comedy Fantasy   \n",
       "1      Grumpier Old Men (1995)                               Comedy Romance   \n",
       "2                  Heat (1995)                        Action Crime Thriller   \n",
       "3  Seven (a.k.a. Se7en) (1995)                             Mystery Thriller   \n",
       "4   Usual Suspects, The (1995)                       Crime Mystery Thriller   \n",
       "\n",
       "                                            all_tags  \n",
       "0                                    Pixar Pixar Fun  \n",
       "1                                          Moldy Old  \n",
       "2                                                NaN  \n",
       "3                   Mystery TwistEnding SerialKiller  \n",
       "4  Mindfuck Suspense Thriller Tricky TwistEnding ...  "
      ]
     },
     "execution_count": 20,
     "metadata": {},
     "output_type": "execute_result"
    }
   ],
   "source": [
    "ratings_tags_genres.head()"
   ]
  },
  {
   "cell_type": "code",
   "execution_count": 21,
   "metadata": {},
   "outputs": [
    {
     "data": {
      "text/plain": [
       "min      20\n",
       "max    2792\n",
       "Name: rating, dtype: int64"
      ]
     },
     "execution_count": 21,
     "metadata": {},
     "output_type": "execute_result"
    }
   ],
   "source": [
    "# Максимальное и минимальное количество оценок по всем пользователям\n",
    "ratings_tags_genres.groupby('userId').count().rating.agg(['min', 'max'])"
   ]
  },
  {
   "cell_type": "markdown",
   "metadata": {},
   "source": [
    "Создадим новые фичи из метрик:  \n",
    " **r_mean_user**: средняя оценка фильма каждого пользователя  \n",
    " **r_value_user**: размах умноженный на медиану по оценкам фильма каждого пользователя  \n",
    " **r_mean_movie**: средняя оценка фильма по всем пользователям  \n",
    " **r_value_movie**: размах умноженный на медиану по всем пользователям для каждого фильма"
   ]
  },
  {
   "cell_type": "code",
   "execution_count": 22,
   "metadata": {},
   "outputs": [],
   "source": [
    "user_ratings = ratings.groupby('userId').agg(['min', 'max', 'mean', 'median']).rating"
   ]
  },
  {
   "cell_type": "code",
   "execution_count": 23,
   "metadata": {},
   "outputs": [],
   "source": [
    "user_ratings.rename(columns={'mean': 'r_mean_user'}, inplace=True)"
   ]
  },
  {
   "cell_type": "code",
   "execution_count": 24,
   "metadata": {},
   "outputs": [],
   "source": [
    "user_ratings['r_value_user'] = user_ratings.apply(lambda row: (row['max'] - row['min']) * row['median']\n",
    "                                                  if row['max'] != row['min'] else row['median'], axis=1)"
   ]
  },
  {
   "cell_type": "code",
   "execution_count": 25,
   "metadata": {},
   "outputs": [
    {
     "data": {
      "text/html": [
       "<div>\n",
       "<style scoped>\n",
       "    .dataframe tbody tr th:only-of-type {\n",
       "        vertical-align: middle;\n",
       "    }\n",
       "\n",
       "    .dataframe tbody tr th {\n",
       "        vertical-align: top;\n",
       "    }\n",
       "\n",
       "    .dataframe thead th {\n",
       "        text-align: right;\n",
       "    }\n",
       "</style>\n",
       "<table border=\"1\" class=\"dataframe\">\n",
       "  <thead>\n",
       "    <tr style=\"text-align: right;\">\n",
       "      <th></th>\n",
       "      <th>min</th>\n",
       "      <th>max</th>\n",
       "      <th>r_mean_user</th>\n",
       "      <th>median</th>\n",
       "      <th>r_value_user</th>\n",
       "    </tr>\n",
       "    <tr>\n",
       "      <th>userId</th>\n",
       "      <th></th>\n",
       "      <th></th>\n",
       "      <th></th>\n",
       "      <th></th>\n",
       "      <th></th>\n",
       "    </tr>\n",
       "  </thead>\n",
       "  <tbody>\n",
       "    <tr>\n",
       "      <th>1</th>\n",
       "      <td>1.0</td>\n",
       "      <td>5.0</td>\n",
       "      <td>4.366379</td>\n",
       "      <td>5.0</td>\n",
       "      <td>20.00</td>\n",
       "    </tr>\n",
       "    <tr>\n",
       "      <th>2</th>\n",
       "      <td>2.0</td>\n",
       "      <td>5.0</td>\n",
       "      <td>3.948276</td>\n",
       "      <td>4.0</td>\n",
       "      <td>12.00</td>\n",
       "    </tr>\n",
       "    <tr>\n",
       "      <th>3</th>\n",
       "      <td>0.5</td>\n",
       "      <td>5.0</td>\n",
       "      <td>2.435897</td>\n",
       "      <td>0.5</td>\n",
       "      <td>2.25</td>\n",
       "    </tr>\n",
       "    <tr>\n",
       "      <th>4</th>\n",
       "      <td>1.0</td>\n",
       "      <td>5.0</td>\n",
       "      <td>3.555556</td>\n",
       "      <td>4.0</td>\n",
       "      <td>16.00</td>\n",
       "    </tr>\n",
       "    <tr>\n",
       "      <th>5</th>\n",
       "      <td>1.0</td>\n",
       "      <td>5.0</td>\n",
       "      <td>3.636364</td>\n",
       "      <td>4.0</td>\n",
       "      <td>16.00</td>\n",
       "    </tr>\n",
       "  </tbody>\n",
       "</table>\n",
       "</div>"
      ],
      "text/plain": [
       "        min  max  r_mean_user  median  r_value_user\n",
       "userId                                             \n",
       "1       1.0  5.0     4.366379     5.0         20.00\n",
       "2       2.0  5.0     3.948276     4.0         12.00\n",
       "3       0.5  5.0     2.435897     0.5          2.25\n",
       "4       1.0  5.0     3.555556     4.0         16.00\n",
       "5       1.0  5.0     3.636364     4.0         16.00"
      ]
     },
     "execution_count": 25,
     "metadata": {},
     "output_type": "execute_result"
    }
   ],
   "source": [
    "user_ratings.head()"
   ]
  },
  {
   "cell_type": "code",
   "execution_count": 26,
   "metadata": {},
   "outputs": [],
   "source": [
    "movie_ratings = ratings.groupby('movieId').agg(['min', 'max', 'mean', 'median']).rating"
   ]
  },
  {
   "cell_type": "code",
   "execution_count": 27,
   "metadata": {},
   "outputs": [],
   "source": [
    "movie_ratings.rename(columns={'mean': 'r_mean_movie'}, inplace=True)"
   ]
  },
  {
   "cell_type": "code",
   "execution_count": 28,
   "metadata": {},
   "outputs": [],
   "source": [
    "movie_ratings['r_value_movie'] = movie_ratings.apply(lambda row: (row['max'] - row['min']) * row['median']\n",
    "                                                    if row['max'] != row['min'] else row['median'], axis=1)"
   ]
  },
  {
   "cell_type": "code",
   "execution_count": 29,
   "metadata": {},
   "outputs": [
    {
     "data": {
      "text/html": [
       "<div>\n",
       "<style scoped>\n",
       "    .dataframe tbody tr th:only-of-type {\n",
       "        vertical-align: middle;\n",
       "    }\n",
       "\n",
       "    .dataframe tbody tr th {\n",
       "        vertical-align: top;\n",
       "    }\n",
       "\n",
       "    .dataframe thead th {\n",
       "        text-align: right;\n",
       "    }\n",
       "</style>\n",
       "<table border=\"1\" class=\"dataframe\">\n",
       "  <thead>\n",
       "    <tr style=\"text-align: right;\">\n",
       "      <th></th>\n",
       "      <th>min</th>\n",
       "      <th>max</th>\n",
       "      <th>r_mean_movie</th>\n",
       "      <th>median</th>\n",
       "      <th>r_value_movie</th>\n",
       "    </tr>\n",
       "    <tr>\n",
       "      <th>movieId</th>\n",
       "      <th></th>\n",
       "      <th></th>\n",
       "      <th></th>\n",
       "      <th></th>\n",
       "      <th></th>\n",
       "    </tr>\n",
       "  </thead>\n",
       "  <tbody>\n",
       "    <tr>\n",
       "      <th>1</th>\n",
       "      <td>0.5</td>\n",
       "      <td>5.0</td>\n",
       "      <td>3.920930</td>\n",
       "      <td>4.0</td>\n",
       "      <td>18.00</td>\n",
       "    </tr>\n",
       "    <tr>\n",
       "      <th>2</th>\n",
       "      <td>0.5</td>\n",
       "      <td>5.0</td>\n",
       "      <td>3.431818</td>\n",
       "      <td>3.5</td>\n",
       "      <td>15.75</td>\n",
       "    </tr>\n",
       "    <tr>\n",
       "      <th>3</th>\n",
       "      <td>0.5</td>\n",
       "      <td>5.0</td>\n",
       "      <td>3.259615</td>\n",
       "      <td>3.0</td>\n",
       "      <td>13.50</td>\n",
       "    </tr>\n",
       "    <tr>\n",
       "      <th>4</th>\n",
       "      <td>1.0</td>\n",
       "      <td>3.0</td>\n",
       "      <td>2.357143</td>\n",
       "      <td>3.0</td>\n",
       "      <td>6.00</td>\n",
       "    </tr>\n",
       "    <tr>\n",
       "      <th>5</th>\n",
       "      <td>0.5</td>\n",
       "      <td>5.0</td>\n",
       "      <td>3.071429</td>\n",
       "      <td>3.0</td>\n",
       "      <td>13.50</td>\n",
       "    </tr>\n",
       "  </tbody>\n",
       "</table>\n",
       "</div>"
      ],
      "text/plain": [
       "         min  max  r_mean_movie  median  r_value_movie\n",
       "movieId                                               \n",
       "1        0.5  5.0      3.920930     4.0          18.00\n",
       "2        0.5  5.0      3.431818     3.5          15.75\n",
       "3        0.5  5.0      3.259615     3.0          13.50\n",
       "4        1.0  3.0      2.357143     3.0           6.00\n",
       "5        0.5  5.0      3.071429     3.0          13.50"
      ]
     },
     "execution_count": 29,
     "metadata": {},
     "output_type": "execute_result"
    }
   ],
   "source": [
    "movie_ratings.head()"
   ]
  },
  {
   "cell_type": "code",
   "execution_count": 30,
   "metadata": {},
   "outputs": [],
   "source": [
    "ratings_tags_genres = pd.merge(ratings_tags_genres, user_ratings[['r_mean_user', 'r_value_user']],\n",
    "                               how='left', left_on='userId', right_index=True)"
   ]
  },
  {
   "cell_type": "code",
   "execution_count": 31,
   "metadata": {},
   "outputs": [],
   "source": [
    "ratings_tags_genres = pd.merge(ratings_tags_genres, movie_ratings[['r_mean_movie', 'r_value_movie']],\n",
    "                               how='left', left_on='movieId', right_index=True)"
   ]
  },
  {
   "cell_type": "code",
   "execution_count": 32,
   "metadata": {
    "scrolled": false
   },
   "outputs": [
    {
     "data": {
      "text/html": [
       "<div>\n",
       "<style scoped>\n",
       "    .dataframe tbody tr th:only-of-type {\n",
       "        vertical-align: middle;\n",
       "    }\n",
       "\n",
       "    .dataframe tbody tr th {\n",
       "        vertical-align: top;\n",
       "    }\n",
       "\n",
       "    .dataframe thead th {\n",
       "        text-align: right;\n",
       "    }\n",
       "</style>\n",
       "<table border=\"1\" class=\"dataframe\">\n",
       "  <thead>\n",
       "    <tr style=\"text-align: right;\">\n",
       "      <th></th>\n",
       "      <th>userId</th>\n",
       "      <th>movieId</th>\n",
       "      <th>rating</th>\n",
       "      <th>timestamp_x</th>\n",
       "      <th>tag</th>\n",
       "      <th>timestamp_y</th>\n",
       "      <th>title</th>\n",
       "      <th>genres</th>\n",
       "      <th>all_tags</th>\n",
       "      <th>r_mean_user</th>\n",
       "      <th>r_value_user</th>\n",
       "      <th>r_mean_movie</th>\n",
       "      <th>r_value_movie</th>\n",
       "    </tr>\n",
       "  </thead>\n",
       "  <tbody>\n",
       "    <tr>\n",
       "      <th>0</th>\n",
       "      <td>1</td>\n",
       "      <td>1</td>\n",
       "      <td>4.0</td>\n",
       "      <td>964982703</td>\n",
       "      <td>NaN</td>\n",
       "      <td>NaN</td>\n",
       "      <td>Toy Story (1995)</td>\n",
       "      <td>Adventure Animation Children Comedy Fantasy</td>\n",
       "      <td>Pixar Pixar Fun</td>\n",
       "      <td>4.366379</td>\n",
       "      <td>20.0</td>\n",
       "      <td>3.920930</td>\n",
       "      <td>18.0</td>\n",
       "    </tr>\n",
       "    <tr>\n",
       "      <th>1</th>\n",
       "      <td>1</td>\n",
       "      <td>3</td>\n",
       "      <td>4.0</td>\n",
       "      <td>964981247</td>\n",
       "      <td>NaN</td>\n",
       "      <td>NaN</td>\n",
       "      <td>Grumpier Old Men (1995)</td>\n",
       "      <td>Comedy Romance</td>\n",
       "      <td>Moldy Old</td>\n",
       "      <td>4.366379</td>\n",
       "      <td>20.0</td>\n",
       "      <td>3.259615</td>\n",
       "      <td>13.5</td>\n",
       "    </tr>\n",
       "    <tr>\n",
       "      <th>2</th>\n",
       "      <td>1</td>\n",
       "      <td>6</td>\n",
       "      <td>4.0</td>\n",
       "      <td>964982224</td>\n",
       "      <td>NaN</td>\n",
       "      <td>NaN</td>\n",
       "      <td>Heat (1995)</td>\n",
       "      <td>Action Crime Thriller</td>\n",
       "      <td>NaN</td>\n",
       "      <td>4.366379</td>\n",
       "      <td>20.0</td>\n",
       "      <td>3.946078</td>\n",
       "      <td>16.0</td>\n",
       "    </tr>\n",
       "    <tr>\n",
       "      <th>3</th>\n",
       "      <td>1</td>\n",
       "      <td>47</td>\n",
       "      <td>5.0</td>\n",
       "      <td>964983815</td>\n",
       "      <td>NaN</td>\n",
       "      <td>NaN</td>\n",
       "      <td>Seven (a.k.a. Se7en) (1995)</td>\n",
       "      <td>Mystery Thriller</td>\n",
       "      <td>Mystery TwistEnding SerialKiller</td>\n",
       "      <td>4.366379</td>\n",
       "      <td>20.0</td>\n",
       "      <td>3.975369</td>\n",
       "      <td>18.0</td>\n",
       "    </tr>\n",
       "    <tr>\n",
       "      <th>4</th>\n",
       "      <td>1</td>\n",
       "      <td>50</td>\n",
       "      <td>5.0</td>\n",
       "      <td>964982931</td>\n",
       "      <td>NaN</td>\n",
       "      <td>NaN</td>\n",
       "      <td>Usual Suspects, The (1995)</td>\n",
       "      <td>Crime Mystery Thriller</td>\n",
       "      <td>Mindfuck Suspense Thriller Tricky TwistEnding ...</td>\n",
       "      <td>4.366379</td>\n",
       "      <td>20.0</td>\n",
       "      <td>4.237745</td>\n",
       "      <td>18.0</td>\n",
       "    </tr>\n",
       "  </tbody>\n",
       "</table>\n",
       "</div>"
      ],
      "text/plain": [
       "   userId  movieId  rating  timestamp_x  tag  timestamp_y  \\\n",
       "0       1        1     4.0    964982703  NaN          NaN   \n",
       "1       1        3     4.0    964981247  NaN          NaN   \n",
       "2       1        6     4.0    964982224  NaN          NaN   \n",
       "3       1       47     5.0    964983815  NaN          NaN   \n",
       "4       1       50     5.0    964982931  NaN          NaN   \n",
       "\n",
       "                         title                                       genres  \\\n",
       "0             Toy Story (1995)  Adventure Animation Children Comedy Fantasy   \n",
       "1      Grumpier Old Men (1995)                               Comedy Romance   \n",
       "2                  Heat (1995)                        Action Crime Thriller   \n",
       "3  Seven (a.k.a. Se7en) (1995)                             Mystery Thriller   \n",
       "4   Usual Suspects, The (1995)                       Crime Mystery Thriller   \n",
       "\n",
       "                                            all_tags  r_mean_user  \\\n",
       "0                                    Pixar Pixar Fun     4.366379   \n",
       "1                                          Moldy Old     4.366379   \n",
       "2                                                NaN     4.366379   \n",
       "3                   Mystery TwistEnding SerialKiller     4.366379   \n",
       "4  Mindfuck Suspense Thriller Tricky TwistEnding ...     4.366379   \n",
       "\n",
       "   r_value_user  r_mean_movie  r_value_movie  \n",
       "0          20.0      3.920930           18.0  \n",
       "1          20.0      3.259615           13.5  \n",
       "2          20.0      3.946078           16.0  \n",
       "3          20.0      3.975369           18.0  \n",
       "4          20.0      4.237745           18.0  "
      ]
     },
     "execution_count": 32,
     "metadata": {},
     "output_type": "execute_result"
    }
   ],
   "source": [
    "ratings_tags_genres.head()"
   ]
  },
  {
   "cell_type": "code",
   "execution_count": 33,
   "metadata": {},
   "outputs": [
    {
     "data": {
      "text/plain": [
       "52503"
      ]
     },
     "execution_count": 33,
     "metadata": {},
     "output_type": "execute_result"
    }
   ],
   "source": [
    "# Количество фильмов без тегов\n",
    "ratings_tags_genres.all_tags.isna().sum()"
   ]
  },
  {
   "cell_type": "code",
   "execution_count": 34,
   "metadata": {},
   "outputs": [],
   "source": [
    "# Удалим фильмы без тегов\n",
    "ratings_tags_genres = ratings_tags_genres.loc[ratings_tags_genres.all_tags.notna()].reset_index(drop=True)"
   ]
  },
  {
   "cell_type": "code",
   "execution_count": 35,
   "metadata": {},
   "outputs": [
    {
     "data": {
      "text/plain": [
       "(50125, 13)"
      ]
     },
     "execution_count": 35,
     "metadata": {},
     "output_type": "execute_result"
    }
   ],
   "source": [
    "ratings_tags_genres.shape"
   ]
  },
  {
   "cell_type": "code",
   "execution_count": 36,
   "metadata": {},
   "outputs": [],
   "source": [
    "# Применим методы CountVectorizer и Tfidf к фичу genres\n",
    "count_vect_gen = CountVectorizer()\n",
    "tfidf_transformer_gen = TfidfTransformer()\n",
    "\n",
    "genres_count_vect = count_vect_gen.fit_transform(ratings_tags_genres.genres)\n",
    "genres_tfidf = tfidf_transformer_gen.fit_transform(genres_count_vect)"
   ]
  },
  {
   "cell_type": "code",
   "execution_count": 37,
   "metadata": {},
   "outputs": [],
   "source": [
    "# Создадим датафрейм для фича genres\n",
    "gen_feat_df = pd.DataFrame(genres_tfidf.toarray(), columns=count_vect_gen.get_feature_names())"
   ]
  },
  {
   "cell_type": "code",
   "execution_count": 38,
   "metadata": {},
   "outputs": [],
   "source": [
    "# Применим методы CountVectorizer и Tfidf к фичу all_tags\n",
    "count_vect_tag = CountVectorizer()\n",
    "tfidf_transformer_tag = TfidfTransformer()\n",
    "\n",
    "tag_count_vect = count_vect_tag.fit_transform(ratings_tags_genres.all_tags)\n",
    "tag_tfidf = tfidf_transformer_tag.fit_transform(tag_count_vect)"
   ]
  },
  {
   "cell_type": "code",
   "execution_count": 39,
   "metadata": {},
   "outputs": [],
   "source": [
    "# Создадим датафрейм для фича all_tags\n",
    "tag_feat_df = pd.DataFrame(tag_tfidf.toarray(), columns=count_vect_tag.get_feature_names())"
   ]
  },
  {
   "cell_type": "code",
   "execution_count": 40,
   "metadata": {},
   "outputs": [],
   "source": [
    "# Создадим датафрейм из уникальных фильмов для фича genres\n",
    "gen_movie_uniq = gen_feat_df.iloc[ratings_tags_genres.drop_duplicates(subset='movieId').index]"
   ]
  },
  {
   "cell_type": "code",
   "execution_count": 41,
   "metadata": {},
   "outputs": [
    {
     "data": {
      "text/plain": [
       "NearestNeighbors(metric='euclidean', n_jobs=-1, n_neighbors=10)"
      ]
     },
     "execution_count": 41,
     "metadata": {},
     "output_type": "execute_result"
    }
   ],
   "source": [
    "neigh_gen = NearestNeighbors(n_neighbors=10, n_jobs=-1, metric='euclidean')\n",
    "neigh_gen.fit(gen_movie_uniq)"
   ]
  },
  {
   "cell_type": "markdown",
   "metadata": {},
   "source": [
    "### Рекомендация фильмов по жанру"
   ]
  },
  {
   "cell_type": "code",
   "execution_count": 42,
   "metadata": {
    "scrolled": true
   },
   "outputs": [],
   "source": [
    "s = ratings_tags_genres.loc[ratings_tags_genres.movieId == 50].genres.iloc[0]"
   ]
  },
  {
   "cell_type": "code",
   "execution_count": 43,
   "metadata": {},
   "outputs": [
    {
     "data": {
      "text/plain": [
       "'Crime Mystery Thriller'"
      ]
     },
     "execution_count": 43,
     "metadata": {},
     "output_type": "execute_result"
    }
   ],
   "source": [
    "s"
   ]
  },
  {
   "cell_type": "code",
   "execution_count": 44,
   "metadata": {},
   "outputs": [],
   "source": [
    "pred_count_vect = count_vect_gen.transform([s])"
   ]
  },
  {
   "cell_type": "code",
   "execution_count": 45,
   "metadata": {},
   "outputs": [],
   "source": [
    "pred_tfidf = tfidf_transformer_gen.transform(pred_count_vect)"
   ]
  },
  {
   "cell_type": "code",
   "execution_count": 46,
   "metadata": {},
   "outputs": [],
   "source": [
    "predict_gen = neigh_gen.kneighbors(pred_tfidf.todense(), return_distance=True)"
   ]
  },
  {
   "cell_type": "code",
   "execution_count": 47,
   "metadata": {},
   "outputs": [],
   "source": [
    "gen_neighbors = gen_movie_uniq.index[predict_gen[1][0]]"
   ]
  },
  {
   "cell_type": "code",
   "execution_count": 48,
   "metadata": {},
   "outputs": [
    {
     "data": {
      "text/html": [
       "<div>\n",
       "<style scoped>\n",
       "    .dataframe tbody tr th:only-of-type {\n",
       "        vertical-align: middle;\n",
       "    }\n",
       "\n",
       "    .dataframe tbody tr th {\n",
       "        vertical-align: top;\n",
       "    }\n",
       "\n",
       "    .dataframe thead th {\n",
       "        text-align: right;\n",
       "    }\n",
       "</style>\n",
       "<table border=\"1\" class=\"dataframe\">\n",
       "  <thead>\n",
       "    <tr style=\"text-align: right;\">\n",
       "      <th></th>\n",
       "      <th>userId</th>\n",
       "      <th>movieId</th>\n",
       "      <th>rating</th>\n",
       "      <th>timestamp_x</th>\n",
       "      <th>tag</th>\n",
       "      <th>timestamp_y</th>\n",
       "      <th>title</th>\n",
       "      <th>genres</th>\n",
       "      <th>all_tags</th>\n",
       "      <th>r_mean_user</th>\n",
       "      <th>r_value_user</th>\n",
       "      <th>r_mean_movie</th>\n",
       "      <th>r_value_movie</th>\n",
       "    </tr>\n",
       "  </thead>\n",
       "  <tbody>\n",
       "    <tr>\n",
       "      <th>1202</th>\n",
       "      <td>18</td>\n",
       "      <td>102903</td>\n",
       "      <td>4.0</td>\n",
       "      <td>1513369638</td>\n",
       "      <td>NaN</td>\n",
       "      <td>NaN</td>\n",
       "      <td>Now You See Me (2013)</td>\n",
       "      <td>Crime Mystery Thriller</td>\n",
       "      <td>Illusions Overcomplicated Predictable StupidEn...</td>\n",
       "      <td>3.732072</td>\n",
       "      <td>18.000</td>\n",
       "      <td>3.409091</td>\n",
       "      <td>18.000</td>\n",
       "    </tr>\n",
       "    <tr>\n",
       "      <th>1846</th>\n",
       "      <td>23</td>\n",
       "      <td>2579</td>\n",
       "      <td>4.0</td>\n",
       "      <td>1107163393</td>\n",
       "      <td>NaN</td>\n",
       "      <td>NaN</td>\n",
       "      <td>Following (1998)</td>\n",
       "      <td>Crime Mystery Thriller</td>\n",
       "      <td>BlackAndWhite ChristopherNolan DirectorialDebu...</td>\n",
       "      <td>3.648760</td>\n",
       "      <td>10.500</td>\n",
       "      <td>3.833333</td>\n",
       "      <td>2.000</td>\n",
       "    </tr>\n",
       "    <tr>\n",
       "      <th>3</th>\n",
       "      <td>1</td>\n",
       "      <td>50</td>\n",
       "      <td>5.0</td>\n",
       "      <td>964982931</td>\n",
       "      <td>NaN</td>\n",
       "      <td>NaN</td>\n",
       "      <td>Usual Suspects, The (1995)</td>\n",
       "      <td>Crime Mystery Thriller</td>\n",
       "      <td>Mindfuck Suspense Thriller Tricky TwistEnding ...</td>\n",
       "      <td>4.366379</td>\n",
       "      <td>20.000</td>\n",
       "      <td>4.237745</td>\n",
       "      <td>18.000</td>\n",
       "    </tr>\n",
       "    <tr>\n",
       "      <th>41</th>\n",
       "      <td>1</td>\n",
       "      <td>1089</td>\n",
       "      <td>5.0</td>\n",
       "      <td>964982951</td>\n",
       "      <td>NaN</td>\n",
       "      <td>NaN</td>\n",
       "      <td>Reservoir Dogs (1992)</td>\n",
       "      <td>Crime Mystery Thriller</td>\n",
       "      <td>EnsembleCast Nonlinear QuentinTarantino Styliz...</td>\n",
       "      <td>4.366379</td>\n",
       "      <td>20.000</td>\n",
       "      <td>4.202290</td>\n",
       "      <td>16.000</td>\n",
       "    </tr>\n",
       "    <tr>\n",
       "      <th>1544</th>\n",
       "      <td>20</td>\n",
       "      <td>5630</td>\n",
       "      <td>3.5</td>\n",
       "      <td>1054037295</td>\n",
       "      <td>NaN</td>\n",
       "      <td>NaN</td>\n",
       "      <td>Red Dragon (2002)</td>\n",
       "      <td>Crime Mystery Thriller</td>\n",
       "      <td>HannibalLecter</td>\n",
       "      <td>3.590909</td>\n",
       "      <td>16.875</td>\n",
       "      <td>3.435484</td>\n",
       "      <td>15.750</td>\n",
       "    </tr>\n",
       "    <tr>\n",
       "      <th>3614</th>\n",
       "      <td>50</td>\n",
       "      <td>8879</td>\n",
       "      <td>3.0</td>\n",
       "      <td>1527542396</td>\n",
       "      <td>NaN</td>\n",
       "      <td>NaN</td>\n",
       "      <td>Murder on the Orient Express (1974)</td>\n",
       "      <td>Crime Mystery Thriller</td>\n",
       "      <td>AgathaChristie Oscar(BestSupportingActress) Train</td>\n",
       "      <td>2.780645</td>\n",
       "      <td>12.000</td>\n",
       "      <td>3.250000</td>\n",
       "      <td>6.500</td>\n",
       "    </tr>\n",
       "    <tr>\n",
       "      <th>228</th>\n",
       "      <td>4</td>\n",
       "      <td>1834</td>\n",
       "      <td>5.0</td>\n",
       "      <td>945174134</td>\n",
       "      <td>NaN</td>\n",
       "      <td>NaN</td>\n",
       "      <td>Spanish Prisoner, The (1997)</td>\n",
       "      <td>Crime Drama Mystery Thriller</td>\n",
       "      <td>TwistEnding</td>\n",
       "      <td>3.555556</td>\n",
       "      <td>16.000</td>\n",
       "      <td>4.000000</td>\n",
       "      <td>8.000</td>\n",
       "    </tr>\n",
       "    <tr>\n",
       "      <th>415</th>\n",
       "      <td>6</td>\n",
       "      <td>628</td>\n",
       "      <td>3.0</td>\n",
       "      <td>845555300</td>\n",
       "      <td>NaN</td>\n",
       "      <td>NaN</td>\n",
       "      <td>Primal Fear (1996)</td>\n",
       "      <td>Crime Drama Mystery Thriller</td>\n",
       "      <td>EdwardNorton Psychology Suspense ThoughtProvok...</td>\n",
       "      <td>3.493631</td>\n",
       "      <td>12.000</td>\n",
       "      <td>3.642857</td>\n",
       "      <td>14.000</td>\n",
       "    </tr>\n",
       "    <tr>\n",
       "      <th>242</th>\n",
       "      <td>4</td>\n",
       "      <td>2467</td>\n",
       "      <td>4.0</td>\n",
       "      <td>945079858</td>\n",
       "      <td>NaN</td>\n",
       "      <td>NaN</td>\n",
       "      <td>Name of the Rose, The (Name der Rose, Der) (1986)</td>\n",
       "      <td>Crime Drama Mystery Thriller</td>\n",
       "      <td>Religion</td>\n",
       "      <td>3.555556</td>\n",
       "      <td>16.000</td>\n",
       "      <td>3.750000</td>\n",
       "      <td>12.000</td>\n",
       "    </tr>\n",
       "    <tr>\n",
       "      <th>1165</th>\n",
       "      <td>18</td>\n",
       "      <td>52604</td>\n",
       "      <td>4.5</td>\n",
       "      <td>1457650649</td>\n",
       "      <td>Anthony Hopkins</td>\n",
       "      <td>1.457651e+09</td>\n",
       "      <td>Fracture (2007)</td>\n",
       "      <td>Crime Drama Mystery Thriller</td>\n",
       "      <td>AnthonyHopkins CourtroomDrama TwistEnding</td>\n",
       "      <td>3.732072</td>\n",
       "      <td>18.000</td>\n",
       "      <td>3.666667</td>\n",
       "      <td>9.375</td>\n",
       "    </tr>\n",
       "  </tbody>\n",
       "</table>\n",
       "</div>"
      ],
      "text/plain": [
       "      userId  movieId  rating  timestamp_x              tag   timestamp_y  \\\n",
       "1202      18   102903     4.0   1513369638              NaN           NaN   \n",
       "1846      23     2579     4.0   1107163393              NaN           NaN   \n",
       "3          1       50     5.0    964982931              NaN           NaN   \n",
       "41         1     1089     5.0    964982951              NaN           NaN   \n",
       "1544      20     5630     3.5   1054037295              NaN           NaN   \n",
       "3614      50     8879     3.0   1527542396              NaN           NaN   \n",
       "228        4     1834     5.0    945174134              NaN           NaN   \n",
       "415        6      628     3.0    845555300              NaN           NaN   \n",
       "242        4     2467     4.0    945079858              NaN           NaN   \n",
       "1165      18    52604     4.5   1457650649  Anthony Hopkins  1.457651e+09   \n",
       "\n",
       "                                                  title  \\\n",
       "1202                              Now You See Me (2013)   \n",
       "1846                                   Following (1998)   \n",
       "3                            Usual Suspects, The (1995)   \n",
       "41                                Reservoir Dogs (1992)   \n",
       "1544                                  Red Dragon (2002)   \n",
       "3614                Murder on the Orient Express (1974)   \n",
       "228                        Spanish Prisoner, The (1997)   \n",
       "415                                  Primal Fear (1996)   \n",
       "242   Name of the Rose, The (Name der Rose, Der) (1986)   \n",
       "1165                                    Fracture (2007)   \n",
       "\n",
       "                            genres  \\\n",
       "1202        Crime Mystery Thriller   \n",
       "1846        Crime Mystery Thriller   \n",
       "3           Crime Mystery Thriller   \n",
       "41          Crime Mystery Thriller   \n",
       "1544        Crime Mystery Thriller   \n",
       "3614        Crime Mystery Thriller   \n",
       "228   Crime Drama Mystery Thriller   \n",
       "415   Crime Drama Mystery Thriller   \n",
       "242   Crime Drama Mystery Thriller   \n",
       "1165  Crime Drama Mystery Thriller   \n",
       "\n",
       "                                               all_tags  r_mean_user  \\\n",
       "1202  Illusions Overcomplicated Predictable StupidEn...     3.732072   \n",
       "1846  BlackAndWhite ChristopherNolan DirectorialDebu...     3.648760   \n",
       "3     Mindfuck Suspense Thriller Tricky TwistEnding ...     4.366379   \n",
       "41    EnsembleCast Nonlinear QuentinTarantino Styliz...     4.366379   \n",
       "1544                                     HannibalLecter     3.590909   \n",
       "3614  AgathaChristie Oscar(BestSupportingActress) Train     2.780645   \n",
       "228                                         TwistEnding     3.555556   \n",
       "415   EdwardNorton Psychology Suspense ThoughtProvok...     3.493631   \n",
       "242                                            Religion     3.555556   \n",
       "1165          AnthonyHopkins CourtroomDrama TwistEnding     3.732072   \n",
       "\n",
       "      r_value_user  r_mean_movie  r_value_movie  \n",
       "1202        18.000      3.409091         18.000  \n",
       "1846        10.500      3.833333          2.000  \n",
       "3           20.000      4.237745         18.000  \n",
       "41          20.000      4.202290         16.000  \n",
       "1544        16.875      3.435484         15.750  \n",
       "3614        12.000      3.250000          6.500  \n",
       "228         16.000      4.000000          8.000  \n",
       "415         12.000      3.642857         14.000  \n",
       "242         16.000      3.750000         12.000  \n",
       "1165        18.000      3.666667          9.375  "
      ]
     },
     "execution_count": 48,
     "metadata": {},
     "output_type": "execute_result"
    }
   ],
   "source": [
    "# Выведем рекомендованные фильмы по жанру\n",
    "ratings_tags_genres.iloc[gen_neighbors]"
   ]
  },
  {
   "cell_type": "code",
   "execution_count": 49,
   "metadata": {},
   "outputs": [],
   "source": [
    "# Создадим датафрейм из уникальных фильмов для фича all_tags\n",
    "tag_movie_uniq = tag_feat_df.iloc[ratings_tags_genres.drop_duplicates(subset='movieId').index]"
   ]
  },
  {
   "cell_type": "code",
   "execution_count": 50,
   "metadata": {},
   "outputs": [],
   "source": [
    "neigh_tag = NearestNeighbors(n_neighbors=10, n_jobs=-1, metric='euclidean')\n",
    "neigh_tag = neigh_tag.fit(tag_movie_uniq)"
   ]
  },
  {
   "cell_type": "markdown",
   "metadata": {},
   "source": [
    "### Рекомендация фильмов по тегам"
   ]
  },
  {
   "cell_type": "code",
   "execution_count": 51,
   "metadata": {},
   "outputs": [],
   "source": [
    "s2 = ratings_tags_genres.loc[ratings_tags_genres.movieId == 50, 'all_tags'].iloc[0]"
   ]
  },
  {
   "cell_type": "code",
   "execution_count": 52,
   "metadata": {},
   "outputs": [
    {
     "data": {
      "text/plain": [
       "'Mindfuck Suspense Thriller Tricky TwistEnding Heist'"
      ]
     },
     "execution_count": 52,
     "metadata": {},
     "output_type": "execute_result"
    }
   ],
   "source": [
    "s2"
   ]
  },
  {
   "cell_type": "code",
   "execution_count": 53,
   "metadata": {},
   "outputs": [],
   "source": [
    "pred_tag_cv = count_vect_tag.transform([s2])"
   ]
  },
  {
   "cell_type": "code",
   "execution_count": 54,
   "metadata": {},
   "outputs": [],
   "source": [
    "pred_tag_tfidf = tfidf_transformer_tag.transform(pred_tag_cv)"
   ]
  },
  {
   "cell_type": "code",
   "execution_count": 55,
   "metadata": {},
   "outputs": [],
   "source": [
    "predict_tag = neigh_tag.kneighbors(pred_tag_tfidf.todense(), return_distance=True)"
   ]
  },
  {
   "cell_type": "code",
   "execution_count": 56,
   "metadata": {},
   "outputs": [
    {
     "data": {
      "text/plain": [
       "(array([[0.        , 1.07763445, 1.07763445, 1.07763445, 1.07763445,\n",
       "         1.07763445, 1.07763445, 1.07763445, 1.14030858, 1.1471726 ]]),\n",
       " array([[  3, 720, 821, 912, 513, 329, 569, 728,  71,  88]], dtype=int64))"
      ]
     },
     "execution_count": 56,
     "metadata": {},
     "output_type": "execute_result"
    }
   ],
   "source": [
    "predict_tag"
   ]
  },
  {
   "cell_type": "code",
   "execution_count": 57,
   "metadata": {},
   "outputs": [],
   "source": [
    "tag_neighbors = tag_movie_uniq.index[predict_tag[1][0]][:4]"
   ]
  },
  {
   "cell_type": "code",
   "execution_count": 58,
   "metadata": {
    "scrolled": false
   },
   "outputs": [
    {
     "data": {
      "text/html": [
       "<div>\n",
       "<style scoped>\n",
       "    .dataframe tbody tr th:only-of-type {\n",
       "        vertical-align: middle;\n",
       "    }\n",
       "\n",
       "    .dataframe tbody tr th {\n",
       "        vertical-align: top;\n",
       "    }\n",
       "\n",
       "    .dataframe thead th {\n",
       "        text-align: right;\n",
       "    }\n",
       "</style>\n",
       "<table border=\"1\" class=\"dataframe\">\n",
       "  <thead>\n",
       "    <tr style=\"text-align: right;\">\n",
       "      <th></th>\n",
       "      <th>userId</th>\n",
       "      <th>movieId</th>\n",
       "      <th>rating</th>\n",
       "      <th>timestamp_x</th>\n",
       "      <th>tag</th>\n",
       "      <th>timestamp_y</th>\n",
       "      <th>title</th>\n",
       "      <th>genres</th>\n",
       "      <th>all_tags</th>\n",
       "      <th>r_mean_user</th>\n",
       "      <th>r_value_user</th>\n",
       "      <th>r_mean_movie</th>\n",
       "      <th>r_value_movie</th>\n",
       "    </tr>\n",
       "  </thead>\n",
       "  <tbody>\n",
       "    <tr>\n",
       "      <th>3</th>\n",
       "      <td>1</td>\n",
       "      <td>50</td>\n",
       "      <td>5.0</td>\n",
       "      <td>964982931</td>\n",
       "      <td>NaN</td>\n",
       "      <td>NaN</td>\n",
       "      <td>Usual Suspects, The (1995)</td>\n",
       "      <td>Crime Mystery Thriller</td>\n",
       "      <td>Mindfuck Suspense Thriller Tricky TwistEnding ...</td>\n",
       "      <td>4.366379</td>\n",
       "      <td>20.0</td>\n",
       "      <td>4.237745</td>\n",
       "      <td>18.0</td>\n",
       "    </tr>\n",
       "    <tr>\n",
       "      <th>1847</th>\n",
       "      <td>23</td>\n",
       "      <td>2726</td>\n",
       "      <td>4.0</td>\n",
       "      <td>1108703148</td>\n",
       "      <td>NaN</td>\n",
       "      <td>NaN</td>\n",
       "      <td>Killing, The (1956)</td>\n",
       "      <td>Crime FilmNoir</td>\n",
       "      <td>Heist</td>\n",
       "      <td>3.648760</td>\n",
       "      <td>10.5</td>\n",
       "      <td>4.055556</td>\n",
       "      <td>8.0</td>\n",
       "    </tr>\n",
       "    <tr>\n",
       "      <th>2551</th>\n",
       "      <td>33</td>\n",
       "      <td>2391</td>\n",
       "      <td>2.0</td>\n",
       "      <td>939646982</td>\n",
       "      <td>NaN</td>\n",
       "      <td>NaN</td>\n",
       "      <td>Simple Plan, A (1998)</td>\n",
       "      <td>Crime Drama Thriller</td>\n",
       "      <td>Heist</td>\n",
       "      <td>3.788462</td>\n",
       "      <td>16.0</td>\n",
       "      <td>3.795455</td>\n",
       "      <td>12.0</td>\n",
       "    </tr>\n",
       "    <tr>\n",
       "      <th>4091</th>\n",
       "      <td>57</td>\n",
       "      <td>1912</td>\n",
       "      <td>2.0</td>\n",
       "      <td>969754290</td>\n",
       "      <td>NaN</td>\n",
       "      <td>NaN</td>\n",
       "      <td>Out of Sight (1998)</td>\n",
       "      <td>Comedy Crime Drama Romance Thriller</td>\n",
       "      <td>Heist</td>\n",
       "      <td>3.392857</td>\n",
       "      <td>16.0</td>\n",
       "      <td>3.859375</td>\n",
       "      <td>16.0</td>\n",
       "    </tr>\n",
       "  </tbody>\n",
       "</table>\n",
       "</div>"
      ],
      "text/plain": [
       "      userId  movieId  rating  timestamp_x  tag  timestamp_y  \\\n",
       "3          1       50     5.0    964982931  NaN          NaN   \n",
       "1847      23     2726     4.0   1108703148  NaN          NaN   \n",
       "2551      33     2391     2.0    939646982  NaN          NaN   \n",
       "4091      57     1912     2.0    969754290  NaN          NaN   \n",
       "\n",
       "                           title                               genres  \\\n",
       "3     Usual Suspects, The (1995)               Crime Mystery Thriller   \n",
       "1847         Killing, The (1956)                       Crime FilmNoir   \n",
       "2551       Simple Plan, A (1998)                 Crime Drama Thriller   \n",
       "4091         Out of Sight (1998)  Comedy Crime Drama Romance Thriller   \n",
       "\n",
       "                                               all_tags  r_mean_user  \\\n",
       "3     Mindfuck Suspense Thriller Tricky TwistEnding ...     4.366379   \n",
       "1847                                              Heist     3.648760   \n",
       "2551                                              Heist     3.788462   \n",
       "4091                                              Heist     3.392857   \n",
       "\n",
       "      r_value_user  r_mean_movie  r_value_movie  \n",
       "3             20.0      4.237745           18.0  \n",
       "1847          10.5      4.055556            8.0  \n",
       "2551          16.0      3.795455           12.0  \n",
       "4091          16.0      3.859375           16.0  "
      ]
     },
     "execution_count": 58,
     "metadata": {},
     "output_type": "execute_result"
    }
   ],
   "source": [
    "# Выведем рекомендованные фильмы по тегам\n",
    "ratings_tags_genres.loc[ratings_tags_genres.index.isin(tag_neighbors)]"
   ]
  },
  {
   "cell_type": "code",
   "execution_count": 59,
   "metadata": {},
   "outputs": [],
   "source": [
    "# Создадим датафрейм из уникальных фильмов для рекомендации по жанрам и тегам\n",
    "gen_tag_movie_uniq = pd.merge(gen_movie_uniq, tag_movie_uniq, left_index=True, right_index=True, suffixes=('_x', ''))"
   ]
  },
  {
   "cell_type": "code",
   "execution_count": 60,
   "metadata": {},
   "outputs": [
    {
     "data": {
      "text/plain": [
       "(1553, 1484)"
      ]
     },
     "execution_count": 60,
     "metadata": {},
     "output_type": "execute_result"
    }
   ],
   "source": [
    "gen_tag_movie_uniq.shape"
   ]
  },
  {
   "cell_type": "code",
   "execution_count": 61,
   "metadata": {},
   "outputs": [
    {
     "data": {
      "text/plain": [
       "NearestNeighbors(metric='euclidean', n_jobs=-1, n_neighbors=7)"
      ]
     },
     "execution_count": 61,
     "metadata": {},
     "output_type": "execute_result"
    }
   ],
   "source": [
    "neigh_gen_tag = NearestNeighbors(n_neighbors=7, n_jobs=-1, metric='euclidean')\n",
    "neigh_gen_tag.fit(gen_tag_movie_uniq)"
   ]
  },
  {
   "cell_type": "markdown",
   "metadata": {},
   "source": [
    "### Рекомендация фильмов по жанрам и тегам"
   ]
  },
  {
   "cell_type": "code",
   "execution_count": 62,
   "metadata": {},
   "outputs": [],
   "source": [
    "def rec_movies(user_id, movie_id):\n",
    "    \"\"\"\n",
    "    Returns indexes of recomended movies for User with user_id on Movie with movie_id    \n",
    "    \"\"\"\n",
    "    s1 = ratings_tags_genres.loc[((ratings_tags_genres.userId == user_id) &\n",
    "                                  (ratings_tags_genres.movieId == movie_id), 'genres')].values[0]\n",
    "    s2 = ratings_tags_genres.loc[((ratings_tags_genres.userId == user_id) &\n",
    "                                  (ratings_tags_genres.movieId == movie_id), 'all_tags')].values[0]\n",
    "    \n",
    "    pred_cv_gen = count_vect_gen.transform([s1])\n",
    "    pred_cv_tag = count_vect_tag.transform([s2])\n",
    "    \n",
    "    pred_tfidf_gen = tfidf_transformer_gen.transform(pred_cv_gen).todense()\n",
    "    pred_tfidf_tag = tfidf_transformer_tag.transform(pred_cv_tag).todense()\n",
    "    \n",
    "    pred_gen_tag = np.hstack((pred_tfidf_gen, pred_tfidf_tag))\n",
    "    \n",
    "    predict_gen_tag = neigh_gen_tag.kneighbors(pred_gen_tag, return_distance=True)\n",
    "    \n",
    "    return gen_tag_movie_uniq.index[predict_gen_tag[1][0]]"
   ]
  },
  {
   "cell_type": "code",
   "execution_count": 63,
   "metadata": {},
   "outputs": [
    {
     "data": {
      "text/html": [
       "<div>\n",
       "<style scoped>\n",
       "    .dataframe tbody tr th:only-of-type {\n",
       "        vertical-align: middle;\n",
       "    }\n",
       "\n",
       "    .dataframe tbody tr th {\n",
       "        vertical-align: top;\n",
       "    }\n",
       "\n",
       "    .dataframe thead th {\n",
       "        text-align: right;\n",
       "    }\n",
       "</style>\n",
       "<table border=\"1\" class=\"dataframe\">\n",
       "  <thead>\n",
       "    <tr style=\"text-align: right;\">\n",
       "      <th></th>\n",
       "      <th>userId</th>\n",
       "      <th>movieId</th>\n",
       "      <th>rating</th>\n",
       "      <th>timestamp_x</th>\n",
       "      <th>tag</th>\n",
       "      <th>timestamp_y</th>\n",
       "      <th>title</th>\n",
       "      <th>genres</th>\n",
       "      <th>all_tags</th>\n",
       "      <th>r_mean_user</th>\n",
       "      <th>r_value_user</th>\n",
       "      <th>r_mean_movie</th>\n",
       "      <th>r_value_movie</th>\n",
       "    </tr>\n",
       "  </thead>\n",
       "  <tbody>\n",
       "    <tr>\n",
       "      <th>3</th>\n",
       "      <td>1</td>\n",
       "      <td>50</td>\n",
       "      <td>5.0</td>\n",
       "      <td>964982931</td>\n",
       "      <td>NaN</td>\n",
       "      <td>NaN</td>\n",
       "      <td>Usual Suspects, The (1995)</td>\n",
       "      <td>Crime Mystery Thriller</td>\n",
       "      <td>Mindfuck Suspense Thriller Tricky TwistEnding ...</td>\n",
       "      <td>4.366379</td>\n",
       "      <td>20.00</td>\n",
       "      <td>4.237745</td>\n",
       "      <td>18.0</td>\n",
       "    </tr>\n",
       "    <tr>\n",
       "      <th>228</th>\n",
       "      <td>4</td>\n",
       "      <td>1834</td>\n",
       "      <td>5.0</td>\n",
       "      <td>945174134</td>\n",
       "      <td>NaN</td>\n",
       "      <td>NaN</td>\n",
       "      <td>Spanish Prisoner, The (1997)</td>\n",
       "      <td>Crime Drama Mystery Thriller</td>\n",
       "      <td>TwistEnding</td>\n",
       "      <td>3.555556</td>\n",
       "      <td>16.00</td>\n",
       "      <td>4.000000</td>\n",
       "      <td>8.0</td>\n",
       "    </tr>\n",
       "    <tr>\n",
       "      <th>1286</th>\n",
       "      <td>19</td>\n",
       "      <td>911</td>\n",
       "      <td>3.0</td>\n",
       "      <td>965705725</td>\n",
       "      <td>NaN</td>\n",
       "      <td>NaN</td>\n",
       "      <td>Charade (1963)</td>\n",
       "      <td>Comedy Crime Mystery Romance Thriller</td>\n",
       "      <td>Heist</td>\n",
       "      <td>2.607397</td>\n",
       "      <td>12.00</td>\n",
       "      <td>3.807692</td>\n",
       "      <td>10.0</td>\n",
       "    </tr>\n",
       "    <tr>\n",
       "      <th>415</th>\n",
       "      <td>6</td>\n",
       "      <td>628</td>\n",
       "      <td>3.0</td>\n",
       "      <td>845555300</td>\n",
       "      <td>NaN</td>\n",
       "      <td>NaN</td>\n",
       "      <td>Primal Fear (1996)</td>\n",
       "      <td>Crime Drama Mystery Thriller</td>\n",
       "      <td>EdwardNorton Psychology Suspense ThoughtProvok...</td>\n",
       "      <td>3.493631</td>\n",
       "      <td>12.00</td>\n",
       "      <td>3.642857</td>\n",
       "      <td>14.0</td>\n",
       "    </tr>\n",
       "    <tr>\n",
       "      <th>1159</th>\n",
       "      <td>18</td>\n",
       "      <td>44665</td>\n",
       "      <td>4.5</td>\n",
       "      <td>1455049870</td>\n",
       "      <td>twist ending</td>\n",
       "      <td>1.456948e+09</td>\n",
       "      <td>Lucky Number Slevin (2006)</td>\n",
       "      <td>Crime Drama Mystery</td>\n",
       "      <td>TwistEnding</td>\n",
       "      <td>3.732072</td>\n",
       "      <td>18.00</td>\n",
       "      <td>3.855263</td>\n",
       "      <td>12.0</td>\n",
       "    </tr>\n",
       "    <tr>\n",
       "      <th>483</th>\n",
       "      <td>7</td>\n",
       "      <td>4963</td>\n",
       "      <td>4.0</td>\n",
       "      <td>1106636702</td>\n",
       "      <td>NaN</td>\n",
       "      <td>NaN</td>\n",
       "      <td>Ocean's Eleven (2001)</td>\n",
       "      <td>Crime Thriller</td>\n",
       "      <td>Heist</td>\n",
       "      <td>3.230263</td>\n",
       "      <td>15.75</td>\n",
       "      <td>3.844538</td>\n",
       "      <td>18.0</td>\n",
       "    </tr>\n",
       "    <tr>\n",
       "      <th>1846</th>\n",
       "      <td>23</td>\n",
       "      <td>2579</td>\n",
       "      <td>4.0</td>\n",
       "      <td>1107163393</td>\n",
       "      <td>NaN</td>\n",
       "      <td>NaN</td>\n",
       "      <td>Following (1998)</td>\n",
       "      <td>Crime Mystery Thriller</td>\n",
       "      <td>BlackAndWhite ChristopherNolan DirectorialDebu...</td>\n",
       "      <td>3.648760</td>\n",
       "      <td>10.50</td>\n",
       "      <td>3.833333</td>\n",
       "      <td>2.0</td>\n",
       "    </tr>\n",
       "  </tbody>\n",
       "</table>\n",
       "</div>"
      ],
      "text/plain": [
       "      userId  movieId  rating  timestamp_x           tag   timestamp_y  \\\n",
       "3          1       50     5.0    964982931           NaN           NaN   \n",
       "228        4     1834     5.0    945174134           NaN           NaN   \n",
       "1286      19      911     3.0    965705725           NaN           NaN   \n",
       "415        6      628     3.0    845555300           NaN           NaN   \n",
       "1159      18    44665     4.5   1455049870  twist ending  1.456948e+09   \n",
       "483        7     4963     4.0   1106636702           NaN           NaN   \n",
       "1846      23     2579     4.0   1107163393           NaN           NaN   \n",
       "\n",
       "                             title                                 genres  \\\n",
       "3       Usual Suspects, The (1995)                 Crime Mystery Thriller   \n",
       "228   Spanish Prisoner, The (1997)           Crime Drama Mystery Thriller   \n",
       "1286                Charade (1963)  Comedy Crime Mystery Romance Thriller   \n",
       "415             Primal Fear (1996)           Crime Drama Mystery Thriller   \n",
       "1159    Lucky Number Slevin (2006)                    Crime Drama Mystery   \n",
       "483          Ocean's Eleven (2001)                         Crime Thriller   \n",
       "1846              Following (1998)                 Crime Mystery Thriller   \n",
       "\n",
       "                                               all_tags  r_mean_user  \\\n",
       "3     Mindfuck Suspense Thriller Tricky TwistEnding ...     4.366379   \n",
       "228                                         TwistEnding     3.555556   \n",
       "1286                                              Heist     2.607397   \n",
       "415   EdwardNorton Psychology Suspense ThoughtProvok...     3.493631   \n",
       "1159                                        TwistEnding     3.732072   \n",
       "483                                               Heist     3.230263   \n",
       "1846  BlackAndWhite ChristopherNolan DirectorialDebu...     3.648760   \n",
       "\n",
       "      r_value_user  r_mean_movie  r_value_movie  \n",
       "3            20.00      4.237745           18.0  \n",
       "228          16.00      4.000000            8.0  \n",
       "1286         12.00      3.807692           10.0  \n",
       "415          12.00      3.642857           14.0  \n",
       "1159         18.00      3.855263           12.0  \n",
       "483          15.75      3.844538           18.0  \n",
       "1846         10.50      3.833333            2.0  "
      ]
     },
     "execution_count": 63,
     "metadata": {},
     "output_type": "execute_result"
    }
   ],
   "source": [
    "# Рекомендованные фильмы для пользователя с userId=1 по фильму с movieId=50\n",
    "ratings_tags_genres.iloc[rec_movies(1, 50)]"
   ]
  },
  {
   "cell_type": "code",
   "execution_count": 64,
   "metadata": {},
   "outputs": [],
   "source": [
    "# Создадим датафрейм с фичами, полученными из тегов и жанров, для всех пользователей и фильмов(с оценками, жанрами, тегами)\n",
    "gen_tag_df = pd.merge(gen_feat_df, tag_feat_df, left_index=True, right_index=True, suffixes=('_x', ''))"
   ]
  },
  {
   "cell_type": "code",
   "execution_count": 65,
   "metadata": {},
   "outputs": [],
   "source": [
    "# Объединим все фичи\n",
    "X = pd.merge(ratings_tags_genres, gen_tag_df, left_index=True, right_index=True)"
   ]
  },
  {
   "cell_type": "code",
   "execution_count": 66,
   "metadata": {},
   "outputs": [],
   "source": [
    "# Нормализуем некоторые данные\n",
    "mm_scaler = MinMaxScaler()\n",
    "X.iloc[:, 9:13] = mm_scaler.fit_transform(X.iloc[:, 9:13])"
   ]
  },
  {
   "cell_type": "markdown",
   "metadata": {},
   "source": [
    "### Предсказание оценки пользователей"
   ]
  },
  {
   "cell_type": "code",
   "execution_count": 67,
   "metadata": {},
   "outputs": [],
   "source": [
    "model_pred = {}\n",
    "model_rmse = {}\n",
    "\n",
    "for user in ratings_tags_genres.userId.unique():\n",
    "#     print(user)\n",
    "    \n",
    "    X_user = X.iloc[X.loc[X.userId == user].index, 9:]\n",
    "    y_user = ratings_tags_genres.iloc[X.loc[X.userId == user].index, 2].astype(str)\n",
    "    \n",
    "    if len(y_user.unique()) > 1:\n",
    "        X_train, X_test, y_train, y_test = train_test_split(X_user, y_user, test_size=.25, random_state=13)\n",
    "\n",
    "        log_reg = LogisticRegression(dual=True, solver='liblinear', max_iter=300)\n",
    "        log_reg.fit(X_train, y_train)\n",
    "        rmse = mean_squared_error(y_test, log_reg.predict(X_test), squared=False)\n",
    "\n",
    "        model_pred[user] = log_reg\n",
    "        model_rmse[user] = rmse"
   ]
  },
  {
   "cell_type": "code",
   "execution_count": 68,
   "metadata": {},
   "outputs": [
    {
     "data": {
      "text/plain": [
       "(0.0, 3.5, 0.9745273149739284, 0.9014726649675061)"
      ]
     },
     "execution_count": 68,
     "metadata": {},
     "output_type": "execute_result"
    }
   ],
   "source": [
    "# Выведем RMSE минимальную, максимальную, среднюю и медиану для всех пользователей\n",
    "(min([x[1] for x in model_rmse.items()]), max([x[1] for x in model_rmse.items()]),\n",
    " np.mean([x[1] for x in model_rmse.items()]), np.median([x[1] for x in model_rmse.items()]))"
   ]
  },
  {
   "cell_type": "markdown",
   "metadata": {},
   "source": [
    "### Рекомендация фильмов по предсказанным оценкам"
   ]
  },
  {
   "cell_type": "code",
   "execution_count": 69,
   "metadata": {},
   "outputs": [],
   "source": [
    "def rec_on_rating(user_id, n):\n",
    "    \"\"\"\n",
    "    Returns dataframe of n first movies with highest predicted ratings for User with user_id\n",
    "    \"\"\"\n",
    "    if user_id not in model_pred.keys():\n",
    "        return print(f\"User's {user_id} the only rating is \",\n",
    "                     np.mean(ratings_tags_genres.loc[ratings_tags_genres.userId == user_id, 'rating'].values))\n",
    "    \n",
    "    else:\n",
    "        \n",
    "        feat_rec = X.iloc[ratings_tags_genres.drop_duplicates(subset='movieId').\\\n",
    "                          loc[ratings_tags_genres.userId != user_id].index, 9:]\n",
    "        title_rec = X.iloc[ratings_tags_genres.drop_duplicates(subset='movieId').\\\n",
    "                           loc[ratings_tags_genres.userId != user_id].index, 6]\n",
    "\n",
    "        predict_rating = model_pred[user_id].predict(feat_rec)\n",
    "    \n",
    "        return pd.DataFrame({'title': title_rec,\n",
    "                             'predicted_rating': predict_rating.astype(float)}).sort_values(by='predicted_rating', \n",
    "                                                                                            ascending=False).head(n)"
   ]
  },
  {
   "cell_type": "code",
   "execution_count": 70,
   "metadata": {},
   "outputs": [
    {
     "data": {
      "text/html": [
       "<div>\n",
       "<style scoped>\n",
       "    .dataframe tbody tr th:only-of-type {\n",
       "        vertical-align: middle;\n",
       "    }\n",
       "\n",
       "    .dataframe tbody tr th {\n",
       "        vertical-align: top;\n",
       "    }\n",
       "\n",
       "    .dataframe thead th {\n",
       "        text-align: right;\n",
       "    }\n",
       "</style>\n",
       "<table border=\"1\" class=\"dataframe\">\n",
       "  <thead>\n",
       "    <tr style=\"text-align: right;\">\n",
       "      <th></th>\n",
       "      <th>title</th>\n",
       "      <th>predicted_rating</th>\n",
       "    </tr>\n",
       "  </thead>\n",
       "  <tbody>\n",
       "    <tr>\n",
       "      <th>0</th>\n",
       "      <td>Toy Story (1995)</td>\n",
       "      <td>5.0</td>\n",
       "    </tr>\n",
       "    <tr>\n",
       "      <th>6358</th>\n",
       "      <td>Passage to India, A (1984)</td>\n",
       "      <td>5.0</td>\n",
       "    </tr>\n",
       "    <tr>\n",
       "      <th>6611</th>\n",
       "      <td>Man Bites Dog (C'est arrivé près de chez vous)...</td>\n",
       "      <td>5.0</td>\n",
       "    </tr>\n",
       "    <tr>\n",
       "      <th>6584</th>\n",
       "      <td>Thin Blue Line, The (1988)</td>\n",
       "      <td>5.0</td>\n",
       "    </tr>\n",
       "    <tr>\n",
       "      <th>6380</th>\n",
       "      <td>Deliver Us from Evil (2006)</td>\n",
       "      <td>5.0</td>\n",
       "    </tr>\n",
       "    <tr>\n",
       "      <th>6373</th>\n",
       "      <td>Good Night, and Good Luck. (2005)</td>\n",
       "      <td>5.0</td>\n",
       "    </tr>\n",
       "    <tr>\n",
       "      <th>6365</th>\n",
       "      <td>Alice Doesn't Live Here Anymore (1974)</td>\n",
       "      <td>5.0</td>\n",
       "    </tr>\n",
       "    <tr>\n",
       "      <th>6364</th>\n",
       "      <td>Oliver Twist (1948)</td>\n",
       "      <td>5.0</td>\n",
       "    </tr>\n",
       "    <tr>\n",
       "      <th>6362</th>\n",
       "      <td>Educating Rita (1983)</td>\n",
       "      <td>5.0</td>\n",
       "    </tr>\n",
       "    <tr>\n",
       "      <th>6360</th>\n",
       "      <td>Strada, La (1954)</td>\n",
       "      <td>5.0</td>\n",
       "    </tr>\n",
       "  </tbody>\n",
       "</table>\n",
       "</div>"
      ],
      "text/plain": [
       "                                                  title  predicted_rating\n",
       "0                                      Toy Story (1995)               5.0\n",
       "6358                         Passage to India, A (1984)               5.0\n",
       "6611  Man Bites Dog (C'est arrivé près de chez vous)...               5.0\n",
       "6584                         Thin Blue Line, The (1988)               5.0\n",
       "6380                        Deliver Us from Evil (2006)               5.0\n",
       "6373                  Good Night, and Good Luck. (2005)               5.0\n",
       "6365             Alice Doesn't Live Here Anymore (1974)               5.0\n",
       "6364                                Oliver Twist (1948)               5.0\n",
       "6362                              Educating Rita (1983)               5.0\n",
       "6360                                  Strada, La (1954)               5.0"
      ]
     },
     "execution_count": 70,
     "metadata": {},
     "output_type": "execute_result"
    }
   ],
   "source": [
    "# Выведем первый 10 фильмов с наивысшей предсказанной оценкой для пользователя с userId=2\n",
    "rec_on_rating(2, 10)"
   ]
  }
 ],
 "metadata": {
  "kernelspec": {
   "display_name": "Python 3",
   "language": "python",
   "name": "python3"
  },
  "language_info": {
   "codemirror_mode": {
    "name": "ipython",
    "version": 3
   },
   "file_extension": ".py",
   "mimetype": "text/x-python",
   "name": "python",
   "nbconvert_exporter": "python",
   "pygments_lexer": "ipython3",
   "version": "3.7.6"
  }
 },
 "nbformat": 4,
 "nbformat_minor": 4
}
