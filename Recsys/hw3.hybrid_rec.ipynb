{
 "cells": [
  {
   "cell_type": "code",
   "execution_count": 1,
   "metadata": {},
   "outputs": [],
   "source": [
    "import pandas as pd\n",
    "import numpy as np\n",
    "from tqdm.notebook import tqdm\n",
    "from surprise import KNNWithZScore, SVD, SVDpp\n",
    "from surprise import Dataset, accuracy, Reader, AlgoBase\n",
    "from surprise.model_selection import train_test_split\n",
    "from scipy.spatial.distance import euclidean, jaccard"
   ]
  },
  {
   "cell_type": "code",
   "execution_count": 2,
   "metadata": {},
   "outputs": [],
   "source": [
    "movies = pd.read_csv('C:/Users/User/Desktop/Data Scientist/AML/Recsys/data/ml-1m/movies.dat',\n",
    "                     sep='::', names=['movieId', 'title', 'genres'], engine='python')\n",
    "ratings = pd.read_csv('C:/Users/User/Desktop/Data Scientist/AML/Recsys/data/ml-1m/ratings.dat', \n",
    "                     sep='::', names=['userId', 'movieId', 'rating', 'timestamp'], engine='python')\n",
    "users = pd.read_csv('C:/Users/User/Desktop/Data Scientist/AML/Recsys/data/ml-1m/users.dat', \n",
    "                   sep='::', names=['userId', 'gender', 'age', 'occupation', 'zipcode'], engine='python')"
   ]
  },
  {
   "cell_type": "code",
   "execution_count": 3,
   "metadata": {},
   "outputs": [
    {
     "data": {
      "text/html": [
       "<div>\n",
       "<style scoped>\n",
       "    .dataframe tbody tr th:only-of-type {\n",
       "        vertical-align: middle;\n",
       "    }\n",
       "\n",
       "    .dataframe tbody tr th {\n",
       "        vertical-align: top;\n",
       "    }\n",
       "\n",
       "    .dataframe thead th {\n",
       "        text-align: right;\n",
       "    }\n",
       "</style>\n",
       "<table border=\"1\" class=\"dataframe\">\n",
       "  <thead>\n",
       "    <tr style=\"text-align: right;\">\n",
       "      <th></th>\n",
       "      <th>movieId</th>\n",
       "      <th>title</th>\n",
       "      <th>genres</th>\n",
       "    </tr>\n",
       "  </thead>\n",
       "  <tbody>\n",
       "    <tr>\n",
       "      <th>0</th>\n",
       "      <td>1</td>\n",
       "      <td>Toy Story (1995)</td>\n",
       "      <td>Animation|Children's|Comedy</td>\n",
       "    </tr>\n",
       "    <tr>\n",
       "      <th>1</th>\n",
       "      <td>2</td>\n",
       "      <td>Jumanji (1995)</td>\n",
       "      <td>Adventure|Children's|Fantasy</td>\n",
       "    </tr>\n",
       "    <tr>\n",
       "      <th>2</th>\n",
       "      <td>3</td>\n",
       "      <td>Grumpier Old Men (1995)</td>\n",
       "      <td>Comedy|Romance</td>\n",
       "    </tr>\n",
       "    <tr>\n",
       "      <th>3</th>\n",
       "      <td>4</td>\n",
       "      <td>Waiting to Exhale (1995)</td>\n",
       "      <td>Comedy|Drama</td>\n",
       "    </tr>\n",
       "    <tr>\n",
       "      <th>4</th>\n",
       "      <td>5</td>\n",
       "      <td>Father of the Bride Part II (1995)</td>\n",
       "      <td>Comedy</td>\n",
       "    </tr>\n",
       "  </tbody>\n",
       "</table>\n",
       "</div>"
      ],
      "text/plain": [
       "   movieId                               title                        genres\n",
       "0        1                    Toy Story (1995)   Animation|Children's|Comedy\n",
       "1        2                      Jumanji (1995)  Adventure|Children's|Fantasy\n",
       "2        3             Grumpier Old Men (1995)                Comedy|Romance\n",
       "3        4            Waiting to Exhale (1995)                  Comedy|Drama\n",
       "4        5  Father of the Bride Part II (1995)                        Comedy"
      ]
     },
     "execution_count": 3,
     "metadata": {},
     "output_type": "execute_result"
    }
   ],
   "source": [
    "movies.head()"
   ]
  },
  {
   "cell_type": "code",
   "execution_count": 4,
   "metadata": {},
   "outputs": [
    {
     "data": {
      "text/html": [
       "<div>\n",
       "<style scoped>\n",
       "    .dataframe tbody tr th:only-of-type {\n",
       "        vertical-align: middle;\n",
       "    }\n",
       "\n",
       "    .dataframe tbody tr th {\n",
       "        vertical-align: top;\n",
       "    }\n",
       "\n",
       "    .dataframe thead th {\n",
       "        text-align: right;\n",
       "    }\n",
       "</style>\n",
       "<table border=\"1\" class=\"dataframe\">\n",
       "  <thead>\n",
       "    <tr style=\"text-align: right;\">\n",
       "      <th></th>\n",
       "      <th>userId</th>\n",
       "      <th>movieId</th>\n",
       "      <th>rating</th>\n",
       "      <th>timestamp</th>\n",
       "    </tr>\n",
       "  </thead>\n",
       "  <tbody>\n",
       "    <tr>\n",
       "      <th>0</th>\n",
       "      <td>1</td>\n",
       "      <td>1193</td>\n",
       "      <td>5</td>\n",
       "      <td>978300760</td>\n",
       "    </tr>\n",
       "    <tr>\n",
       "      <th>1</th>\n",
       "      <td>1</td>\n",
       "      <td>661</td>\n",
       "      <td>3</td>\n",
       "      <td>978302109</td>\n",
       "    </tr>\n",
       "    <tr>\n",
       "      <th>2</th>\n",
       "      <td>1</td>\n",
       "      <td>914</td>\n",
       "      <td>3</td>\n",
       "      <td>978301968</td>\n",
       "    </tr>\n",
       "    <tr>\n",
       "      <th>3</th>\n",
       "      <td>1</td>\n",
       "      <td>3408</td>\n",
       "      <td>4</td>\n",
       "      <td>978300275</td>\n",
       "    </tr>\n",
       "    <tr>\n",
       "      <th>4</th>\n",
       "      <td>1</td>\n",
       "      <td>2355</td>\n",
       "      <td>5</td>\n",
       "      <td>978824291</td>\n",
       "    </tr>\n",
       "  </tbody>\n",
       "</table>\n",
       "</div>"
      ],
      "text/plain": [
       "   userId  movieId  rating  timestamp\n",
       "0       1     1193       5  978300760\n",
       "1       1      661       3  978302109\n",
       "2       1      914       3  978301968\n",
       "3       1     3408       4  978300275\n",
       "4       1     2355       5  978824291"
      ]
     },
     "execution_count": 4,
     "metadata": {},
     "output_type": "execute_result"
    }
   ],
   "source": [
    "ratings.head()"
   ]
  },
  {
   "cell_type": "code",
   "execution_count": 5,
   "metadata": {},
   "outputs": [
    {
     "data": {
      "text/html": [
       "<div>\n",
       "<style scoped>\n",
       "    .dataframe tbody tr th:only-of-type {\n",
       "        vertical-align: middle;\n",
       "    }\n",
       "\n",
       "    .dataframe tbody tr th {\n",
       "        vertical-align: top;\n",
       "    }\n",
       "\n",
       "    .dataframe thead th {\n",
       "        text-align: right;\n",
       "    }\n",
       "</style>\n",
       "<table border=\"1\" class=\"dataframe\">\n",
       "  <thead>\n",
       "    <tr style=\"text-align: right;\">\n",
       "      <th></th>\n",
       "      <th>userId</th>\n",
       "      <th>gender</th>\n",
       "      <th>age</th>\n",
       "      <th>occupation</th>\n",
       "      <th>zipcode</th>\n",
       "    </tr>\n",
       "  </thead>\n",
       "  <tbody>\n",
       "    <tr>\n",
       "      <th>0</th>\n",
       "      <td>1</td>\n",
       "      <td>F</td>\n",
       "      <td>1</td>\n",
       "      <td>10</td>\n",
       "      <td>48067</td>\n",
       "    </tr>\n",
       "    <tr>\n",
       "      <th>1</th>\n",
       "      <td>2</td>\n",
       "      <td>M</td>\n",
       "      <td>56</td>\n",
       "      <td>16</td>\n",
       "      <td>70072</td>\n",
       "    </tr>\n",
       "    <tr>\n",
       "      <th>2</th>\n",
       "      <td>3</td>\n",
       "      <td>M</td>\n",
       "      <td>25</td>\n",
       "      <td>15</td>\n",
       "      <td>55117</td>\n",
       "    </tr>\n",
       "    <tr>\n",
       "      <th>3</th>\n",
       "      <td>4</td>\n",
       "      <td>M</td>\n",
       "      <td>45</td>\n",
       "      <td>7</td>\n",
       "      <td>02460</td>\n",
       "    </tr>\n",
       "    <tr>\n",
       "      <th>4</th>\n",
       "      <td>5</td>\n",
       "      <td>M</td>\n",
       "      <td>25</td>\n",
       "      <td>20</td>\n",
       "      <td>55455</td>\n",
       "    </tr>\n",
       "  </tbody>\n",
       "</table>\n",
       "</div>"
      ],
      "text/plain": [
       "   userId gender  age  occupation zipcode\n",
       "0       1      F    1          10   48067\n",
       "1       2      M   56          16   70072\n",
       "2       3      M   25          15   55117\n",
       "3       4      M   45           7   02460\n",
       "4       5      M   25          20   55455"
      ]
     },
     "execution_count": 5,
     "metadata": {},
     "output_type": "execute_result"
    }
   ],
   "source": [
    "users.head()"
   ]
  },
  {
   "cell_type": "code",
   "execution_count": 6,
   "metadata": {},
   "outputs": [
    {
     "data": {
      "text/html": [
       "<div>\n",
       "<style scoped>\n",
       "    .dataframe tbody tr th:only-of-type {\n",
       "        vertical-align: middle;\n",
       "    }\n",
       "\n",
       "    .dataframe tbody tr th {\n",
       "        vertical-align: top;\n",
       "    }\n",
       "\n",
       "    .dataframe thead th {\n",
       "        text-align: right;\n",
       "    }\n",
       "</style>\n",
       "<table border=\"1\" class=\"dataframe\">\n",
       "  <thead>\n",
       "    <tr style=\"text-align: right;\">\n",
       "      <th></th>\n",
       "      <th>userId</th>\n",
       "      <th>movieId</th>\n",
       "      <th>rating</th>\n",
       "      <th>timestamp</th>\n",
       "      <th>title</th>\n",
       "      <th>genres</th>\n",
       "    </tr>\n",
       "  </thead>\n",
       "  <tbody>\n",
       "    <tr>\n",
       "      <th>0</th>\n",
       "      <td>1</td>\n",
       "      <td>1193</td>\n",
       "      <td>5</td>\n",
       "      <td>978300760</td>\n",
       "      <td>One Flew Over the Cuckoo's Nest (1975)</td>\n",
       "      <td>Drama</td>\n",
       "    </tr>\n",
       "    <tr>\n",
       "      <th>1</th>\n",
       "      <td>1</td>\n",
       "      <td>661</td>\n",
       "      <td>3</td>\n",
       "      <td>978302109</td>\n",
       "      <td>James and the Giant Peach (1996)</td>\n",
       "      <td>Animation|Children's|Musical</td>\n",
       "    </tr>\n",
       "    <tr>\n",
       "      <th>2</th>\n",
       "      <td>1</td>\n",
       "      <td>914</td>\n",
       "      <td>3</td>\n",
       "      <td>978301968</td>\n",
       "      <td>My Fair Lady (1964)</td>\n",
       "      <td>Musical|Romance</td>\n",
       "    </tr>\n",
       "    <tr>\n",
       "      <th>3</th>\n",
       "      <td>1</td>\n",
       "      <td>3408</td>\n",
       "      <td>4</td>\n",
       "      <td>978300275</td>\n",
       "      <td>Erin Brockovich (2000)</td>\n",
       "      <td>Drama</td>\n",
       "    </tr>\n",
       "    <tr>\n",
       "      <th>4</th>\n",
       "      <td>1</td>\n",
       "      <td>2355</td>\n",
       "      <td>5</td>\n",
       "      <td>978824291</td>\n",
       "      <td>Bug's Life, A (1998)</td>\n",
       "      <td>Animation|Children's|Comedy</td>\n",
       "    </tr>\n",
       "  </tbody>\n",
       "</table>\n",
       "</div>"
      ],
      "text/plain": [
       "   userId  movieId  rating  timestamp                                   title  \\\n",
       "0       1     1193       5  978300760  One Flew Over the Cuckoo's Nest (1975)   \n",
       "1       1      661       3  978302109        James and the Giant Peach (1996)   \n",
       "2       1      914       3  978301968                     My Fair Lady (1964)   \n",
       "3       1     3408       4  978300275                  Erin Brockovich (2000)   \n",
       "4       1     2355       5  978824291                    Bug's Life, A (1998)   \n",
       "\n",
       "                         genres  \n",
       "0                         Drama  \n",
       "1  Animation|Children's|Musical  \n",
       "2               Musical|Romance  \n",
       "3                         Drama  \n",
       "4   Animation|Children's|Comedy  "
      ]
     },
     "execution_count": 6,
     "metadata": {},
     "output_type": "execute_result"
    }
   ],
   "source": [
    "movies_with_ratings = pd.merge(ratings, movies, how='left', on='movieId')\n",
    "movies_with_ratings.head()"
   ]
  },
  {
   "cell_type": "code",
   "execution_count": 7,
   "metadata": {},
   "outputs": [
    {
     "data": {
      "text/plain": [
       "(1000209, 6)"
      ]
     },
     "execution_count": 7,
     "metadata": {},
     "output_type": "execute_result"
    }
   ],
   "source": [
    "movies_with_ratings.shape"
   ]
  },
  {
   "cell_type": "code",
   "execution_count": 8,
   "metadata": {},
   "outputs": [],
   "source": [
    "dataset = pd.DataFrame({'uid': movies_with_ratings.userId,\n",
    "                        'iid': movies_with_ratings.title, \n",
    "                        'rating': movies_with_ratings.rating})\n",
    "\n",
    "reader = Reader(rating_scale=(ratings.rating.min(), ratings.rating.max()))\n",
    "data = Dataset.load_from_df(dataset, reader)"
   ]
  },
  {
   "cell_type": "code",
   "execution_count": 9,
   "metadata": {},
   "outputs": [],
   "source": [
    "trainset = data.build_full_trainset()\n",
    "testset = trainset.build_testset()"
   ]
  },
  {
   "cell_type": "code",
   "execution_count": null,
   "metadata": {},
   "outputs": [],
   "source": []
  },
  {
   "cell_type": "markdown",
   "metadata": {},
   "source": [
    "Применим три разных алгоритма к датасету для предсказания рейтинга и сравним метрики оценок предсказанных значений с помощью RMSE. На основе двух лучших алгоритмов построим гибридный с помощью взвешивания."
   ]
  },
  {
   "cell_type": "code",
   "execution_count": 10,
   "metadata": {},
   "outputs": [],
   "source": [
    "algo1 = KNNWithZScore(k=50, sim_options={'name': 'pearson_baseline', 'user_based': True})"
   ]
  },
  {
   "cell_type": "code",
   "execution_count": 11,
   "metadata": {},
   "outputs": [
    {
     "name": "stdout",
     "output_type": "stream",
     "text": [
      "Estimating biases using als...\n",
      "Computing the pearson_baseline similarity matrix...\n",
      "Done computing similarity matrix.\n",
      "Wall time: 5min 38s\n"
     ]
    },
    {
     "data": {
      "text/plain": [
       "<surprise.prediction_algorithms.knns.KNNWithZScore at 0x2733ed11e88>"
      ]
     },
     "execution_count": 11,
     "metadata": {},
     "output_type": "execute_result"
    }
   ],
   "source": [
    "%%time\n",
    "algo1.fit(trainset)"
   ]
  },
  {
   "cell_type": "code",
   "execution_count": 12,
   "metadata": {},
   "outputs": [
    {
     "name": "stdout",
     "output_type": "stream",
     "text": [
      "RMSE: 0.5868\n",
      "Wall time: 23min 59s\n"
     ]
    },
    {
     "data": {
      "text/plain": [
       "0.5867598932537077"
      ]
     },
     "execution_count": 12,
     "metadata": {},
     "output_type": "execute_result"
    }
   ],
   "source": [
    "%%time\n",
    "accuracy.rmse(algo1.test(testset), verbose=True)"
   ]
  },
  {
   "cell_type": "code",
   "execution_count": 13,
   "metadata": {},
   "outputs": [],
   "source": [
    "algo2 = KNNWithZScore(k=50, sim_options={'name': 'pearson_baseline', 'user_based': False})"
   ]
  },
  {
   "cell_type": "code",
   "execution_count": 14,
   "metadata": {},
   "outputs": [
    {
     "name": "stdout",
     "output_type": "stream",
     "text": [
      "Estimating biases using als...\n",
      "Computing the pearson_baseline similarity matrix...\n",
      "Done computing similarity matrix.\n",
      "Wall time: 2min 2s\n"
     ]
    },
    {
     "data": {
      "text/plain": [
       "<surprise.prediction_algorithms.knns.KNNWithZScore at 0x27320ee1ec8>"
      ]
     },
     "execution_count": 14,
     "metadata": {},
     "output_type": "execute_result"
    }
   ],
   "source": [
    "%%time\n",
    "algo2.fit(trainset)"
   ]
  },
  {
   "cell_type": "code",
   "execution_count": 15,
   "metadata": {},
   "outputs": [
    {
     "name": "stdout",
     "output_type": "stream",
     "text": [
      "RMSE: 0.5941\n",
      "Wall time: 12min 5s\n"
     ]
    },
    {
     "data": {
      "text/plain": [
       "0.5941407156491711"
      ]
     },
     "execution_count": 15,
     "metadata": {},
     "output_type": "execute_result"
    }
   ],
   "source": [
    "%%time\n",
    "accuracy.rmse(algo2.test(testset), verbose=True)"
   ]
  },
  {
   "cell_type": "code",
   "execution_count": 16,
   "metadata": {},
   "outputs": [],
   "source": [
    "algo3 = SVD(n_factors=20, n_epochs=30)"
   ]
  },
  {
   "cell_type": "code",
   "execution_count": 17,
   "metadata": {},
   "outputs": [
    {
     "name": "stdout",
     "output_type": "stream",
     "text": [
      "Wall time: 1min 7s\n"
     ]
    },
    {
     "data": {
      "text/plain": [
       "<surprise.prediction_algorithms.matrix_factorization.SVD at 0x27320eecf88>"
      ]
     },
     "execution_count": 17,
     "metadata": {},
     "output_type": "execute_result"
    }
   ],
   "source": [
    "%%time\n",
    "algo3.fit(trainset)"
   ]
  },
  {
   "cell_type": "code",
   "execution_count": 18,
   "metadata": {},
   "outputs": [
    {
     "name": "stdout",
     "output_type": "stream",
     "text": [
      "RMSE: 0.7562\n",
      "Wall time: 22.9 s\n"
     ]
    },
    {
     "data": {
      "text/plain": [
       "0.7562139223399588"
      ]
     },
     "execution_count": 18,
     "metadata": {},
     "output_type": "execute_result"
    }
   ],
   "source": [
    "%%time\n",
    "accuracy.rmse(algo3.test(testset), verbose=True)"
   ]
  },
  {
   "cell_type": "code",
   "execution_count": 19,
   "metadata": {},
   "outputs": [],
   "source": [
    "class HybridAlgorithm(AlgoBase):\n",
    "    \n",
    "    def __init__(self, alg1, alg2):\n",
    "        \n",
    "        AlgoBase.__init__(self)\n",
    "        self.alg1 = alg1\n",
    "        self.alg2 = alg2\n",
    "    \n",
    "    \n",
    "    def fit(self, trainset):\n",
    "        \n",
    "        AlgoBase.fit(self, trainset)\n",
    "        \n",
    "        return self\n",
    "    \n",
    "    \n",
    "    def estimate(self, u, i):\n",
    "        ru = self.trainset.to_raw_uid(u)\n",
    "        ri = self.trainset.to_raw_iid(i)\n",
    "        a1 = self.alg1.predict(uid=ru, iid=ri).est\n",
    "        a2 = self.alg2.predict(uid=ru, iid=ri).est\n",
    "\n",
    "        return 0.7 * a1 + 0.3 * a2"
   ]
  },
  {
   "cell_type": "code",
   "execution_count": 20,
   "metadata": {},
   "outputs": [
    {
     "data": {
      "text/plain": [
       "<__main__.HybridAlgorithm at 0x2733ed11788>"
      ]
     },
     "execution_count": 20,
     "metadata": {},
     "output_type": "execute_result"
    }
   ],
   "source": [
    "# Гибридный алгоритм на основе первого и второго алгоритмов\n",
    "hybrid_alg = HybridAlgorithm(algo1, algo2)\n",
    "hybrid_alg.fit(trainset)"
   ]
  },
  {
   "cell_type": "code",
   "execution_count": 21,
   "metadata": {},
   "outputs": [
    {
     "name": "stdout",
     "output_type": "stream",
     "text": [
      "RMSE: 0.5799\n",
      "Wall time: 38min 6s\n"
     ]
    },
    {
     "data": {
      "text/plain": [
       "0.5799258106265032"
      ]
     },
     "execution_count": 21,
     "metadata": {},
     "output_type": "execute_result"
    }
   ],
   "source": [
    "%%time\n",
    "accuracy.rmse(hybrid_alg.test(testset), verbose=True)"
   ]
  },
  {
   "cell_type": "markdown",
   "metadata": {},
   "source": [
    "Оценка *RMSE* 1-го, 2-го и 3-го алгоритма, соответственно, равна 0.5868, 0.5941 и 0.7562. Оценка гибридного на основе 1-го и 2-го немного улучшилась и равна 0.5799."
   ]
  },
  {
   "cell_type": "markdown",
   "metadata": {},
   "source": [
    "---"
   ]
  },
  {
   "cell_type": "markdown",
   "metadata": {},
   "source": [
    "Построим гибридную рекомендательную систему на основе близости векторов пользователей с оценками фильмов в качестве компонентов вектора и применения гибридного алгоритма для предсказания оценки фильма.  \n",
    "Для рекомендации фильма пользователю найдём похожих к нему 10 других пользователей по поставленным фильмам рейтингам.  \n",
    "\n",
    "1-й подход: применим наш алгоритм для предсказания рейтингов к фильмам, которые не оценивал пользователь и которым похожие на него пользователи поставили рейтинг 5, и выберем 10 фильмов с наибольшими предсказанными значениями  \n",
    "\n",
    "2-й подход: применим алгоритм для предсказания рейтингов к фильмам, которые пользователь не оценивал и которым наиболее похожий к нему пользователь по признакам пол и возраст поставил рейтинг 5, и также выберем 10 фильмов с наибольшими предсказанными значениями."
   ]
  },
  {
   "cell_type": "code",
   "execution_count": 29,
   "metadata": {},
   "outputs": [],
   "source": [
    "movies_with_ratings['movieId_new'] = movies_with_ratings.movieId.astype('category').cat.codes"
   ]
  },
  {
   "cell_type": "code",
   "execution_count": 30,
   "metadata": {},
   "outputs": [
    {
     "data": {
      "application/vnd.jupyter.widget-view+json": {
       "model_id": "e50d073661e24629ad170b4c7d9878bd",
       "version_major": 2,
       "version_minor": 0
      },
      "text/plain": [
       "HBox(children=(FloatProgress(value=0.0, max=6040.0), HTML(value='')))"
      ]
     },
     "metadata": {},
     "output_type": "display_data"
    },
    {
     "name": "stdout",
     "output_type": "stream",
     "text": [
      "\n"
     ]
    }
   ],
   "source": [
    "num_movies = movies_with_ratings.movieId_new.unique().shape[0]\n",
    "user_vector = {}\n",
    "\n",
    "for user, group in tqdm(movies_with_ratings.groupby('userId')):\n",
    "    \n",
    "    user_vector[user] = np.zeros(num_movies)\n",
    "    for i in range(len(group.movieId_new.values)):\n",
    "        m = group.movieId_new.values[i]\n",
    "        r = group.rating.values[i]\n",
    "        user_vector[user][int(m)] = r"
   ]
  },
  {
   "cell_type": "code",
   "execution_count": 34,
   "metadata": {},
   "outputs": [],
   "source": [
    "def recommendation(cur_user, alg, user_description=True):\n",
    "    \"\"\"\n",
    "    1-й подход: user_description=False\n",
    "    2-й подход: user_description=True\n",
    "    \"\"\"\n",
    "    cur_user_list = movies_with_ratings.loc[movies_with_ratings.userId == cur_user, 'title'].values.tolist()\n",
    "\n",
    "    sim_users = []\n",
    "    user_dist = []\n",
    "\n",
    "    for key in tqdm(user_vector.keys()):\n",
    "        if key == cur_user:\n",
    "            continue\n",
    "\n",
    "        sim_users.append(key)\n",
    "        user_dist.append(jaccard(user_vector[cur_user], user_vector[key]))\n",
    "\n",
    "    best_ind = np.argsort(user_dist)[:10]\n",
    "    most_sim_users = [sim_users[i] for i in best_ind]\n",
    "    \n",
    "    \n",
    "    if not user_description:\n",
    "\n",
    "        filter_str1 = 'userId in @most_sim_users and rating == 5 and title not in @cur_user_list'\n",
    "        temp1 = movies_with_ratings.query(filter_str1).drop_duplicates(subset='movieId')\n",
    "\n",
    "        temp1['prediction'] = temp1.apply(lambda x: alg.predict(uid=x.userId, iid=x.title).est, axis=1)\n",
    "\n",
    "        return temp1.sort_values(by='prediction', ascending=False)[['title', 'prediction']].head(10)\n",
    "    \n",
    "    else:\n",
    "\n",
    "        users['gender_new'] = users.gender.astype('category').cat.codes\n",
    "        users['age_new'] = users.age.astype('category').cat.codes\n",
    "\n",
    "        cur_user_descr = users.loc[users.userId == 1, ['gender_new', 'age_new']].values\n",
    "        user_descr_dist = []\n",
    "\n",
    "        for usr in most_sim_users:\n",
    "            sim_user_descr = users.loc[users.userId == usr, ['gender_new', 'age_new']].values\n",
    "            user_descr_dist.append(euclidean(cur_user_descr, sim_user_descr))\n",
    "\n",
    "        most_sim_user = most_sim_users[np.argsort(user_descr_dist)[0]]\n",
    "\n",
    "\n",
    "        most_sim_user_list = movies_with_ratings.loc[movies_with_ratings.userId == most_sim_user, 'title'].values.tolist()\n",
    "\n",
    "        filter_str2 = 'title not in @cur_user_list and title in @most_sim_user_list and userId == @most_sim_user'\n",
    "        temp2 = movies_with_ratings.query(filter_str2).sort_values(by='rating', ascending = False)\n",
    "\n",
    "        temp2['prediction'] = temp2.apply(lambda x: alg.predict(uid=x.userId, iid=x.title).est, axis=1)\n",
    "\n",
    "        return temp2.sort_values(by='prediction', ascending=False)[['title', 'prediction']].head(10)"
   ]
  },
  {
   "cell_type": "code",
   "execution_count": 35,
   "metadata": {
    "scrolled": false
   },
   "outputs": [
    {
     "data": {
      "application/vnd.jupyter.widget-view+json": {
       "model_id": "43350549e4d844008db0e20474266044",
       "version_major": 2,
       "version_minor": 0
      },
      "text/plain": [
       "HBox(children=(FloatProgress(value=0.0, max=6040.0), HTML(value='')))"
      ]
     },
     "metadata": {},
     "output_type": "display_data"
    },
    {
     "name": "stdout",
     "output_type": "stream",
     "text": [
      "\n"
     ]
    },
    {
     "data": {
      "text/html": [
       "<div>\n",
       "<style scoped>\n",
       "    .dataframe tbody tr th:only-of-type {\n",
       "        vertical-align: middle;\n",
       "    }\n",
       "\n",
       "    .dataframe tbody tr th {\n",
       "        vertical-align: top;\n",
       "    }\n",
       "\n",
       "    .dataframe thead th {\n",
       "        text-align: right;\n",
       "    }\n",
       "</style>\n",
       "<table border=\"1\" class=\"dataframe\">\n",
       "  <thead>\n",
       "    <tr style=\"text-align: right;\">\n",
       "      <th></th>\n",
       "      <th>title</th>\n",
       "      <th>prediction</th>\n",
       "    </tr>\n",
       "  </thead>\n",
       "  <tbody>\n",
       "    <tr>\n",
       "      <th>245276</th>\n",
       "      <td>Wrong Trousers, The (1993)</td>\n",
       "      <td>5.000000</td>\n",
       "    </tr>\n",
       "    <tr>\n",
       "      <th>884702</th>\n",
       "      <td>Winnie the Pooh and the Blustery Day (1968)</td>\n",
       "      <td>4.980765</td>\n",
       "    </tr>\n",
       "    <tr>\n",
       "      <th>245320</th>\n",
       "      <td>Grand Day Out, A (1992)</td>\n",
       "      <td>4.980733</td>\n",
       "    </tr>\n",
       "    <tr>\n",
       "      <th>245259</th>\n",
       "      <td>Gone with the Wind (1939)</td>\n",
       "      <td>4.977521</td>\n",
       "    </tr>\n",
       "    <tr>\n",
       "      <th>245304</th>\n",
       "      <td>Shawshank Redemption, The (1994)</td>\n",
       "      <td>4.969353</td>\n",
       "    </tr>\n",
       "    <tr>\n",
       "      <th>884692</th>\n",
       "      <td>Gladiator (2000)</td>\n",
       "      <td>4.962702</td>\n",
       "    </tr>\n",
       "    <tr>\n",
       "      <th>26007</th>\n",
       "      <td>Babe (1995)</td>\n",
       "      <td>4.953871</td>\n",
       "    </tr>\n",
       "    <tr>\n",
       "      <th>245323</th>\n",
       "      <td>Sting, The (1973)</td>\n",
       "      <td>4.952560</td>\n",
       "    </tr>\n",
       "    <tr>\n",
       "      <th>26026</th>\n",
       "      <td>Amadeus (1984)</td>\n",
       "      <td>4.950202</td>\n",
       "    </tr>\n",
       "    <tr>\n",
       "      <th>884694</th>\n",
       "      <td>Annie Hall (1977)</td>\n",
       "      <td>4.942871</td>\n",
       "    </tr>\n",
       "  </tbody>\n",
       "</table>\n",
       "</div>"
      ],
      "text/plain": [
       "                                              title  prediction\n",
       "245276                   Wrong Trousers, The (1993)    5.000000\n",
       "884702  Winnie the Pooh and the Blustery Day (1968)    4.980765\n",
       "245320                      Grand Day Out, A (1992)    4.980733\n",
       "245259                    Gone with the Wind (1939)    4.977521\n",
       "245304             Shawshank Redemption, The (1994)    4.969353\n",
       "884692                             Gladiator (2000)    4.962702\n",
       "26007                                   Babe (1995)    4.953871\n",
       "245323                            Sting, The (1973)    4.952560\n",
       "26026                                Amadeus (1984)    4.950202\n",
       "884694                            Annie Hall (1977)    4.942871"
      ]
     },
     "execution_count": 35,
     "metadata": {},
     "output_type": "execute_result"
    }
   ],
   "source": [
    "# 1-й подход\n",
    "recommendation(1, hybrid_alg, False)"
   ]
  },
  {
   "cell_type": "code",
   "execution_count": 32,
   "metadata": {},
   "outputs": [
    {
     "data": {
      "application/vnd.jupyter.widget-view+json": {
       "model_id": "edd0bd8d6eb34068a33deca1773ec773",
       "version_major": 2,
       "version_minor": 0
      },
      "text/plain": [
       "HBox(children=(FloatProgress(value=0.0, max=6040.0), HTML(value='')))"
      ]
     },
     "metadata": {},
     "output_type": "display_data"
    },
    {
     "name": "stdout",
     "output_type": "stream",
     "text": [
      "\n"
     ]
    },
    {
     "data": {
      "text/html": [
       "<div>\n",
       "<style scoped>\n",
       "    .dataframe tbody tr th:only-of-type {\n",
       "        vertical-align: middle;\n",
       "    }\n",
       "\n",
       "    .dataframe tbody tr th {\n",
       "        vertical-align: top;\n",
       "    }\n",
       "\n",
       "    .dataframe thead th {\n",
       "        text-align: right;\n",
       "    }\n",
       "</style>\n",
       "<table border=\"1\" class=\"dataframe\">\n",
       "  <thead>\n",
       "    <tr style=\"text-align: right;\">\n",
       "      <th></th>\n",
       "      <th>title</th>\n",
       "      <th>prediction</th>\n",
       "    </tr>\n",
       "  </thead>\n",
       "  <tbody>\n",
       "    <tr>\n",
       "      <th>94465</th>\n",
       "      <td>Star Wars: Episode V - The Empire Strikes Back...</td>\n",
       "      <td>4.900287</td>\n",
       "    </tr>\n",
       "    <tr>\n",
       "      <th>94495</th>\n",
       "      <td>Star Wars: Episode VI - Return of the Jedi (1983)</td>\n",
       "      <td>4.801998</td>\n",
       "    </tr>\n",
       "    <tr>\n",
       "      <th>94493</th>\n",
       "      <td>Lion King, The (1994)</td>\n",
       "      <td>4.719842</td>\n",
       "    </tr>\n",
       "    <tr>\n",
       "      <th>94496</th>\n",
       "      <td>Willy Wonka and the Chocolate Factory (1971)</td>\n",
       "      <td>4.612494</td>\n",
       "    </tr>\n",
       "    <tr>\n",
       "      <th>94460</th>\n",
       "      <td>Star Wars: Episode I - The Phantom Menace (1999)</td>\n",
       "      <td>4.601830</td>\n",
       "    </tr>\n",
       "    <tr>\n",
       "      <th>94462</th>\n",
       "      <td>Little Nemo: Adventures in Slumberland (1992)</td>\n",
       "      <td>4.594471</td>\n",
       "    </tr>\n",
       "    <tr>\n",
       "      <th>94483</th>\n",
       "      <td>Parent Trap, The (1961)</td>\n",
       "      <td>4.581795</td>\n",
       "    </tr>\n",
       "    <tr>\n",
       "      <th>94452</th>\n",
       "      <td>Robin Hood (1973)</td>\n",
       "      <td>4.547415</td>\n",
       "    </tr>\n",
       "    <tr>\n",
       "      <th>94477</th>\n",
       "      <td>Prince of Egypt, The (1998)</td>\n",
       "      <td>4.490733</td>\n",
       "    </tr>\n",
       "    <tr>\n",
       "      <th>94448</th>\n",
       "      <td>Newsies (1992)</td>\n",
       "      <td>4.469394</td>\n",
       "    </tr>\n",
       "  </tbody>\n",
       "</table>\n",
       "</div>"
      ],
      "text/plain": [
       "                                                   title  prediction\n",
       "94465  Star Wars: Episode V - The Empire Strikes Back...    4.900287\n",
       "94495  Star Wars: Episode VI - Return of the Jedi (1983)    4.801998\n",
       "94493                              Lion King, The (1994)    4.719842\n",
       "94496       Willy Wonka and the Chocolate Factory (1971)    4.612494\n",
       "94460   Star Wars: Episode I - The Phantom Menace (1999)    4.601830\n",
       "94462      Little Nemo: Adventures in Slumberland (1992)    4.594471\n",
       "94483                            Parent Trap, The (1961)    4.581795\n",
       "94452                                  Robin Hood (1973)    4.547415\n",
       "94477                        Prince of Egypt, The (1998)    4.490733\n",
       "94448                                     Newsies (1992)    4.469394"
      ]
     },
     "execution_count": 32,
     "metadata": {},
     "output_type": "execute_result"
    }
   ],
   "source": [
    "# 2-й подход\n",
    "recommendation(1, hybrid_alg)"
   ]
  }
 ],
 "metadata": {
  "kernelspec": {
   "display_name": "Python 3",
   "language": "python",
   "name": "python3"
  },
  "language_info": {
   "codemirror_mode": {
    "name": "ipython",
    "version": 3
   },
   "file_extension": ".py",
   "mimetype": "text/x-python",
   "name": "python",
   "nbconvert_exporter": "python",
   "pygments_lexer": "ipython3",
   "version": "3.7.6"
  }
 },
 "nbformat": 4,
 "nbformat_minor": 4
}
