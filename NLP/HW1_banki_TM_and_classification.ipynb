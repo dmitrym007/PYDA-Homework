{
  "nbformat": 4,
  "nbformat_minor": 0,
  "metadata": {
    "kernelspec": {
      "display_name": "Python 3",
      "language": "python",
      "name": "python3"
    },
    "language_info": {
      "codemirror_mode": {
        "name": "ipython",
        "version": 3
      },
      "file_extension": ".py",
      "mimetype": "text/x-python",
      "name": "python",
      "nbconvert_exporter": "python",
      "pygments_lexer": "ipython3",
      "version": "3.8.5"
    },
    "colab": {
      "name": "HW1_banki_TM-and-classification.ipynb",
      "provenance": [],
      "collapsed_sections": []
    }
  },
  "cells": [
    {
      "cell_type": "code",
      "metadata": {
        "id": "iBvDvKw0GmFl",
        "colab": {
          "base_uri": "https://localhost:8080/"
        },
        "outputId": "2cac9111-5d77-4486-a2d9-b9a9dba2422b"
      },
      "source": [
        "import json\n",
        "import bz2\n",
        "import pandas as pd\n",
        "import numpy as np\n",
        "import nltk\n",
        "import matplotlib.pyplot as plt\n",
        "import regex\n",
        "from collections import Counter\n",
        "from tqdm import tqdm\n",
        "from scipy import sparse\n",
        "from sklearn.model_selection import train_test_split\n",
        "from sklearn.feature_extraction.text import CountVectorizer, TfidfVectorizer, TfidfTransformer\n",
        "from sklearn.decomposition import TruncatedSVD\n",
        "from sklearn.pipeline import Pipeline\n",
        "from sklearn.ensemble import RandomForestClassifier\n",
        "from sklearn.metrics import classification_report\n",
        "%matplotlib inline\n",
        "%pylab inline"
      ],
      "execution_count": 1,
      "outputs": [
        {
          "output_type": "stream",
          "text": [
            "Populating the interactive namespace from numpy and matplotlib\n"
          ],
          "name": "stdout"
        }
      ]
    },
    {
      "cell_type": "code",
      "metadata": {
        "scrolled": true,
        "colab": {
          "base_uri": "https://localhost:8080/"
        },
        "id": "H1oQxvqOGmF8",
        "outputId": "1375ee59-ad20-44e0-bbe7-d6ab1fead0a8"
      },
      "source": [
        "responses = []\n",
        "with bz2.BZ2File('banki_responses.json.bz2', 'r') as thefile:\n",
        "    for row in tqdm(thefile):\n",
        "        resp = json.loads(row)\n",
        "        if not resp['rating_not_checked'] and (len(resp['text'].split()) > 0):\n",
        "            responses.append(resp)"
      ],
      "execution_count": 2,
      "outputs": [
        {
          "output_type": "stream",
          "text": [
            "201030it [03:09, 1059.88it/s]\n"
          ],
          "name": "stderr"
        }
      ]
    },
    {
      "cell_type": "markdown",
      "metadata": {
        "id": "Sh6I9vLNGmGA"
      },
      "source": [
        "#  Домашнее задание по NLP # 1 [100 баллов]\n",
        "## Классификация по тональности \n",
        "\n",
        "В этом домашнем задании вам предстоит классифицировать по тональности отзывы на банки с сайта banki.ru.\n",
        "\n",
        "Данные содержат непосредственно тексты отзывов, некоторую дополнительную информацию, а также оценку по шкале от 1 до 5. \n",
        "\n",
        "Тексты хранятся в json-ах в массиве responses.\n",
        "\n",
        "Посмотрим на пример отзыва:"
      ]
    },
    {
      "cell_type": "code",
      "metadata": {
        "id": "G5eEJLZ1GmGB",
        "colab": {
          "base_uri": "https://localhost:8080/"
        },
        "outputId": "fb166e59-b748-48d6-d1da-6f02e9168a06"
      },
      "source": [
        "responses[99]"
      ],
      "execution_count": 3,
      "outputs": [
        {
          "output_type": "execute_result",
          "data": {
            "text/plain": [
              "{'author': 'ronnichka',\n",
              " 'bank_license': 'лицензия № 880',\n",
              " 'bank_name': 'Югра',\n",
              " 'city': 'г. Саратов',\n",
              " 'datetime': '2015-06-03 20:56:57',\n",
              " 'num_comments': 0,\n",
              " 'rating_grade': 3,\n",
              " 'rating_not_checked': False,\n",
              " 'text': 'Здравствуйте! Хотела написать, что мне месяц не выдают карту ко вкладу, ссылаясь на \"нам же их из Самары везут\" (на секундочку 5 часов езды от нашего города). Но! Прочитала, что людям 3,5 месяцев не выдают карту, и поняла, что у меня все хорошо, пока что. И подарок мне дали, и кулер в отделении есть. Так что я, конечно, готова ждать. Правда хотелось бы не очень долго.',\n",
              " 'title': 'Карта ко вкладу'}"
            ]
          },
          "metadata": {
            "tags": []
          },
          "execution_count": 3
        }
      ]
    },
    {
      "cell_type": "code",
      "metadata": {
        "id": "CZ_X-e12GmGE",
        "colab": {
          "base_uri": "https://localhost:8080/",
          "height": 1000
        },
        "outputId": "a6e13b6d-4eed-4360-e6c1-ea7e6c7f357f"
      },
      "source": [
        "df = pd.DataFrame(responses)\n",
        "df"
      ],
      "execution_count": 4,
      "outputs": [
        {
          "output_type": "execute_result",
          "data": {
            "text/html": [
              "<div>\n",
              "<style scoped>\n",
              "    .dataframe tbody tr th:only-of-type {\n",
              "        vertical-align: middle;\n",
              "    }\n",
              "\n",
              "    .dataframe tbody tr th {\n",
              "        vertical-align: top;\n",
              "    }\n",
              "\n",
              "    .dataframe thead th {\n",
              "        text-align: right;\n",
              "    }\n",
              "</style>\n",
              "<table border=\"1\" class=\"dataframe\">\n",
              "  <thead>\n",
              "    <tr style=\"text-align: right;\">\n",
              "      <th></th>\n",
              "      <th>city</th>\n",
              "      <th>rating_not_checked</th>\n",
              "      <th>title</th>\n",
              "      <th>num_comments</th>\n",
              "      <th>bank_license</th>\n",
              "      <th>author</th>\n",
              "      <th>bank_name</th>\n",
              "      <th>datetime</th>\n",
              "      <th>text</th>\n",
              "      <th>rating_grade</th>\n",
              "    </tr>\n",
              "  </thead>\n",
              "  <tbody>\n",
              "    <tr>\n",
              "      <th>0</th>\n",
              "      <td>г. Москва</td>\n",
              "      <td>False</td>\n",
              "      <td>Жалоба</td>\n",
              "      <td>0</td>\n",
              "      <td>лицензия № 2562</td>\n",
              "      <td>uhnov1</td>\n",
              "      <td>Бинбанк</td>\n",
              "      <td>2015-06-08 12:50:54</td>\n",
              "      <td>Добрый день! Я не являюсь клиентом банка и пор...</td>\n",
              "      <td>NaN</td>\n",
              "    </tr>\n",
              "    <tr>\n",
              "      <th>1</th>\n",
              "      <td>г. Новосибирск</td>\n",
              "      <td>False</td>\n",
              "      <td>Не могу пользоваться услугой Сбербанк он-лайн</td>\n",
              "      <td>0</td>\n",
              "      <td>лицензия № 1481</td>\n",
              "      <td>Foryou</td>\n",
              "      <td>Сбербанк России</td>\n",
              "      <td>2015-06-08 11:09:57</td>\n",
              "      <td>Доброго дня! Являюсь держателем зарплатной кар...</td>\n",
              "      <td>NaN</td>\n",
              "    </tr>\n",
              "    <tr>\n",
              "      <th>2</th>\n",
              "      <td>г. Москва</td>\n",
              "      <td>False</td>\n",
              "      <td>Двойное списание за один товар.</td>\n",
              "      <td>1</td>\n",
              "      <td>лицензия № 2562</td>\n",
              "      <td>Vladimir84</td>\n",
              "      <td>Бинбанк</td>\n",
              "      <td>2015-06-05 20:14:28</td>\n",
              "      <td>Здравствуйте!  Дублирую свое заявление от 03.0...</td>\n",
              "      <td>NaN</td>\n",
              "    </tr>\n",
              "    <tr>\n",
              "      <th>3</th>\n",
              "      <td>г. Ставрополь</td>\n",
              "      <td>False</td>\n",
              "      <td>Меняют проценты комиссии  не предупредив и не ...</td>\n",
              "      <td>2</td>\n",
              "      <td>лицензия № 1481</td>\n",
              "      <td>643609</td>\n",
              "      <td>Сбербанк России</td>\n",
              "      <td>2015-06-05 13:51:01</td>\n",
              "      <td>Добрый день!! Я открыл расчетный счет в СберБа...</td>\n",
              "      <td>NaN</td>\n",
              "    </tr>\n",
              "    <tr>\n",
              "      <th>4</th>\n",
              "      <td>г. Челябинск</td>\n",
              "      <td>False</td>\n",
              "      <td>Верните денежные средства за страховку</td>\n",
              "      <td>1</td>\n",
              "      <td>лицензия № 2766</td>\n",
              "      <td>anfisa-2003</td>\n",
              "      <td>ОТП Банк</td>\n",
              "      <td>2015-06-05 10:58:12</td>\n",
              "      <td>04.03.2015 г. взяла кредит в вашем банке, заяв...</td>\n",
              "      <td>NaN</td>\n",
              "    </tr>\n",
              "    <tr>\n",
              "      <th>...</th>\n",
              "      <td>...</td>\n",
              "      <td>...</td>\n",
              "      <td>...</td>\n",
              "      <td>...</td>\n",
              "      <td>...</td>\n",
              "      <td>...</td>\n",
              "      <td>...</td>\n",
              "      <td>...</td>\n",
              "      <td>...</td>\n",
              "      <td>...</td>\n",
              "    </tr>\n",
              "    <tr>\n",
              "      <th>153494</th>\n",
              "      <td>None</td>\n",
              "      <td>False</td>\n",
              "      <td>Не все так страшно</td>\n",
              "      <td>0</td>\n",
              "      <td>лицензия № 2557</td>\n",
              "      <td>Вера</td>\n",
              "      <td>Ситибанк</td>\n",
              "      <td>2005-05-18 14:38:00</td>\n",
              "      <td>Слишком большой банк, не всегда учитывает нашу...</td>\n",
              "      <td>5.0</td>\n",
              "    </tr>\n",
              "    <tr>\n",
              "      <th>153495</th>\n",
              "      <td>None</td>\n",
              "      <td>False</td>\n",
              "      <td>А вы договор читали?</td>\n",
              "      <td>0</td>\n",
              "      <td>лицензия № 2557</td>\n",
              "      <td>Kirill</td>\n",
              "      <td>Ситибанк</td>\n",
              "      <td>2005-04-14 15:25:00</td>\n",
              "      <td>Вы сами виноваты в своих проблемах, кроме пред...</td>\n",
              "      <td>3.0</td>\n",
              "    </tr>\n",
              "    <tr>\n",
              "      <th>153496</th>\n",
              "      <td>None</td>\n",
              "      <td>False</td>\n",
              "      <td>Филиал банка \"ОВК\" в г. Иваново</td>\n",
              "      <td>1</td>\n",
              "      <td>лицензия № 2272</td>\n",
              "      <td>AlexU-post</td>\n",
              "      <td>Росбанк</td>\n",
              "      <td>2005-04-08 14:07:00</td>\n",
              "      <td>Уважаемое руководство банка «ОВК»! Я проживаю ...</td>\n",
              "      <td>1.0</td>\n",
              "    </tr>\n",
              "    <tr>\n",
              "      <th>153497</th>\n",
              "      <td>None</td>\n",
              "      <td>False</td>\n",
              "      <td>В Альфа-Банк больше обращаться не буду.</td>\n",
              "      <td>0</td>\n",
              "      <td>лицензия № 1326</td>\n",
              "      <td>Ирина</td>\n",
              "      <td>Альфа-Банк</td>\n",
              "      <td>2005-04-14 15:16:00</td>\n",
              "      <td>Пробовала 10.04.05 оформить товар в кредит в А...</td>\n",
              "      <td>1.0</td>\n",
              "    </tr>\n",
              "    <tr>\n",
              "      <th>153498</th>\n",
              "      <td>None</td>\n",
              "      <td>False</td>\n",
              "      <td>Быстро и удобно</td>\n",
              "      <td>0</td>\n",
              "      <td>лицензия № 1326</td>\n",
              "      <td>Денис</td>\n",
              "      <td>Альфа-Банк</td>\n",
              "      <td>2005-04-13 17:43:00</td>\n",
              "      <td>Если коротко, то мне нравится. Кридит получать...</td>\n",
              "      <td>5.0</td>\n",
              "    </tr>\n",
              "  </tbody>\n",
              "</table>\n",
              "<p>153499 rows × 10 columns</p>\n",
              "</div>"
            ],
            "text/plain": [
              "                  city  ...  rating_grade\n",
              "0            г. Москва  ...           NaN\n",
              "1       г. Новосибирск  ...           NaN\n",
              "2            г. Москва  ...           NaN\n",
              "3        г. Ставрополь  ...           NaN\n",
              "4         г. Челябинск  ...           NaN\n",
              "...                ...  ...           ...\n",
              "153494            None  ...           5.0\n",
              "153495            None  ...           3.0\n",
              "153496            None  ...           1.0\n",
              "153497            None  ...           1.0\n",
              "153498            None  ...           5.0\n",
              "\n",
              "[153499 rows x 10 columns]"
            ]
          },
          "metadata": {
            "tags": []
          },
          "execution_count": 4
        }
      ]
    },
    {
      "cell_type": "code",
      "metadata": {
        "id": "EononGI2GmGJ",
        "colab": {
          "base_uri": "https://localhost:8080/"
        },
        "outputId": "2a3ccc1d-bf76-4fe8-9fff-f0b3a95ce18e"
      },
      "source": [
        "df.isna().sum()"
      ],
      "execution_count": 5,
      "outputs": [
        {
          "output_type": "execute_result",
          "data": {
            "text/plain": [
              "city                  15174\n",
              "rating_not_checked        0\n",
              "title                     0\n",
              "num_comments              0\n",
              "bank_license              1\n",
              "author                   20\n",
              "bank_name                 0\n",
              "datetime                  0\n",
              "text                      0\n",
              "rating_grade          64841\n",
              "dtype: int64"
            ]
          },
          "metadata": {
            "tags": []
          },
          "execution_count": 5
        }
      ]
    },
    {
      "cell_type": "code",
      "metadata": {
        "id": "XQH0XldRGmGj"
      },
      "source": [
        "temp = df.loc[df.city.dropna().index, 'city'].apply(lambda x: re.sub(r'(г. )|(,[\\D]+)|( \\([\\D]+)', '', x))"
      ],
      "execution_count": 6,
      "outputs": []
    },
    {
      "cell_type": "code",
      "metadata": {
        "id": "yC-B-mDfGmGo"
      },
      "source": [
        "df['city_name'] = temp"
      ],
      "execution_count": 7,
      "outputs": []
    },
    {
      "cell_type": "markdown",
      "metadata": {
        "id": "Vqig5s9eGmGp"
      },
      "source": [
        "## Часть 1. Анализ текстов [40/100]\n",
        "\n",
        "1. Посчитайте количество отзывов в разных городах и на разные банки\n",
        "2. Постройте гистограмы длин слов в символах и в словах\n",
        "3. Найдите 10 самых частых:\n",
        "    * слов\n",
        "    * слов без стоп-слов\n",
        "    * лемм \n",
        "* существительных\n",
        "4. Постройте кривые Ципфа и Хипса\n",
        "5. Ответьте на следующие вопросы:\n",
        "    * какое слово встречается чаще, \"сотрудник\" или \"клиент\"?\n",
        "    * сколько раз встречается слова \"мошенничество\" и \"доверие\"?\n",
        "6. В поле \"rating_grade\" записана оценка отзыва по шкале от 1 до 5. Используйте меру $tf-idf$, для того, чтобы найти ключевые слова и биграмы для положительных отзывов (с оценкой 5) и отрицательных отзывов (с оценкой 1)"
      ]
    },
    {
      "cell_type": "markdown",
      "metadata": {
        "id": "MRXqXCW0VATt"
      },
      "source": [
        "---"
      ]
    },
    {
      "cell_type": "markdown",
      "metadata": {
        "id": "tbbBfKTUJEGo"
      },
      "source": [
        "1. Посчитайте количество отзывов в разных городах и на разные банки."
      ]
    },
    {
      "cell_type": "code",
      "metadata": {
        "id": "eswMIwIMGmGq",
        "colab": {
          "base_uri": "https://localhost:8080/",
          "height": 708
        },
        "outputId": "c6fb10f0-b54e-4ad0-e239-9ebcc20a9c75"
      },
      "source": [
        "df.dropna().groupby(['city_name', 'bank_name']).count()[['city']].sort_values(by='city', ascending=False).head(20)"
      ],
      "execution_count": 8,
      "outputs": [
        {
          "output_type": "execute_result",
          "data": {
            "text/html": [
              "<div>\n",
              "<style scoped>\n",
              "    .dataframe tbody tr th:only-of-type {\n",
              "        vertical-align: middle;\n",
              "    }\n",
              "\n",
              "    .dataframe tbody tr th {\n",
              "        vertical-align: top;\n",
              "    }\n",
              "\n",
              "    .dataframe thead th {\n",
              "        text-align: right;\n",
              "    }\n",
              "</style>\n",
              "<table border=\"1\" class=\"dataframe\">\n",
              "  <thead>\n",
              "    <tr style=\"text-align: right;\">\n",
              "      <th></th>\n",
              "      <th></th>\n",
              "      <th>city</th>\n",
              "    </tr>\n",
              "    <tr>\n",
              "      <th>city_name</th>\n",
              "      <th>bank_name</th>\n",
              "      <th></th>\n",
              "    </tr>\n",
              "  </thead>\n",
              "  <tbody>\n",
              "    <tr>\n",
              "      <th rowspan=\"4\" valign=\"top\">Москва</th>\n",
              "      <th>Сбербанк России</th>\n",
              "      <td>4662</td>\n",
              "    </tr>\n",
              "    <tr>\n",
              "      <th>Альфа-Банк</th>\n",
              "      <td>2058</td>\n",
              "    </tr>\n",
              "    <tr>\n",
              "      <th>Русский Стандарт</th>\n",
              "      <td>1656</td>\n",
              "    </tr>\n",
              "    <tr>\n",
              "      <th>ВТБ 24</th>\n",
              "      <td>1552</td>\n",
              "    </tr>\n",
              "    <tr>\n",
              "      <th>Санкт-Петербург</th>\n",
              "      <th>Сбербанк России</th>\n",
              "      <td>1387</td>\n",
              "    </tr>\n",
              "    <tr>\n",
              "      <th rowspan=\"12\" valign=\"top\">Москва</th>\n",
              "      <th>Московский Кредитный Банк</th>\n",
              "      <td>1381</td>\n",
              "    </tr>\n",
              "    <tr>\n",
              "      <th>Хоум Кредит Банк</th>\n",
              "      <td>1296</td>\n",
              "    </tr>\n",
              "    <tr>\n",
              "      <th>Национальный Банк «Траст»</th>\n",
              "      <td>1048</td>\n",
              "    </tr>\n",
              "    <tr>\n",
              "      <th>Райффайзенбанк</th>\n",
              "      <td>970</td>\n",
              "    </tr>\n",
              "    <tr>\n",
              "      <th>Тинькофф Банк</th>\n",
              "      <td>950</td>\n",
              "    </tr>\n",
              "    <tr>\n",
              "      <th>Банк Москвы</th>\n",
              "      <td>863</td>\n",
              "    </tr>\n",
              "    <tr>\n",
              "      <th>ЮниКредит Банк</th>\n",
              "      <td>813</td>\n",
              "    </tr>\n",
              "    <tr>\n",
              "      <th>Ситибанк</th>\n",
              "      <td>740</td>\n",
              "    </tr>\n",
              "    <tr>\n",
              "      <th>Связной Банк</th>\n",
              "      <td>703</td>\n",
              "    </tr>\n",
              "    <tr>\n",
              "      <th>Промсвязьбанк</th>\n",
              "      <td>674</td>\n",
              "    </tr>\n",
              "    <tr>\n",
              "      <th>Ренессанс Кредит</th>\n",
              "      <td>643</td>\n",
              "    </tr>\n",
              "    <tr>\n",
              "      <th>Авангард</th>\n",
              "      <td>536</td>\n",
              "    </tr>\n",
              "    <tr>\n",
              "      <th rowspan=\"2\" valign=\"top\">Санкт-Петербург</th>\n",
              "      <th>ВТБ 24</th>\n",
              "      <td>518</td>\n",
              "    </tr>\n",
              "    <tr>\n",
              "      <th>Альфа-Банк</th>\n",
              "      <td>455</td>\n",
              "    </tr>\n",
              "    <tr>\n",
              "      <th>Москва</th>\n",
              "      <th>Московский Областной Банк</th>\n",
              "      <td>422</td>\n",
              "    </tr>\n",
              "  </tbody>\n",
              "</table>\n",
              "</div>"
            ],
            "text/plain": [
              "                                           city\n",
              "city_name       bank_name                      \n",
              "Москва          Сбербанк России            4662\n",
              "                Альфа-Банк                 2058\n",
              "                Русский Стандарт           1656\n",
              "                ВТБ 24                     1552\n",
              "Санкт-Петербург Сбербанк России            1387\n",
              "Москва          Московский Кредитный Банк  1381\n",
              "                Хоум Кредит Банк           1296\n",
              "                Национальный Банк «Траст»  1048\n",
              "                Райффайзенбанк              970\n",
              "                Тинькофф Банк               950\n",
              "                Банк Москвы                 863\n",
              "                ЮниКредит Банк              813\n",
              "                Ситибанк                    740\n",
              "                Связной Банк                703\n",
              "                Промсвязьбанк               674\n",
              "                Ренессанс Кредит            643\n",
              "                Авангард                    536\n",
              "Санкт-Петербург ВТБ 24                      518\n",
              "                Альфа-Банк                  455\n",
              "Москва          Московский Областной Банк   422"
            ]
          },
          "metadata": {
            "tags": []
          },
          "execution_count": 8
        }
      ]
    },
    {
      "cell_type": "code",
      "metadata": {
        "id": "o82hJAMxGmGs"
      },
      "source": [
        "import re\n",
        "regex = re.compile(\"[А-Яа-я]+\")"
      ],
      "execution_count": 9,
      "outputs": []
    },
    {
      "cell_type": "code",
      "metadata": {
        "id": "DaTFjUnsGmGu"
      },
      "source": [
        "def words_only(text, regex=regex):\n",
        "    try:\n",
        "        return \" \".join(regex.findall(text))\n",
        "    except:\n",
        "        return \"\""
      ],
      "execution_count": 10,
      "outputs": []
    },
    {
      "cell_type": "code",
      "metadata": {
        "id": "m5tslXEJGmGv",
        "colab": {
          "base_uri": "https://localhost:8080/"
        },
        "outputId": "045ecc00-b907-4fba-b32d-2349fc00b8f3"
      },
      "source": [
        "%%time \n",
        "df.text = df.text.str.lower()\n",
        "df.text = df.text.apply(words_only)"
      ],
      "execution_count": 11,
      "outputs": [
        {
          "output_type": "stream",
          "text": [
            "CPU times: user 10.7 s, sys: 797 ms, total: 11.5 s\n",
            "Wall time: 11.5 s\n"
          ],
          "name": "stdout"
        }
      ]
    },
    {
      "cell_type": "code",
      "metadata": {
        "id": "AXf0RudJ3BAy"
      },
      "source": [
        "word_len = [len(token) for text in df.text.values  for token in text.split()]"
      ],
      "execution_count": 12,
      "outputs": []
    },
    {
      "cell_type": "code",
      "metadata": {
        "id": "hXnVLGVxvr-j",
        "colab": {
          "base_uri": "https://localhost:8080/"
        },
        "outputId": "7acdd019-d256-4077-df2d-09de4b1cf95c"
      },
      "source": [
        "len(unique(word_len))"
      ],
      "execution_count": 13,
      "outputs": [
        {
          "output_type": "execute_result",
          "data": {
            "text/plain": [
              "42"
            ]
          },
          "metadata": {
            "tags": []
          },
          "execution_count": 13
        }
      ]
    },
    {
      "cell_type": "markdown",
      "metadata": {
        "id": "r9b-03P_JW5l"
      },
      "source": [
        "2. Постройте гистограмы длин слов в символах и в словах."
      ]
    },
    {
      "cell_type": "code",
      "metadata": {
        "id": "yYBq547vzO3G",
        "colab": {
          "base_uri": "https://localhost:8080/",
          "height": 294
        },
        "outputId": "05fb1b10-f45e-4906-e969-67491f696214"
      },
      "source": [
        "plt.hist(word_len, bins=42)\n",
        "plt.show"
      ],
      "execution_count": 14,
      "outputs": [
        {
          "output_type": "execute_result",
          "data": {
            "text/plain": [
              "<function matplotlib.pyplot.show>"
            ]
          },
          "metadata": {
            "tags": []
          },
          "execution_count": 14
        },
        {
          "output_type": "display_data",
          "data": {
            "image/png": "[encoded data removed]",
            "text/plain": [
              "<Figure size 432x288 with 1 Axes>"
            ]
          },
          "metadata": {
            "tags": [],
            "needs_background": "light"
          }
        }
      ]
    },
    {
      "cell_type": "code",
      "metadata": {
        "id": "ZWxTmrEEvqOt",
        "colab": {
          "base_uri": "https://localhost:8080/",
          "height": 294
        },
        "outputId": "7454785e-ee41-4f26-ae8f-3f75d2d29763"
      },
      "source": [
        "plt.hist([i for i  in word_len if i < 16], bins=15)\n",
        "plt.show"
      ],
      "execution_count": 15,
      "outputs": [
        {
          "output_type": "execute_result",
          "data": {
            "text/plain": [
              "<function matplotlib.pyplot.show>"
            ]
          },
          "metadata": {
            "tags": []
          },
          "execution_count": 15
        },
        {
          "output_type": "display_data",
          "data": {
            "image/png": "[encoded data removed]",
            "text/plain": [
              "<Figure size 432x288 with 1 Axes>"
            ]
          },
          "metadata": {
            "tags": [],
            "needs_background": "light"
          }
        }
      ]
    },
    {
      "cell_type": "code",
      "metadata": {
        "id": "PBOURjRHvsIz"
      },
      "source": [
        "corpus = [lemma for text in df.text.values  for lemma in text.split()]\n",
        "cnt = Counter(corpus)"
      ],
      "execution_count": 16,
      "outputs": []
    },
    {
      "cell_type": "markdown",
      "metadata": {
        "id": "IseG_M_OJnuU"
      },
      "source": [
        "3. Найдите 10 самых частых:\n",
        "    * слов\n",
        "    * слов без стоп-слов\n",
        "    * лемм \n",
        "* существительных"
      ]
    },
    {
      "cell_type": "code",
      "metadata": {
        "id": "geHjVti-_3xN",
        "colab": {
          "base_uri": "https://localhost:8080/"
        },
        "outputId": "e7ef8d12-aaae-4941-d3c5-ec48ed159775"
      },
      "source": [
        "# 10 самых частых слов\n",
        "for i in cnt.most_common(10):\n",
        "    print(i)"
      ],
      "execution_count": 17,
      "outputs": [
        {
          "output_type": "stream",
          "text": [
            "('в', 1330550)\n",
            "('и', 1058997)\n",
            "('не', 855335)\n",
            "('на', 707935)\n",
            "('что', 640057)\n",
            "('я', 577500)\n",
            "('с', 464037)\n",
            "('по', 372769)\n",
            "('мне', 320958)\n",
            "('банка', 275906)\n"
          ],
          "name": "stdout"
        }
      ]
    },
    {
      "cell_type": "code",
      "metadata": {
        "id": "DJ61kb1CJ_MH",
        "colab": {
          "base_uri": "https://localhost:8080/"
        },
        "outputId": "7764f3d5-934d-4589-c950-cd25a464199b"
      },
      "source": [
        "nltk.download('stopwords')"
      ],
      "execution_count": 18,
      "outputs": [
        {
          "output_type": "stream",
          "text": [
            "[nltk_data] Downloading package stopwords to /root/nltk_data...\n",
            "[nltk_data]   Unzipping corpora/stopwords.zip.\n"
          ],
          "name": "stdout"
        },
        {
          "output_type": "execute_result",
          "data": {
            "text/plain": [
              "True"
            ]
          },
          "metadata": {
            "tags": []
          },
          "execution_count": 18
        }
      ]
    },
    {
      "cell_type": "code",
      "metadata": {
        "id": "khOgR9cZ_8BG"
      },
      "source": [
        "from nltk.corpus import stopwords\n",
        "mystopwords = stopwords.words('russian') + ['это', 'наш' , 'тыс', 'млн', 'млрд', 'также',  'т', 'д', 'который', 'мой', 'ваш', 'год', 'г', 'р', 'руб', 'рубль']"
      ],
      "execution_count": 19,
      "outputs": []
    },
    {
      "cell_type": "code",
      "metadata": {
        "id": "5BngeSm8-W1x"
      },
      "source": [
        "def remove_stopwords(text, mystopwords=mystopwords):\n",
        "    try:\n",
        "        return ' '.join([token for token in text.split() if token not in mystopwords])\n",
        "    except:\n",
        "        return ''"
      ],
      "execution_count": 20,
      "outputs": []
    },
    {
      "cell_type": "code",
      "metadata": {
        "id": "efcSRGrmn64g"
      },
      "source": [
        "df.text = df.text.apply(remove_stopwords)"
      ],
      "execution_count": 21,
      "outputs": []
    },
    {
      "cell_type": "code",
      "metadata": {
        "id": "2R1XwtZDud_Q"
      },
      "source": [
        "corpus = [lemma for text in df.text.values  for lemma in text.split()]\n",
        "cnt = Counter(corpus)"
      ],
      "execution_count": 22,
      "outputs": []
    },
    {
      "cell_type": "code",
      "metadata": {
        "id": "boDntsh3h0ll",
        "colab": {
          "base_uri": "https://localhost:8080/"
        },
        "outputId": "3f475a6b-e3c2-489a-e2a5-e8cdf06d7342"
      },
      "source": [
        "# 10 самых частых слов без стоп-слов\n",
        "cnt.most_common(10)"
      ],
      "execution_count": 23,
      "outputs": [
        {
          "output_type": "execute_result",
          "data": {
            "text/plain": [
              "[('банка', 275906),\n",
              " ('банк', 215426),\n",
              " ('деньги', 131201),\n",
              " ('карту', 105829),\n",
              " ('карты', 101821),\n",
              " ('кредит', 81136),\n",
              " ('день', 76552),\n",
              " ('банке', 72169),\n",
              " ('заявление', 70423),\n",
              " ('очень', 66824)]"
            ]
          },
          "metadata": {
            "tags": []
          },
          "execution_count": 23
        }
      ]
    },
    {
      "cell_type": "code",
      "metadata": {
        "id": "MdadP4M5S-yt",
        "colab": {
          "base_uri": "https://localhost:8080/"
        },
        "outputId": "39adf5d9-2ff2-4dae-8f0d-f7156116eac2"
      },
      "source": [
        "!pip install pymorphy2"
      ],
      "execution_count": 24,
      "outputs": [
        {
          "output_type": "stream",
          "text": [
            "Collecting pymorphy2\n",
            "\u001b[?25l  Downloading https://files.pythonhosted.org/packages/07/57/b2ff2fae3376d4f3c697b9886b64a54b476e1a332c67eee9f88e7f1ae8c9/pymorphy2-0.9.1-py3-none-any.whl (55kB)\n",
            "\r\u001b[K     |██████                          | 10kB 14.9MB/s eta 0:00:01\r\u001b[K     |███████████▉                    | 20kB 10.3MB/s eta 0:00:01\r\u001b[K     |█████████████████▊              | 30kB 6.0MB/s eta 0:00:01\r\u001b[K     |███████████████████████▋        | 40kB 5.0MB/s eta 0:00:01\r\u001b[K     |█████████████████████████████▌  | 51kB 4.2MB/s eta 0:00:01\r\u001b[K     |████████████████████████████████| 61kB 2.9MB/s \n",
            "\u001b[?25hRequirement already satisfied: docopt>=0.6 in /usr/local/lib/python3.7/dist-packages (from pymorphy2) (0.6.2)\n",
            "Collecting pymorphy2-dicts-ru<3.0,>=2.4\n",
            "\u001b[?25l  Downloading https://files.pythonhosted.org/packages/3a/79/bea0021eeb7eeefde22ef9e96badf174068a2dd20264b9a378f2be1cdd9e/pymorphy2_dicts_ru-2.4.417127.4579844-py2.py3-none-any.whl (8.2MB)\n",
            "\u001b[K     |████████████████████████████████| 8.2MB 5.4MB/s \n",
            "\u001b[?25hCollecting dawg-python>=0.7.1\n",
            "  Downloading https://files.pythonhosted.org/packages/6a/84/ff1ce2071d4c650ec85745766c0047ccc3b5036f1d03559fd46bb38b5eeb/DAWG_Python-0.7.2-py2.py3-none-any.whl\n",
            "Installing collected packages: pymorphy2-dicts-ru, dawg-python, pymorphy2\n",
            "Successfully installed dawg-python-0.7.2 pymorphy2-0.9.1 pymorphy2-dicts-ru-2.4.417127.4579844\n"
          ],
          "name": "stdout"
        }
      ]
    },
    {
      "cell_type": "code",
      "metadata": {
        "id": "J-Otk6RUGmGx"
      },
      "source": [
        "from pymorphy2 import MorphAnalyzer\n",
        "analyzer = MorphAnalyzer()"
      ],
      "execution_count": 25,
      "outputs": []
    },
    {
      "cell_type": "code",
      "metadata": {
        "id": "O3A6eN0WGmGx"
      },
      "source": [
        "def lemmatize(text, analyzer=analyzer):\n",
        "    try:\n",
        "        return ' '.join([analyzer.parse(word)[0].normal_form for word in text.split()])\n",
        "    except:\n",
        "        return ' '"
      ],
      "execution_count": 26,
      "outputs": []
    },
    {
      "cell_type": "code",
      "metadata": {
        "id": "fxvkVAegGmG1",
        "colab": {
          "base_uri": "https://localhost:8080/"
        },
        "outputId": "10989649-e210-4275-da01-21c4e8e006f7"
      },
      "source": [
        "%%time \n",
        "df.text = df.text.apply(lemmatize)"
      ],
      "execution_count": 27,
      "outputs": [
        {
          "output_type": "stream",
          "text": [
            "CPU times: user 1h 8min 34s, sys: 6.2 s, total: 1h 8min 40s\n",
            "Wall time: 1h 8min 50s\n"
          ],
          "name": "stdout"
        }
      ]
    },
    {
      "cell_type": "code",
      "metadata": {
        "id": "rhQxLAIbxb-I"
      },
      "source": [
        "corpus = [token for text in df.text.values  for token in text.split()]\n",
        "freq_dict = Counter(corpus)"
      ],
      "execution_count": 28,
      "outputs": []
    },
    {
      "cell_type": "code",
      "metadata": {
        "id": "UlKztmLCzPB_",
        "colab": {
          "base_uri": "https://localhost:8080/"
        },
        "outputId": "567b7946-e483-4df6-d5e9-2d9b68e48593"
      },
      "source": [
        "# 10 самых частых лемм\n",
        "freq_dict.most_common(10)"
      ],
      "execution_count": 29,
      "outputs": [
        {
          "output_type": "execute_result",
          "data": {
            "text/plain": [
              "[('банк', 668563),\n",
              " ('карта', 334999),\n",
              " ('деньга', 179819),\n",
              " ('день', 173116),\n",
              " ('мой', 163042),\n",
              " ('кредит', 156177),\n",
              " ('отделение', 144050),\n",
              " ('клиент', 136892),\n",
              " ('сотрудник', 134168),\n",
              " ('счёт', 126894)]"
            ]
          },
          "metadata": {
            "tags": []
          },
          "execution_count": 29
        }
      ]
    },
    {
      "cell_type": "code",
      "metadata": {
        "id": "cEOBo0sAGmG3"
      },
      "source": [
        "def pos_def(word, pos='NOUN', analyzer=analyzer):\n",
        "  p = analyzer.parse(word)\n",
        "  for i in range(len(p)):\n",
        "    if pos in p[i].tag:\n",
        "      return True\n",
        "  return False"
      ],
      "execution_count": 62,
      "outputs": []
    },
    {
      "cell_type": "code",
      "metadata": {
        "id": "X7vAGlQgvvym",
        "colab": {
          "base_uri": "https://localhost:8080/"
        },
        "outputId": "7f7c2000-55f5-4b26-e777-d38b9e7f63a7"
      },
      "source": [
        "%%time\n",
        "corpus_noun = [token for text in df.text.values  for token in text.split() if pos_def(token)]"
      ],
      "execution_count": 64,
      "outputs": [
        {
          "output_type": "stream",
          "text": [
            "CPU times: user 1h 6min 9s, sys: 5.37 s, total: 1h 6min 15s\n",
            "Wall time: 1h 6min 23s\n"
          ],
          "name": "stdout"
        }
      ]
    },
    {
      "cell_type": "code",
      "metadata": {
        "id": "GouAggL-HZIY",
        "colab": {
          "base_uri": "https://localhost:8080/"
        },
        "outputId": "8c0f660e-bdab-477e-f27d-3241217b6606"
      },
      "source": [
        "# 10 самых частых существительных\n",
        "freq_dict_noun = Counter(corpus_noun)\n",
        "freq_dict_noun.most_common(10)"
      ],
      "execution_count": 65,
      "outputs": [
        {
          "output_type": "execute_result",
          "data": {
            "text/plain": [
              "[('банк', 668563),\n",
              " ('карта', 334999),\n",
              " ('деньга', 179819),\n",
              " ('день', 173116),\n",
              " ('кредит', 156177),\n",
              " ('отделение', 144050),\n",
              " ('клиент', 136892),\n",
              " ('сотрудник', 134168),\n",
              " ('счёт', 126894),\n",
              " ('сумма', 111232)]"
            ]
          },
          "metadata": {
            "tags": []
          },
          "execution_count": 65
        }
      ]
    },
    {
      "cell_type": "markdown",
      "metadata": {
        "id": "eS1--ePJKhdK"
      },
      "source": [
        "4. Постройте кривые Ципфа и Хипса."
      ]
    },
    {
      "cell_type": "markdown",
      "metadata": {
        "id": "RR7NU7QPLI5W"
      },
      "source": [
        "Построим кривую Ципфа."
      ]
    },
    {
      "cell_type": "code",
      "metadata": {
        "id": "L9jWTZ5rGmG3",
        "colab": {
          "base_uri": "https://localhost:8080/",
          "height": 295
        },
        "outputId": "b235cd5f-eb01-4c7f-b983-a2c8d666cfdf"
      },
      "source": [
        "freqs = sorted(list(freq_dict.values()), reverse = True)\n",
        "fig, ax = plt.subplots()\n",
        "ax.plot(freqs[:300], range(300))\n",
        "ax.set_title(\"Zipf's law (f=a/r)\")\n",
        "ax.set_xlabel('Frequency (f)')\n",
        "ax.set_ylabel('Rank (r)')\n",
        "plt.show()"
      ],
      "execution_count": 33,
      "outputs": [
        {
          "output_type": "display_data",
          "data": {
            "image/png": "[encoded data removed]",
            "text/plain": [
              "<Figure size 432x288 with 1 Axes>"
            ]
          },
          "metadata": {
            "tags": [],
            "needs_background": "light"
          }
        }
      ]
    },
    {
      "cell_type": "markdown",
      "metadata": {
        "id": "sR3K559xK0RH"
      },
      "source": [
        "Построим кривую Хипса."
      ]
    },
    {
      "cell_type": "code",
      "metadata": {
        "id": "4RSUZqvU9YoP",
        "colab": {
          "base_uri": "https://localhost:8080/"
        },
        "outputId": "360d07e0-12c5-42c3-d944-9bd211e1c799"
      },
      "source": [
        "cnt = Counter()\n",
        "n_words = []\n",
        "n_tokens = []\n",
        "tokens = []\n",
        "for index, row in tqdm(df.iterrows(), total = len(df)):\n",
        "    # tokens = words_only(row['text'])\n",
        "    cnt.update(row.text.split())\n",
        "    n_words.append(len(cnt))\n",
        "    n_tokens.append(sum(np.fromiter(cnt.values(), dtype=int)))"
      ],
      "execution_count": 34,
      "outputs": [
        {
          "output_type": "stream",
          "text": [
            "100%|██████████| 153499/153499 [07:00<00:00, 364.79it/s]\n"
          ],
          "name": "stderr"
        }
      ]
    },
    {
      "cell_type": "code",
      "metadata": {
        "id": "Qn6QeLHy9YHo",
        "colab": {
          "base_uri": "https://localhost:8080/",
          "height": 299
        },
        "outputId": "3ab3c81c-10bd-4726-f83a-f953ed90c2e0"
      },
      "source": [
        "fig, ax = plt.subplots()\n",
        "ax.set_title(\"Heaps' law ($|V| = K*N^b,  K \\in [10,100], b \\in [0.4, 0.6])$\")\n",
        "ax.set_xlabel('Number of tokens (N)')\n",
        "ax.set_ylabel('Number of words in dictionary (|V|)')\n",
        "ax.plot(n_tokens, n_words)\n",
        "plt.show()"
      ],
      "execution_count": 35,
      "outputs": [
        {
          "output_type": "display_data",
          "data": {
            "image/png": "[encoded data removed]",
            "text/plain": [
              "<Figure size 432x288 with 1 Axes>"
            ]
          },
          "metadata": {
            "tags": [],
            "needs_background": "light"
          }
        }
      ]
    },
    {
      "cell_type": "markdown",
      "metadata": {
        "id": "6nPlzQj0LbQQ"
      },
      "source": [
        "5. Ответьте на следующие вопросы:\n",
        "    * какое слово встречается чаще, \"сотрудник\" или \"клиент\"?\n",
        "    * сколько раз встречается слова \"мошенничество\" и \"доверие\"?"
      ]
    },
    {
      "cell_type": "code",
      "metadata": {
        "id": "D5fkP9DPw2ze",
        "colab": {
          "base_uri": "https://localhost:8080/"
        },
        "outputId": "688d64be-4d3c-451a-829c-3aafecc9ffe5"
      },
      "source": [
        "freq_dict.most_common(10)"
      ],
      "execution_count": 36,
      "outputs": [
        {
          "output_type": "execute_result",
          "data": {
            "text/plain": [
              "[('банк', 668563),\n",
              " ('карта', 334999),\n",
              " ('деньга', 179819),\n",
              " ('день', 173116),\n",
              " ('мой', 163042),\n",
              " ('кредит', 156177),\n",
              " ('отделение', 144050),\n",
              " ('клиент', 136892),\n",
              " ('сотрудник', 134168),\n",
              " ('счёт', 126894)]"
            ]
          },
          "metadata": {
            "tags": []
          },
          "execution_count": 36
        }
      ]
    },
    {
      "cell_type": "markdown",
      "metadata": {
        "id": "j1vR3rTQLrnH"
      },
      "source": [
        "Слово \"клиент\" встречается чаще чем \"сотрудник\"."
      ]
    },
    {
      "cell_type": "code",
      "metadata": {
        "id": "22WdEQQVGmG4",
        "colab": {
          "base_uri": "https://localhost:8080/"
        },
        "outputId": "a291c57a-0750-4e87-ef08-f1cd83a09125"
      },
      "source": [
        "[(k, v) for k, v in freq_dict.items() if k in ['мошенничество', 'доверие']]"
      ],
      "execution_count": 37,
      "outputs": [
        {
          "output_type": "execute_result",
          "data": {
            "text/plain": [
              "[('доверие', 2108), ('мошенничество', 3244)]"
            ]
          },
          "metadata": {
            "tags": []
          },
          "execution_count": 37
        }
      ]
    },
    {
      "cell_type": "markdown",
      "metadata": {
        "id": "5CVxR5owNkXH"
      },
      "source": [
        "Слово \"мошенничество\" встречается 3244 раза, слово \"доверие\" - 2108 раз."
      ]
    },
    {
      "cell_type": "markdown",
      "metadata": {
        "id": "mN1GDwwyOZam"
      },
      "source": [
        "6. В поле \"rating_grade\" записана оценка отзыва по шкале от 1 до 5. Используйте меру $tf-idf$, для того, чтобы найти ключевые слова и биграмы для положительных отзывов (с оценкой 5) и отрицательных отзывов (с оценкой 1)"
      ]
    },
    {
      "cell_type": "code",
      "metadata": {
        "id": "VEPEav4CDZJG"
      },
      "source": [
        "# df.text = df.text.apply(remove_stopwords)"
      ],
      "execution_count": 38,
      "outputs": []
    },
    {
      "cell_type": "code",
      "metadata": {
        "id": "f8U-B32L8c6J"
      },
      "source": [
        "best_ratings = ' '.join(df.loc[df.rating_grade == 5, 'text'].values)\n",
        "worst_ratings = ' '.join(df.loc[df.rating_grade == 1, 'text'].values)"
      ],
      "execution_count": 39,
      "outputs": []
    },
    {
      "cell_type": "code",
      "metadata": {
        "id": "Qz16NudM8_S2"
      },
      "source": [
        "tfidf = TfidfVectorizer(analyzer='word', ngram_range=(1,2), min_df = 0)\n",
        "tfidf_matrix =  tfidf.fit_transform([best_ratings, worst_ratings])\n",
        "feature_names = tfidf.get_feature_names() \n",
        "dense = tfidf_matrix.todense()"
      ],
      "execution_count": 40,
      "outputs": []
    },
    {
      "cell_type": "code",
      "metadata": {
        "id": "sIviBzcf_dpg"
      },
      "source": [
        "scores_best = dense[0].tolist()[0]\n",
        "scores_worst = dense[1].tolist()[0]\n",
        "tuples_best = [pair for pair in zip(range(0, len(scores_best)), scores_best) if pair[1] > 0]\n",
        "tuples_worst = [pair for pair in zip(range(0, len(scores_worst)), scores_worst) if pair[1] > 0]\n",
        "sorted_best = sorted(tuples_best, key=lambda t: t[1] * -1)\n",
        "sorted_worst = sorted(tuples_worst, key=lambda t: t[1] * -1)"
      ],
      "execution_count": 41,
      "outputs": []
    },
    {
      "cell_type": "code",
      "metadata": {
        "id": "lOFlq8BlGmG2"
      },
      "source": [
        "tfidf_keywords_best = []\n",
        "tfidf_scores_best = []\n",
        "for phrase, score in [(feature_names[word_id], score) for (word_id, score) in sorted_best][:20]:\n",
        "    tfidf_keywords_best.append(phrase)\n",
        "    tfidf_scores_best.append(score)"
      ],
      "execution_count": 42,
      "outputs": []
    },
    {
      "cell_type": "code",
      "metadata": {
        "id": "oq36q1EWdbow"
      },
      "source": [
        "tfidf_keywords_worst = []\n",
        "tfidf_scores_worst = []\n",
        "for phrase, score in [(feature_names[word_id], score) for (word_id, score) in sorted_worst][:20]:\n",
        "    tfidf_keywords_worst.append(phrase)\n",
        "    tfidf_scores_worst.append(score)"
      ],
      "execution_count": 43,
      "outputs": []
    },
    {
      "cell_type": "code",
      "metadata": {
        "id": "UoIzgxDpZMMU",
        "colab": {
          "base_uri": "https://localhost:8080/",
          "height": 363
        },
        "outputId": "954a700d-6437-4a47-a29e-8326aa61b51d"
      },
      "source": [
        "tfidf_rankings = pd.DataFrame({'best_keywords': tfidf_keywords_best, 'worst_keywords': tfidf_keywords_worst, \n",
        "                               'best_keywords_scores': tfidf_scores_best, 'worst_keywords_scores': tfidf_scores_worst})\n",
        "tfidf_rankings.head(10)"
      ],
      "execution_count": 44,
      "outputs": [
        {
          "output_type": "execute_result",
          "data": {
            "text/html": [
              "<div>\n",
              "<style scoped>\n",
              "    .dataframe tbody tr th:only-of-type {\n",
              "        vertical-align: middle;\n",
              "    }\n",
              "\n",
              "    .dataframe tbody tr th {\n",
              "        vertical-align: top;\n",
              "    }\n",
              "\n",
              "    .dataframe thead th {\n",
              "        text-align: right;\n",
              "    }\n",
              "</style>\n",
              "<table border=\"1\" class=\"dataframe\">\n",
              "  <thead>\n",
              "    <tr style=\"text-align: right;\">\n",
              "      <th></th>\n",
              "      <th>best_keywords</th>\n",
              "      <th>worst_keywords</th>\n",
              "      <th>best_keywords_scores</th>\n",
              "      <th>worst_keywords_scores</th>\n",
              "    </tr>\n",
              "  </thead>\n",
              "  <tbody>\n",
              "    <tr>\n",
              "      <th>0</th>\n",
              "      <td>банк</td>\n",
              "      <td>банк</td>\n",
              "      <td>0.653257</td>\n",
              "      <td>0.574603</td>\n",
              "    </tr>\n",
              "    <tr>\n",
              "      <th>1</th>\n",
              "      <td>карта</td>\n",
              "      <td>карта</td>\n",
              "      <td>0.251269</td>\n",
              "      <td>0.292158</td>\n",
              "    </tr>\n",
              "    <tr>\n",
              "      <th>2</th>\n",
              "      <td>очень</td>\n",
              "      <td>деньга</td>\n",
              "      <td>0.156937</td>\n",
              "      <td>0.175303</td>\n",
              "    </tr>\n",
              "    <tr>\n",
              "      <th>3</th>\n",
              "      <td>день</td>\n",
              "      <td>день</td>\n",
              "      <td>0.136249</td>\n",
              "      <td>0.165934</td>\n",
              "    </tr>\n",
              "    <tr>\n",
              "      <th>4</th>\n",
              "      <td>кредит</td>\n",
              "      <td>мой</td>\n",
              "      <td>0.136119</td>\n",
              "      <td>0.152553</td>\n",
              "    </tr>\n",
              "    <tr>\n",
              "      <th>5</th>\n",
              "      <td>клиент</td>\n",
              "      <td>отделение</td>\n",
              "      <td>0.133179</td>\n",
              "      <td>0.150005</td>\n",
              "    </tr>\n",
              "    <tr>\n",
              "      <th>6</th>\n",
              "      <td>отделение</td>\n",
              "      <td>кредит</td>\n",
              "      <td>0.130189</td>\n",
              "      <td>0.134430</td>\n",
              "    </tr>\n",
              "    <tr>\n",
              "      <th>7</th>\n",
              "      <td>сотрудник</td>\n",
              "      <td>сотрудник</td>\n",
              "      <td>0.117870</td>\n",
              "      <td>0.133428</td>\n",
              "    </tr>\n",
              "    <tr>\n",
              "      <th>8</th>\n",
              "      <td>деньга</td>\n",
              "      <td>счёт</td>\n",
              "      <td>0.116900</td>\n",
              "      <td>0.124497</td>\n",
              "    </tr>\n",
              "    <tr>\n",
              "      <th>9</th>\n",
              "      <td>вклад</td>\n",
              "      <td>клиент</td>\n",
              "      <td>0.116131</td>\n",
              "      <td>0.120168</td>\n",
              "    </tr>\n",
              "  </tbody>\n",
              "</table>\n",
              "</div>"
            ],
            "text/plain": [
              "  best_keywords worst_keywords  best_keywords_scores  worst_keywords_scores\n",
              "0          банк           банк              0.653257               0.574603\n",
              "1         карта          карта              0.251269               0.292158\n",
              "2         очень         деньга              0.156937               0.175303\n",
              "3          день           день              0.136249               0.165934\n",
              "4        кредит            мой              0.136119               0.152553\n",
              "5        клиент      отделение              0.133179               0.150005\n",
              "6     отделение         кредит              0.130189               0.134430\n",
              "7     сотрудник      сотрудник              0.117870               0.133428\n",
              "8        деньга           счёт              0.116900               0.124497\n",
              "9         вклад         клиент              0.116131               0.120168"
            ]
          },
          "metadata": {
            "tags": []
          },
          "execution_count": 44
        }
      ]
    },
    {
      "cell_type": "markdown",
      "metadata": {
        "id": "LaRgfSEHrUJc"
      },
      "source": [
        "---"
      ]
    },
    {
      "cell_type": "markdown",
      "metadata": {
        "id": "twaUVttEGmG6"
      },
      "source": [
        "## Часть 2. Тематическое моделирование [20/100]\n",
        "\n",
        "1. Постройте несколько тематических моделей коллекции документов с разным числом тем. Приведите примеры понятных (интерпретируемых) тем.\n",
        "2. Найдите темы, в которых упомянуты конкретные банки (Сбербанк, ВТБ, другой банк). Можете ли вы их прокомментировать / объяснить?\n",
        "\n",
        "Эта часть задания может быть сделана с использованием gensim. "
      ]
    },
    {
      "cell_type": "markdown",
      "metadata": {
        "id": "7_NfvmPJczya"
      },
      "source": [
        "---"
      ]
    },
    {
      "cell_type": "code",
      "metadata": {
        "id": "FgDU5EdCYnDv"
      },
      "source": [
        "from gensim.corpora import Dictionary\n",
        "from gensim.models import TfidfModel\n",
        "from gensim import similarities\n",
        "from gensim.models import lsimodel"
      ],
      "execution_count": 45,
      "outputs": []
    },
    {
      "cell_type": "code",
      "metadata": {
        "id": "WP4FZM-3Ymzc"
      },
      "source": [
        "texts = [text.split() for text in df.text]\n",
        "dictionary = Dictionary(texts)\n",
        "corpus = [dictionary.doc2bow(text) for text in texts]"
      ],
      "execution_count": 46,
      "outputs": []
    },
    {
      "cell_type": "code",
      "metadata": {
        "id": "WEs_GD1NY6KE"
      },
      "source": [
        "tfidf = TfidfModel(corpus)\n",
        "corpus_tfidf = tfidf[corpus]"
      ],
      "execution_count": 47,
      "outputs": []
    },
    {
      "cell_type": "markdown",
      "metadata": {
        "id": "EHbJJ5b5csxO"
      },
      "source": [
        "1. Постройте несколько тематических моделей коллекции документов с разным числом тем. Приведите примеры понятных (интерпретируемых) тем."
      ]
    },
    {
      "cell_type": "code",
      "metadata": {
        "id": "7f7kqktRY517"
      },
      "source": [
        "lsi_30 = lsimodel.LsiModel(corpus=corpus_tfidf, id2word=dictionary, num_topics=30)"
      ],
      "execution_count": 48,
      "outputs": []
    },
    {
      "cell_type": "code",
      "metadata": {
        "id": "sfEuNh1DCu1t",
        "colab": {
          "base_uri": "https://localhost:8080/"
        },
        "outputId": "60f596c3-18cd-4400-990b-58ad29cd7fff"
      },
      "source": [
        "[lsi_30.show_topics(30)[i] for i in [0, 1]]"
      ],
      "execution_count": 49,
      "outputs": [
        {
          "output_type": "execute_result",
          "data": {
            "text/plain": [
              "[(0,\n",
              "  '0.195*\"карта\" + 0.133*\"кредит\" + 0.115*\"деньга\" + 0.109*\"заявление\" + 0.107*\"счёт\" + 0.101*\"банкомат\" + 0.101*\"вклад\" + 0.100*\"отделение\" + 0.097*\"сбербанк\" + 0.096*\"сумма\"'),\n",
              " (1,\n",
              "  '-0.373*\"кредит\" + 0.312*\"вклад\" + 0.253*\"банкомат\" + 0.197*\"карта\" + -0.175*\"страховка\" + -0.141*\"задолженность\" + -0.139*\"погашение\" + 0.136*\"деньга\" + -0.135*\"платёж\" + -0.119*\"договор\"')]"
            ]
          },
          "metadata": {
            "tags": []
          },
          "execution_count": 49
        }
      ]
    },
    {
      "cell_type": "code",
      "metadata": {
        "id": "ax3ACg6j9F61"
      },
      "source": [
        "lsi_10 = lsimodel.LsiModel(corpus=corpus_tfidf, id2word=dictionary, num_topics=10)"
      ],
      "execution_count": 50,
      "outputs": []
    },
    {
      "cell_type": "code",
      "metadata": {
        "id": "H-C94oD_9XQO",
        "colab": {
          "base_uri": "https://localhost:8080/"
        },
        "outputId": "d8440217-ff94-4243-8d5a-e6903b50b8dc"
      },
      "source": [
        "lsi_10.show_topics(10)[6]"
      ],
      "execution_count": 51,
      "outputs": [
        {
          "output_type": "execute_result",
          "data": {
            "text/plain": [
              "(6,\n",
              " '0.266*\"сбербанк\" + 0.200*\"заявка\" + 0.199*\"заявление\" + 0.195*\"страховка\" + -0.195*\"платёж\" + 0.171*\"страхование\" + 0.157*\"документ\" + 0.147*\"денежный\" + -0.145*\"задолженность\" + 0.141*\"рассмотрение\"')"
            ]
          },
          "metadata": {
            "tags": []
          },
          "execution_count": 51
        }
      ]
    },
    {
      "cell_type": "markdown",
      "metadata": {
        "id": "RZGw8XjFYUJK"
      },
      "source": [
        "Примеры интерпретируемых тем, при количестве тем 30:\n",
        "- [\"карта\", \"кредит\", \"деньга\", \"заявление\", \"счёт\", \"банкомат\", \"вклад\", \"отделение\", \"сбербанк\", \"сумма\"]\n",
        "- [\"вклад\", \"кредит\", \"банкомат\", \"карта\", \"страховка\", \"задолженность\", \"платёж\", \"погашение\", \"деньга\", \"погасить\"]  \n",
        "\n",
        "Примеры интерпретируемых тем, при количестве тем 10:\n",
        "- [\"сбербанк\", \"заявление\", \"заявка\", \"страховка\", \"платёж\", \"страхование\", \"документ\", \"денежный\", \"задолженность\", \"рассмотрение\"]"
      ]
    },
    {
      "cell_type": "markdown",
      "metadata": {
        "id": "N0rmY6mipuQC"
      },
      "source": [
        "2. Найдите темы, в которых упомянуты конкретные банки (Сбербанк, ВТБ, другой банк). Можете ли вы их прокомментировать / объяснить?"
      ]
    },
    {
      "cell_type": "code",
      "metadata": {
        "id": "aC8krQeG9X2z"
      },
      "source": [
        "lsi_60 = lsimodel.LsiModel(corpus=corpus_tfidf, id2word=dictionary, num_topics=60)"
      ],
      "execution_count": 52,
      "outputs": []
    },
    {
      "cell_type": "code",
      "metadata": {
        "colab": {
          "base_uri": "https://localhost:8080/"
        },
        "id": "K2raAgszdG61",
        "outputId": "1f30bcab-9558-45d8-ed2e-2c9589cb56f1"
      },
      "source": [
        "[lsi_60.show_topics(60)[i] for i in [8, 31]]"
      ],
      "execution_count": 53,
      "outputs": [
        {
          "output_type": "execute_result",
          "data": {
            "text/plain": [
              "[(8,\n",
              "  '0.269*\"страховка\" + 0.251*\"банкомат\" + 0.183*\"страхование\" + -0.176*\"платёж\" + 0.159*\"комиссия\" + 0.158*\"альфа\" + 0.155*\"услуга\" + -0.153*\"сбербанк\" + -0.138*\"вклад\" + -0.126*\"заявка\"'),\n",
              " (31,\n",
              "  '-0.407*\"справка\" + -0.210*\"услуга\" + -0.187*\"средство\" + -0.167*\"платёж\" + -0.166*\"денежный\" + 0.159*\"письмо\" + 0.157*\"претензия\" + -0.123*\"альфа\" + 0.123*\"задолженность\" + -0.119*\"кошелёк\"')]"
            ]
          },
          "metadata": {
            "tags": []
          },
          "execution_count": 53
        }
      ]
    },
    {
      "cell_type": "markdown",
      "metadata": {
        "id": "QnB0EXdohXru"
      },
      "source": [
        "8: [\"банкомат\", \"страховка\", \"платёж\", \"сбербанк\", \"страхование\", \"альфа\", \"услуга\", \"комиссия\", \"погашение\", \"страховой\"]  \n",
        "Тема может быть связана с оплатой услуги страхования от компании \"Альфа страхование\" через банкомат Сбербанка.  \n",
        "\n",
        "31: [\"втб\", \"платёж\", \"заявление\", \"претензия\", \"договор\", \"услуга\", \"очередь\", \"средство\", \"денежный\"]  \n",
        "Эта тема, возможно, связана с претензией на очередь при обращении в банк ВТБ.  \n"
      ]
    },
    {
      "cell_type": "markdown",
      "metadata": {
        "id": "jIQaHnRKrWwx"
      },
      "source": [
        "---"
      ]
    },
    {
      "cell_type": "markdown",
      "metadata": {
        "id": "Pa3U5M7tGmG6"
      },
      "source": [
        "## Часть 3. Классификация текстов [40/100]\n",
        "\n",
        "Сформулируем для простоты задачу бинарной классификации: будем классифицировать на два класса, то есть, различать резко отрицательные отзывы (с оценкой 1) и положительные отзывы (с оценкой 5). \n",
        "\n",
        "1.  Составьте обучающее и тестовое множество: выберите из всего набора данных N1 отзывов с оценкой 1 и N2 отзывов с оценкой 5 (значение N1 и N2 – на ваше усмотрение). Используйте ```sklearn.model_selection.train_test_split``` для разделения множества отобранных документов на обучающее и тестовое. \n",
        "2. Используйте любой известный вам алгоритм классификации текстов для решения задачи и получите baseline. Сравните разные варианты векторизации текста: использование только униграм, пар или троек слов или с использованием символьных $n$-грам. \n",
        "3. Сравните, как изменяется качество решения задачи при использовании скрытых тем в качестве признаков:\n",
        "* 1-ый вариант: $tf-idf$ преобразование (```sklearn.feature_extraction.text.TfidfTransformer```) и сингулярное разложение (оно же – латентый семантический анализ) (```sklearn.decomposition.TruncatedSVD```), \n",
        "* 2-ой вариант: тематические модели LDA (```sklearn.decomposition.LatentDirichletAllocation```). \n",
        "\n",
        "Используйте accuracy и F-measure для оценки качества классификации. \n",
        "\n",
        "Ниже написан примерный Pipeline для классификации текстов. \n",
        "\n",
        "Эта часть задания может быть сделана с использованием sklearn. "
      ]
    },
    {
      "cell_type": "markdown",
      "metadata": {
        "id": "t5dWOx2otE1g"
      },
      "source": [
        "---"
      ]
    },
    {
      "cell_type": "code",
      "metadata": {
        "id": "pTItVjVbYTM4"
      },
      "source": [
        "np.random.seed(7)\n",
        "N1 = 20000\n",
        "N2 = 14000"
      ],
      "execution_count": 54,
      "outputs": []
    },
    {
      "cell_type": "code",
      "metadata": {
        "id": "lNmFsYcKGmGy"
      },
      "source": [
        "worst_ind = np.random.permutation(df.loc[df.rating_grade == 1].index)[:N1]\n",
        "best_ind = np.random.permutation(df.loc[df.rating_grade == 5].index)[:N2]"
      ],
      "execution_count": 55,
      "outputs": []
    },
    {
      "cell_type": "code",
      "metadata": {
        "id": "V-7cx6mQHcuQ"
      },
      "source": [
        "data = df.query('index in @best_ind or index in @worst_ind')"
      ],
      "execution_count": 56,
      "outputs": []
    },
    {
      "cell_type": "code",
      "metadata": {
        "id": "rQY7Xo18YUZC"
      },
      "source": [
        "X_train, X_test, y_train, y_test = train_test_split(data.text, data.rating_grade)"
      ],
      "execution_count": 57,
      "outputs": []
    },
    {
      "cell_type": "code",
      "metadata": {
        "colab": {
          "base_uri": "https://localhost:8080/"
        },
        "id": "WI3B8Tr7n668",
        "outputId": "6a2cd879-69cc-48dc-e84c-1105d63894a2"
      },
      "source": [
        "# Классификация с использованием униграмм\n",
        "%%time\n",
        "pipe_baseline1 = Pipeline([\n",
        "                          ('vect1', CountVectorizer(ngram_range=(1, 1))),\n",
        "                          ('tfidf', TfidfTransformer()), \n",
        "                          ('clf', RandomForestClassifier())\n",
        "                          ])\n",
        "pipe_baseline1.fit(X_train, y_train)\n",
        "print(classification_report(y_test, pipe_baseline1.predict(X_test)))"
      ],
      "execution_count": 58,
      "outputs": [
        {
          "output_type": "stream",
          "text": [
            "              precision    recall  f1-score   support\n",
            "\n",
            "         1.0       0.90      0.97      0.93      5060\n",
            "         5.0       0.95      0.85      0.89      3440\n",
            "\n",
            "    accuracy                           0.92      8500\n",
            "   macro avg       0.92      0.91      0.91      8500\n",
            "weighted avg       0.92      0.92      0.92      8500\n",
            "\n",
            "CPU times: user 1min 3s, sys: 115 ms, total: 1min 3s\n",
            "Wall time: 1min 3s\n"
          ],
          "name": "stdout"
        }
      ]
    },
    {
      "cell_type": "code",
      "metadata": {
        "colab": {
          "base_uri": "https://localhost:8080/"
        },
        "id": "URkTLj-Scm_J",
        "outputId": "d73d408c-1d23-4f76-bc83-873e2efcc7c4"
      },
      "source": [
        "# Классификация с использованием биграмм\n",
        "%%time\n",
        "pipe_baseline2 = Pipeline([\n",
        "                          ('vect2', CountVectorizer(ngram_range=(2, 2))),\n",
        "                          ('tfidf', TfidfTransformer()), \n",
        "                          ('clf', RandomForestClassifier())\n",
        "                          ])\n",
        "pipe_baseline2.fit(X_train, y_train)\n",
        "print(classification_report(y_test, pipe_baseline2.predict(X_test)))"
      ],
      "execution_count": 59,
      "outputs": [
        {
          "output_type": "stream",
          "text": [
            "              precision    recall  f1-score   support\n",
            "\n",
            "         1.0       0.88      0.95      0.92      5060\n",
            "         5.0       0.92      0.81      0.86      3440\n",
            "\n",
            "    accuracy                           0.89      8500\n",
            "   macro avg       0.90      0.88      0.89      8500\n",
            "weighted avg       0.90      0.89      0.89      8500\n",
            "\n",
            "CPU times: user 8min 10s, sys: 362 ms, total: 8min 10s\n",
            "Wall time: 8min 10s\n"
          ],
          "name": "stdout"
        }
      ]
    },
    {
      "cell_type": "code",
      "metadata": {
        "colab": {
          "base_uri": "https://localhost:8080/"
        },
        "id": "y5NVL0D1py7k",
        "outputId": "74dbf7f2-1302-46b8-a6d2-7aab6bc21d5f"
      },
      "source": [
        "# Классификация с использованием триграмм\n",
        "%%time\n",
        "pipe_baseline3 = Pipeline([\n",
        "                          ('vect3', CountVectorizer(ngram_range=(3, 3))),\n",
        "                          ('tfidf', TfidfTransformer()), \n",
        "                          ('clf', RandomForestClassifier())\n",
        "                          ])\n",
        "pipe_baseline3.fit(X_train, y_train)\n",
        "print(classification_report(y_test, pipe_baseline3.predict(X_test)))"
      ],
      "execution_count": 60,
      "outputs": [
        {
          "output_type": "stream",
          "text": [
            "              precision    recall  f1-score   support\n",
            "\n",
            "         1.0       0.76      0.92      0.83      5060\n",
            "         5.0       0.83      0.57      0.68      3440\n",
            "\n",
            "    accuracy                           0.78      8500\n",
            "   macro avg       0.80      0.75      0.76      8500\n",
            "weighted avg       0.79      0.78      0.77      8500\n",
            "\n",
            "CPU times: user 23min 15s, sys: 1.14 s, total: 23min 17s\n",
            "Wall time: 23min 12s\n"
          ],
          "name": "stdout"
        }
      ]
    },
    {
      "cell_type": "code",
      "metadata": {
        "colab": {
          "base_uri": "https://localhost:8080/"
        },
        "id": "KbFWaTFwxOnn",
        "outputId": "3292527c-c9a9-48da-e215-41416fb48cd0"
      },
      "source": [
        "# Классификация с использованием скрытых факторов (модель LSA)\n",
        "%%time\n",
        "pipe = Pipeline([ \n",
        "    ('tfidf', TfidfVectorizer()), \n",
        "    ('tsvd', TruncatedSVD(n_components=150, random_state=7)), \n",
        "    ('clf', RandomForestClassifier())\n",
        "])\n",
        "pipe.fit(X_train, y_train)\n",
        "print(classification_report(y_test, pipe.predict(X_test)))"
      ],
      "execution_count": 61,
      "outputs": [
        {
          "output_type": "stream",
          "text": [
            "              precision    recall  f1-score   support\n",
            "\n",
            "         1.0       0.86      0.95      0.90      5060\n",
            "         5.0       0.92      0.77      0.84      3440\n",
            "\n",
            "    accuracy                           0.88      8500\n",
            "   macro avg       0.89      0.86      0.87      8500\n",
            "weighted avg       0.88      0.88      0.88      8500\n",
            "\n",
            "CPU times: user 59.7 s, sys: 2.34 s, total: 1min 2s\n",
            "Wall time: 57.3 s\n"
          ],
          "name": "stdout"
        }
      ]
    },
    {
      "cell_type": "markdown",
      "metadata": {
        "id": "9G4Spr-bRAWG"
      },
      "source": [
        "Наилучшее качество классификации показала модель, использующая униграммы. Качество модели LSA, использующей скрытые факторы, оказалось немного хуже чем у модели, использующей биграммы."
      ]
    }
  ]
}