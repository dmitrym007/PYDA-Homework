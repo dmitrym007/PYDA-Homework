{
 "cells": [
  {
   "cell_type": "code",
   "execution_count": 1,
   "metadata": {},
   "outputs": [],
   "source": [
    "import numpy as np\n",
    "from scipy.optimize import approx_fprime, minimize "
   ]
  },
  {
   "cell_type": "markdown",
   "metadata": {},
   "source": [
    "### Задание 1\n",
    "\n",
    "Придумайте функции со следующими свойствами (в a) b) c) область определения X любая, какая вам удобна, главное - функция с нужными свойствами):\n",
    "\n",
    "a) бесконечное количество локальных экстремумов\n",
    "\n",
    "b) 2 локальных экстремума\n",
    "\n",
    "с) 3 локальных экстремума\n",
    "\n",
    "d*) область определения функции - 1 точка\n"
   ]
  },
  {
   "cell_type": "markdown",
   "metadata": {},
   "source": [
    "a) Функция f(x)=sin(x) имеет бесконечное множество локальных экстремумов\n",
    "\n",
    "b) Производная функции должна иметь не менее 2 корней. Т.о. функция может быть многочленом 3-й степени. \n",
    "   Если исследовать вторую производную, то можно подобрать такой многочлен.\n",
    "   Наример: \\begin{equation*} f(x)=x^3-x \\end{equation*}\n",
    "   \n",
    "c) Также как и в предыдущем задании, можно искать функцию среди многочленов 4-й степени, чтобы его производная имела \n",
    "   3 корня и корни второй производной не совпадали с корнями первой производной.\n",
    "   Например: \\begin{equation*} f(x)=x^4-x^2 \\end{equation*}\n",
    "\n",
    "d*) Так как мы рассматриваем функции над полем вещественных чисел, то функция \\begin{equation*} f(x)=\\sqrt{-x^2} \\end{equation*} может принимать только одно значение."
   ]
  },
  {
   "cell_type": "markdown",
   "metadata": {},
   "source": [
    "### Задание 2\n",
    "\n",
    "Посчитайте 1-ую и 2-ую производные функции (на бумажке):\n",
    "\n",
    "$f(x) = sin^2(2x+1)$"
   ]
  },
  {
   "cell_type": "markdown",
   "metadata": {},
   "source": [
    "$f'(x)=\\Bigl(\\sin^2(2x+1)\\Bigr)'=2\\sin(2x+1)\\cdot\\Bigl(\\sin(2x+1)\\Bigr)'=2\\sin(2x+1)\\cdot\\cos(2x+1)\\cdot\\Bigl(2x+1\\Bigr)'=\\sin\\Bigl(2\\cdot(2x+1)\\Bigr)\\cdot2=2\\cdot\\sin(4x+2)$"
   ]
  },
  {
   "cell_type": "markdown",
   "metadata": {},
   "source": [
    "$f''(x)=\\Bigl(2\\cdot\\sin(4x+2)\\Bigr)'=2\\cdot\\Bigl(\\sin(4x+2)\\Bigr)'=2\\cdot\\cos(4x+2)\\cdot\\Bigl(4x+2\\Bigr)'=2\\cdot4\\cdot\\cos(4x+2)=8\\cdot\\cos(4x+2)$"
   ]
  },
  {
   "cell_type": "markdown",
   "metadata": {},
   "source": [
    "### Задание 3:\n",
    "\n",
    "Посчитайте частные производные функции в точкe (на бумажке или в LaTeX и на numpy):\n",
    "\n",
    "$f(x,y)=2x^2y^3 + 1/x + y^2x + 7$ в точке $(1,2)$\n"
   ]
  },
  {
   "cell_type": "markdown",
   "metadata": {},
   "source": [
    "$f'_x=\\Bigl(2y^3x^2+\\frac{1}{x}+y^2x+7\\Bigr)'_x=2y^3\\cdot\\Bigl(x^2\\Bigr)'_x+(-1){\\cdot}x^{-2}+y^2=4{\\cdot}y^3x-\\frac{1}{x^2}+y^2$"
   ]
  },
  {
   "cell_type": "markdown",
   "metadata": {},
   "source": [
    "$f'_x(1,2)=4\\cdot2^3-1+2^2=32-1+4=35$"
   ]
  },
  {
   "cell_type": "markdown",
   "metadata": {},
   "source": [
    "$f'_y=\\Bigl(2x^2y^3+\\frac{1}{x}+xy^2+7\\Bigr)'_y=2{\\cdot}x^2\\cdot\\Bigl(y^3\\Bigr)'_y+x\\cdot\\bigl(y^2\\Bigr)'_y=6x^2y^2+2xy$"
   ]
  },
  {
   "cell_type": "markdown",
   "metadata": {},
   "source": [
    "$f'_y(1,2)=6\\cdot2^2+2\\cdot2=24+4=28$"
   ]
  },
  {
   "cell_type": "code",
   "execution_count": 2,
   "metadata": {},
   "outputs": [],
   "source": [
    "def func(x):\n",
    "    return 2 * (x[0]**2) * (x[1])**3 + 1 / x[0] + (x[1]**2) * x[0] + 7"
   ]
  },
  {
   "cell_type": "code",
   "execution_count": 3,
   "metadata": {},
   "outputs": [
    {
     "data": {
      "text/plain": [
       "array([35.00000024, 28.00000024])"
      ]
     },
     "execution_count": 3,
     "metadata": {},
     "output_type": "execute_result"
    }
   ],
   "source": [
    "x = [1, 2]\n",
    "eps = np.sqrt(np.finfo(float).eps)\n",
    "approx_fprime(x, func, [eps, eps])"
   ]
  },
  {
   "cell_type": "markdown",
   "metadata": {},
   "source": [
    "### Задание 4:\n",
    "\n",
    "Градиентный спуск своими руками\n"
   ]
  },
  {
   "cell_type": "code",
   "execution_count": 4,
   "metadata": {},
   "outputs": [],
   "source": [
    "def f(x):\n",
    "    return (x[0]**2) + (x[1]**2)"
   ]
  },
  {
   "cell_type": "code",
   "execution_count": 5,
   "metadata": {},
   "outputs": [],
   "source": [
    "x = np.array([100, 200])\n",
    "lr = 0.1"
   ]
  },
  {
   "cell_type": "code",
   "execution_count": 6,
   "metadata": {},
   "outputs": [],
   "source": [
    "for i in range(100):\n",
    "    grad = np.array([2*x[0], 2*x[1]])\n",
    "    x = x - lr * grad"
   ]
  },
  {
   "cell_type": "code",
   "execution_count": 7,
   "metadata": {},
   "outputs": [
    {
     "name": "stdout",
     "output_type": "stream",
     "text": [
      "Минимум достигается в:  [2.03703598e-08 4.07407195e-08]\n",
      "Значение функции в минимуме:  2.0747577844404994e-15\n"
     ]
    }
   ],
   "source": [
    "print(\"Минимум достигается в: \", x)\n",
    "print(\"Значение функции в минимуме: \", f(x))"
   ]
  },
  {
   "cell_type": "markdown",
   "metadata": {},
   "source": [
    "Проверка с помощью встроенной функции scipy:"
   ]
  },
  {
   "cell_type": "code",
   "execution_count": 8,
   "metadata": {},
   "outputs": [
    {
     "name": "stdout",
     "output_type": "stream",
     "text": [
      "Optimization terminated successfully.\n",
      "         Current function value: 0.000000\n",
      "         Iterations: 72\n",
      "         Function evaluations: 138\n"
     ]
    }
   ],
   "source": [
    "res = minimize(f, [100,200], method='nelder-mead', options={'xtol': 1e-6, 'disp': True})"
   ]
  }
 ],
 "metadata": {
  "kernelspec": {
   "display_name": "Python 3",
   "language": "python",
   "name": "python3"
  },
  "language_info": {
   "codemirror_mode": {
    "name": "ipython",
    "version": 3
   },
   "file_extension": ".py",
   "mimetype": "text/x-python",
   "name": "python",
   "nbconvert_exporter": "python",
   "pygments_lexer": "ipython3",
   "version": "3.7.6"
  }
 },
 "nbformat": 4,
 "nbformat_minor": 4
}
